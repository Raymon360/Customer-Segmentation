{
 "cells": [
  {
   "cell_type": "markdown",
   "metadata": {
    "id": "ppQQNMEnzGqV"
   },
   "source": [
    "# Data Science in Marketing: Customer Segmentation\n",
    "Tujuan melakukan Customer Segmentation untuk lebih mengenal pelanggan supaya perusahaan dapat menyusun pesan pemasaran yang lebih sesuai dengan preferensi setiap pelanggan, menghasilkan interaksi yang lebih personal. Hal ini memungkinkan pemahaman yang lebih mendalam terhadap pelanggan secara individual, memungkinkan perusahaan untuk memahami kebutuhan dan preferensi pelanggan secara lebih baik. Dampaknya adalah penurunan biaya pemasaran, karena strategi yang lebih terarah dan efektif dapat diterapkan, mengurangi pengeluaran yang tidak perlu untuk target yang tidak sesuai."
   ]
  },
  {
   "cell_type": "code",
   "execution_count": 1,
   "metadata": {
    "id": "qBFiIN9Hx8e2"
   },
   "outputs": [
    {
     "data": {
      "text/html": [
       "<table class=\"dataframe\">\n",
       "<caption>A data.frame: 50 × 7</caption>\n",
       "<thead>\n",
       "\t<tr><th scope=col>Customer_ID</th><th scope=col>Nama.Pelanggan</th><th scope=col>Jenis.Kelamin</th><th scope=col>Umur</th><th scope=col>Profesi</th><th scope=col>Tipe.Residen</th><th scope=col>NilaiBelanjaSetahun</th></tr>\n",
       "\t<tr><th scope=col>&lt;chr&gt;</th><th scope=col>&lt;chr&gt;</th><th scope=col>&lt;chr&gt;</th><th scope=col>&lt;int&gt;</th><th scope=col>&lt;chr&gt;</th><th scope=col>&lt;chr&gt;</th><th scope=col>&lt;int&gt;</th></tr>\n",
       "</thead>\n",
       "<tbody>\n",
       "\t<tr><td>CUST-001</td><td>Budi Anggara         </td><td>Pria  </td><td>58</td><td>Wiraswasta      </td><td>Sector </td><td> 9497927</td></tr>\n",
       "\t<tr><td>CUST-002</td><td>Shirley Ratuwati     </td><td>Wanita</td><td>14</td><td>Pelajar         </td><td>Cluster</td><td> 2722700</td></tr>\n",
       "\t<tr><td>CUST-003</td><td>Agus Cahyono         </td><td>Pria  </td><td>48</td><td>Professional    </td><td>Cluster</td><td> 5286429</td></tr>\n",
       "\t<tr><td>CUST-004</td><td>Antonius Winarta     </td><td>Pria  </td><td>53</td><td>Professional    </td><td>Cluster</td><td> 5204498</td></tr>\n",
       "\t<tr><td>CUST-005</td><td>Ibu Sri Wahyuni, IR  </td><td>Wanita</td><td>41</td><td>Wiraswasta      </td><td>Cluster</td><td>10615206</td></tr>\n",
       "\t<tr><td>CUST-006</td><td>Rosalina Kurnia      </td><td>Wanita</td><td>24</td><td>Professional    </td><td>Cluster</td><td> 5215541</td></tr>\n",
       "\t<tr><td>CUST-007</td><td>Cahyono, Agus        </td><td>Pria  </td><td>64</td><td>Wiraswasta      </td><td>Sector </td><td> 9837260</td></tr>\n",
       "\t<tr><td>CUST-008</td><td>Danang Santosa       </td><td>Pria  </td><td>52</td><td>Professional    </td><td>Cluster</td><td> 5223569</td></tr>\n",
       "\t<tr><td>CUST-009</td><td>Elisabeth Suryadinata</td><td>Wanita</td><td>29</td><td>Professional    </td><td>Sector </td><td> 5993218</td></tr>\n",
       "\t<tr><td>CUST-010</td><td>Mario Setiawan       </td><td>Pria  </td><td>33</td><td>Professional    </td><td>Cluster</td><td> 5257448</td></tr>\n",
       "\t<tr><td>CUST-011</td><td>Maria Suryawan       </td><td>Wanita</td><td>50</td><td>Professional    </td><td>Sector </td><td> 5987367</td></tr>\n",
       "\t<tr><td>CUST-012</td><td>Erliana Widjaja      </td><td>Wanita</td><td>49</td><td>Professional    </td><td>Sector </td><td> 5941914</td></tr>\n",
       "\t<tr><td>CUST-013</td><td>Cahaya Putri         </td><td>Wanita</td><td>64</td><td>Wiraswasta      </td><td>Cluster</td><td> 9333168</td></tr>\n",
       "\t<tr><td>CUST-014</td><td>Mario Setiawan       </td><td>Pria  </td><td>60</td><td>Wiraswasta      </td><td>Cluster</td><td> 9471615</td></tr>\n",
       "\t<tr><td>CUST-015</td><td>Shirley Ratuwati     </td><td>Wanita</td><td>20</td><td>Wiraswasta      </td><td>Cluster</td><td>10365668</td></tr>\n",
       "\t<tr><td>CUST-016</td><td>Bambang Rudi         </td><td>Pria  </td><td>35</td><td>Professional    </td><td>Cluster</td><td> 5262521</td></tr>\n",
       "\t<tr><td>CUST-017</td><td>Yuni Sari            </td><td>Wanita</td><td>32</td><td>Ibu Rumah Tangga</td><td>Cluster</td><td> 5677762</td></tr>\n",
       "\t<tr><td>CUST-018</td><td>Nelly Halim          </td><td>Wanita</td><td>63</td><td>Ibu Rumah Tangga</td><td>Cluster</td><td> 5340690</td></tr>\n",
       "\t<tr><td>CUST-019</td><td>Mega Pranoto         </td><td>Wanita</td><td>32</td><td>Wiraswasta      </td><td>Cluster</td><td>10884508</td></tr>\n",
       "\t<tr><td>CUST-020</td><td>Irene Novianto       </td><td>Wanita</td><td>16</td><td>Pelajar         </td><td>Sector </td><td> 2896845</td></tr>\n",
       "\t<tr><td>CUST-021</td><td>Lestari Fabianto     </td><td>Wanita</td><td>38</td><td>Wiraswasta      </td><td>Cluster</td><td> 9222070</td></tr>\n",
       "\t<tr><td>CUST-022</td><td>Novita Purba         </td><td>Wanita</td><td>52</td><td>Professional    </td><td>Cluster</td><td> 5298157</td></tr>\n",
       "\t<tr><td>CUST-023</td><td>Denny Amiruddin      </td><td>Pria  </td><td>34</td><td>Professional    </td><td>Cluster</td><td> 5239290</td></tr>\n",
       "\t<tr><td>CUST-024</td><td>Putri Ginting        </td><td>Wanita</td><td>39</td><td>Wiraswasta      </td><td>Cluster</td><td>10259572</td></tr>\n",
       "\t<tr><td>CUST-025</td><td>Julia Setiawan       </td><td>Wanita</td><td>29</td><td>Wiraswasta      </td><td>Sector </td><td>10721998</td></tr>\n",
       "\t<tr><td>CUST-026</td><td>Christine Winarto    </td><td>Wanita</td><td>55</td><td>Professional    </td><td>Cluster</td><td> 5269392</td></tr>\n",
       "\t<tr><td>CUST-027</td><td>Grace Mulyati        </td><td>Wanita</td><td>35</td><td>Wiraswasta      </td><td>Cluster</td><td> 9114159</td></tr>\n",
       "\t<tr><td>CUST-028</td><td>Adeline Huang        </td><td>Wanita</td><td>40</td><td>Ibu Rumah Tangga</td><td>Cluster</td><td> 6631680</td></tr>\n",
       "\t<tr><td>CUST-029</td><td>Tia Hartanti         </td><td>Wanita</td><td>56</td><td>Professional    </td><td>Cluster</td><td> 5271845</td></tr>\n",
       "\t<tr><td>CUST-030</td><td>Rosita Saragih       </td><td>Wanita</td><td>46</td><td>Ibu Rumah Tangga</td><td>Sector </td><td> 5020976</td></tr>\n",
       "\t<tr><td>CUST-031</td><td>Eviana Handry        </td><td>Wanita</td><td>19</td><td>Mahasiswa       </td><td>Cluster</td><td> 3042773</td></tr>\n",
       "\t<tr><td>CUST-032</td><td>Chintya Winarni      </td><td>Wanita</td><td>47</td><td>Wiraswasta      </td><td>Sector </td><td>10663179</td></tr>\n",
       "\t<tr><td>CUST-033</td><td>Cecilia Kusnadi      </td><td>Wanita</td><td>19</td><td>Mahasiswa       </td><td>Cluster</td><td> 3047926</td></tr>\n",
       "\t<tr><td>CUST-034</td><td>Deasy Arisandi       </td><td>Wanita</td><td>21</td><td>Wiraswasta      </td><td>Sector </td><td> 9759822</td></tr>\n",
       "\t<tr><td>CUST-035</td><td>Ida Ayu              </td><td>Wanita</td><td>39</td><td>Professional    </td><td>Sector </td><td> 5962575</td></tr>\n",
       "\t<tr><td>CUST-036</td><td>Ni Made Suasti       </td><td>Wanita</td><td>30</td><td>Wiraswasta      </td><td>Cluster</td><td> 9678994</td></tr>\n",
       "\t<tr><td>CUST-037</td><td>Felicia Tandiono     </td><td>Wanita</td><td>25</td><td>Professional    </td><td>Sector </td><td> 5972787</td></tr>\n",
       "\t<tr><td>CUST-038</td><td>Agatha Salim         </td><td>Wanita</td><td>46</td><td>Wiraswasta      </td><td>Sector </td><td>10477127</td></tr>\n",
       "\t<tr><td>CUST-039</td><td>Gina Hidayat         </td><td>Wanita</td><td>20</td><td>Professional    </td><td>Cluster</td><td> 5257775</td></tr>\n",
       "\t<tr><td>CUST-040</td><td>Irene Darmawan       </td><td>Wanita</td><td>14</td><td>Pelajar         </td><td>Sector </td><td> 2861855</td></tr>\n",
       "\t<tr><td>CUST-041</td><td>Shinta Aritonang     </td><td>Wanita</td><td>24</td><td>Ibu Rumah Tangga</td><td>Cluster</td><td> 6820976</td></tr>\n",
       "\t<tr><td>CUST-042</td><td>Yuliana Wati         </td><td>Wanita</td><td>26</td><td>Wiraswasta      </td><td>Cluster</td><td> 9880607</td></tr>\n",
       "\t<tr><td>CUST-043</td><td>Yenna Sumadi         </td><td>Wanita</td><td>31</td><td>Professional    </td><td>Cluster</td><td> 5268410</td></tr>\n",
       "\t<tr><td>CUST-044</td><td>Anna                 </td><td>Wanita</td><td>18</td><td>Wiraswasta      </td><td>Cluster</td><td> 9339737</td></tr>\n",
       "\t<tr><td>CUST-045</td><td>Rismawati Juni       </td><td>Wanita</td><td>22</td><td>Professional    </td><td>Cluster</td><td> 5211041</td></tr>\n",
       "\t<tr><td>CUST-046</td><td>Elfira Surya         </td><td>Wanita</td><td>25</td><td>Wiraswasta      </td><td>Sector </td><td>10099807</td></tr>\n",
       "\t<tr><td>CUST-047</td><td>Mira Kurnia          </td><td>Wanita</td><td>55</td><td>Ibu Rumah Tangga</td><td>Cluster</td><td> 6130724</td></tr>\n",
       "\t<tr><td>CUST-048</td><td>Maria Hutagalung     </td><td>Wanita</td><td>45</td><td>Wiraswasta      </td><td>Sector </td><td>10390732</td></tr>\n",
       "\t<tr><td>CUST-049</td><td>Josephine Wahab      </td><td>Wanita</td><td>33</td><td>Ibu Rumah Tangga</td><td>Sector </td><td> 4992585</td></tr>\n",
       "\t<tr><td>CUST-050</td><td>Lianna Nugraha       </td><td>Wanita</td><td>55</td><td>Wiraswasta      </td><td>Sector </td><td>10569316</td></tr>\n",
       "</tbody>\n",
       "</table>\n"
      ],
      "text/latex": [
       "A data.frame: 50 × 7\n",
       "\\begin{tabular}{lllllll}\n",
       " Customer\\_ID & Nama.Pelanggan & Jenis.Kelamin & Umur & Profesi & Tipe.Residen & NilaiBelanjaSetahun\\\\\n",
       " <chr> & <chr> & <chr> & <int> & <chr> & <chr> & <int>\\\\\n",
       "\\hline\n",
       "\t CUST-001 & Budi Anggara          & Pria   & 58 & Wiraswasta       & Sector  &  9497927\\\\\n",
       "\t CUST-002 & Shirley Ratuwati      & Wanita & 14 & Pelajar          & Cluster &  2722700\\\\\n",
       "\t CUST-003 & Agus Cahyono          & Pria   & 48 & Professional     & Cluster &  5286429\\\\\n",
       "\t CUST-004 & Antonius Winarta      & Pria   & 53 & Professional     & Cluster &  5204498\\\\\n",
       "\t CUST-005 & Ibu Sri Wahyuni, IR   & Wanita & 41 & Wiraswasta       & Cluster & 10615206\\\\\n",
       "\t CUST-006 & Rosalina Kurnia       & Wanita & 24 & Professional     & Cluster &  5215541\\\\\n",
       "\t CUST-007 & Cahyono, Agus         & Pria   & 64 & Wiraswasta       & Sector  &  9837260\\\\\n",
       "\t CUST-008 & Danang Santosa        & Pria   & 52 & Professional     & Cluster &  5223569\\\\\n",
       "\t CUST-009 & Elisabeth Suryadinata & Wanita & 29 & Professional     & Sector  &  5993218\\\\\n",
       "\t CUST-010 & Mario Setiawan        & Pria   & 33 & Professional     & Cluster &  5257448\\\\\n",
       "\t CUST-011 & Maria Suryawan        & Wanita & 50 & Professional     & Sector  &  5987367\\\\\n",
       "\t CUST-012 & Erliana Widjaja       & Wanita & 49 & Professional     & Sector  &  5941914\\\\\n",
       "\t CUST-013 & Cahaya Putri          & Wanita & 64 & Wiraswasta       & Cluster &  9333168\\\\\n",
       "\t CUST-014 & Mario Setiawan        & Pria   & 60 & Wiraswasta       & Cluster &  9471615\\\\\n",
       "\t CUST-015 & Shirley Ratuwati      & Wanita & 20 & Wiraswasta       & Cluster & 10365668\\\\\n",
       "\t CUST-016 & Bambang Rudi          & Pria   & 35 & Professional     & Cluster &  5262521\\\\\n",
       "\t CUST-017 & Yuni Sari             & Wanita & 32 & Ibu Rumah Tangga & Cluster &  5677762\\\\\n",
       "\t CUST-018 & Nelly Halim           & Wanita & 63 & Ibu Rumah Tangga & Cluster &  5340690\\\\\n",
       "\t CUST-019 & Mega Pranoto          & Wanita & 32 & Wiraswasta       & Cluster & 10884508\\\\\n",
       "\t CUST-020 & Irene Novianto        & Wanita & 16 & Pelajar          & Sector  &  2896845\\\\\n",
       "\t CUST-021 & Lestari Fabianto      & Wanita & 38 & Wiraswasta       & Cluster &  9222070\\\\\n",
       "\t CUST-022 & Novita Purba          & Wanita & 52 & Professional     & Cluster &  5298157\\\\\n",
       "\t CUST-023 & Denny Amiruddin       & Pria   & 34 & Professional     & Cluster &  5239290\\\\\n",
       "\t CUST-024 & Putri Ginting         & Wanita & 39 & Wiraswasta       & Cluster & 10259572\\\\\n",
       "\t CUST-025 & Julia Setiawan        & Wanita & 29 & Wiraswasta       & Sector  & 10721998\\\\\n",
       "\t CUST-026 & Christine Winarto     & Wanita & 55 & Professional     & Cluster &  5269392\\\\\n",
       "\t CUST-027 & Grace Mulyati         & Wanita & 35 & Wiraswasta       & Cluster &  9114159\\\\\n",
       "\t CUST-028 & Adeline Huang         & Wanita & 40 & Ibu Rumah Tangga & Cluster &  6631680\\\\\n",
       "\t CUST-029 & Tia Hartanti          & Wanita & 56 & Professional     & Cluster &  5271845\\\\\n",
       "\t CUST-030 & Rosita Saragih        & Wanita & 46 & Ibu Rumah Tangga & Sector  &  5020976\\\\\n",
       "\t CUST-031 & Eviana Handry         & Wanita & 19 & Mahasiswa        & Cluster &  3042773\\\\\n",
       "\t CUST-032 & Chintya Winarni       & Wanita & 47 & Wiraswasta       & Sector  & 10663179\\\\\n",
       "\t CUST-033 & Cecilia Kusnadi       & Wanita & 19 & Mahasiswa        & Cluster &  3047926\\\\\n",
       "\t CUST-034 & Deasy Arisandi        & Wanita & 21 & Wiraswasta       & Sector  &  9759822\\\\\n",
       "\t CUST-035 & Ida Ayu               & Wanita & 39 & Professional     & Sector  &  5962575\\\\\n",
       "\t CUST-036 & Ni Made Suasti        & Wanita & 30 & Wiraswasta       & Cluster &  9678994\\\\\n",
       "\t CUST-037 & Felicia Tandiono      & Wanita & 25 & Professional     & Sector  &  5972787\\\\\n",
       "\t CUST-038 & Agatha Salim          & Wanita & 46 & Wiraswasta       & Sector  & 10477127\\\\\n",
       "\t CUST-039 & Gina Hidayat          & Wanita & 20 & Professional     & Cluster &  5257775\\\\\n",
       "\t CUST-040 & Irene Darmawan        & Wanita & 14 & Pelajar          & Sector  &  2861855\\\\\n",
       "\t CUST-041 & Shinta Aritonang      & Wanita & 24 & Ibu Rumah Tangga & Cluster &  6820976\\\\\n",
       "\t CUST-042 & Yuliana Wati          & Wanita & 26 & Wiraswasta       & Cluster &  9880607\\\\\n",
       "\t CUST-043 & Yenna Sumadi          & Wanita & 31 & Professional     & Cluster &  5268410\\\\\n",
       "\t CUST-044 & Anna                  & Wanita & 18 & Wiraswasta       & Cluster &  9339737\\\\\n",
       "\t CUST-045 & Rismawati Juni        & Wanita & 22 & Professional     & Cluster &  5211041\\\\\n",
       "\t CUST-046 & Elfira Surya          & Wanita & 25 & Wiraswasta       & Sector  & 10099807\\\\\n",
       "\t CUST-047 & Mira Kurnia           & Wanita & 55 & Ibu Rumah Tangga & Cluster &  6130724\\\\\n",
       "\t CUST-048 & Maria Hutagalung      & Wanita & 45 & Wiraswasta       & Sector  & 10390732\\\\\n",
       "\t CUST-049 & Josephine Wahab       & Wanita & 33 & Ibu Rumah Tangga & Sector  &  4992585\\\\\n",
       "\t CUST-050 & Lianna Nugraha        & Wanita & 55 & Wiraswasta       & Sector  & 10569316\\\\\n",
       "\\end{tabular}\n"
      ],
      "text/markdown": [
       "\n",
       "A data.frame: 50 × 7\n",
       "\n",
       "| Customer_ID &lt;chr&gt; | Nama.Pelanggan &lt;chr&gt; | Jenis.Kelamin &lt;chr&gt; | Umur &lt;int&gt; | Profesi &lt;chr&gt; | Tipe.Residen &lt;chr&gt; | NilaiBelanjaSetahun &lt;int&gt; |\n",
       "|---|---|---|---|---|---|---|\n",
       "| CUST-001 | Budi Anggara          | Pria   | 58 | Wiraswasta       | Sector  |  9497927 |\n",
       "| CUST-002 | Shirley Ratuwati      | Wanita | 14 | Pelajar          | Cluster |  2722700 |\n",
       "| CUST-003 | Agus Cahyono          | Pria   | 48 | Professional     | Cluster |  5286429 |\n",
       "| CUST-004 | Antonius Winarta      | Pria   | 53 | Professional     | Cluster |  5204498 |\n",
       "| CUST-005 | Ibu Sri Wahyuni, IR   | Wanita | 41 | Wiraswasta       | Cluster | 10615206 |\n",
       "| CUST-006 | Rosalina Kurnia       | Wanita | 24 | Professional     | Cluster |  5215541 |\n",
       "| CUST-007 | Cahyono, Agus         | Pria   | 64 | Wiraswasta       | Sector  |  9837260 |\n",
       "| CUST-008 | Danang Santosa        | Pria   | 52 | Professional     | Cluster |  5223569 |\n",
       "| CUST-009 | Elisabeth Suryadinata | Wanita | 29 | Professional     | Sector  |  5993218 |\n",
       "| CUST-010 | Mario Setiawan        | Pria   | 33 | Professional     | Cluster |  5257448 |\n",
       "| CUST-011 | Maria Suryawan        | Wanita | 50 | Professional     | Sector  |  5987367 |\n",
       "| CUST-012 | Erliana Widjaja       | Wanita | 49 | Professional     | Sector  |  5941914 |\n",
       "| CUST-013 | Cahaya Putri          | Wanita | 64 | Wiraswasta       | Cluster |  9333168 |\n",
       "| CUST-014 | Mario Setiawan        | Pria   | 60 | Wiraswasta       | Cluster |  9471615 |\n",
       "| CUST-015 | Shirley Ratuwati      | Wanita | 20 | Wiraswasta       | Cluster | 10365668 |\n",
       "| CUST-016 | Bambang Rudi          | Pria   | 35 | Professional     | Cluster |  5262521 |\n",
       "| CUST-017 | Yuni Sari             | Wanita | 32 | Ibu Rumah Tangga | Cluster |  5677762 |\n",
       "| CUST-018 | Nelly Halim           | Wanita | 63 | Ibu Rumah Tangga | Cluster |  5340690 |\n",
       "| CUST-019 | Mega Pranoto          | Wanita | 32 | Wiraswasta       | Cluster | 10884508 |\n",
       "| CUST-020 | Irene Novianto        | Wanita | 16 | Pelajar          | Sector  |  2896845 |\n",
       "| CUST-021 | Lestari Fabianto      | Wanita | 38 | Wiraswasta       | Cluster |  9222070 |\n",
       "| CUST-022 | Novita Purba          | Wanita | 52 | Professional     | Cluster |  5298157 |\n",
       "| CUST-023 | Denny Amiruddin       | Pria   | 34 | Professional     | Cluster |  5239290 |\n",
       "| CUST-024 | Putri Ginting         | Wanita | 39 | Wiraswasta       | Cluster | 10259572 |\n",
       "| CUST-025 | Julia Setiawan        | Wanita | 29 | Wiraswasta       | Sector  | 10721998 |\n",
       "| CUST-026 | Christine Winarto     | Wanita | 55 | Professional     | Cluster |  5269392 |\n",
       "| CUST-027 | Grace Mulyati         | Wanita | 35 | Wiraswasta       | Cluster |  9114159 |\n",
       "| CUST-028 | Adeline Huang         | Wanita | 40 | Ibu Rumah Tangga | Cluster |  6631680 |\n",
       "| CUST-029 | Tia Hartanti          | Wanita | 56 | Professional     | Cluster |  5271845 |\n",
       "| CUST-030 | Rosita Saragih        | Wanita | 46 | Ibu Rumah Tangga | Sector  |  5020976 |\n",
       "| CUST-031 | Eviana Handry         | Wanita | 19 | Mahasiswa        | Cluster |  3042773 |\n",
       "| CUST-032 | Chintya Winarni       | Wanita | 47 | Wiraswasta       | Sector  | 10663179 |\n",
       "| CUST-033 | Cecilia Kusnadi       | Wanita | 19 | Mahasiswa        | Cluster |  3047926 |\n",
       "| CUST-034 | Deasy Arisandi        | Wanita | 21 | Wiraswasta       | Sector  |  9759822 |\n",
       "| CUST-035 | Ida Ayu               | Wanita | 39 | Professional     | Sector  |  5962575 |\n",
       "| CUST-036 | Ni Made Suasti        | Wanita | 30 | Wiraswasta       | Cluster |  9678994 |\n",
       "| CUST-037 | Felicia Tandiono      | Wanita | 25 | Professional     | Sector  |  5972787 |\n",
       "| CUST-038 | Agatha Salim          | Wanita | 46 | Wiraswasta       | Sector  | 10477127 |\n",
       "| CUST-039 | Gina Hidayat          | Wanita | 20 | Professional     | Cluster |  5257775 |\n",
       "| CUST-040 | Irene Darmawan        | Wanita | 14 | Pelajar          | Sector  |  2861855 |\n",
       "| CUST-041 | Shinta Aritonang      | Wanita | 24 | Ibu Rumah Tangga | Cluster |  6820976 |\n",
       "| CUST-042 | Yuliana Wati          | Wanita | 26 | Wiraswasta       | Cluster |  9880607 |\n",
       "| CUST-043 | Yenna Sumadi          | Wanita | 31 | Professional     | Cluster |  5268410 |\n",
       "| CUST-044 | Anna                  | Wanita | 18 | Wiraswasta       | Cluster |  9339737 |\n",
       "| CUST-045 | Rismawati Juni        | Wanita | 22 | Professional     | Cluster |  5211041 |\n",
       "| CUST-046 | Elfira Surya          | Wanita | 25 | Wiraswasta       | Sector  | 10099807 |\n",
       "| CUST-047 | Mira Kurnia           | Wanita | 55 | Ibu Rumah Tangga | Cluster |  6130724 |\n",
       "| CUST-048 | Maria Hutagalung      | Wanita | 45 | Wiraswasta       | Sector  | 10390732 |\n",
       "| CUST-049 | Josephine Wahab       | Wanita | 33 | Ibu Rumah Tangga | Sector  |  4992585 |\n",
       "| CUST-050 | Lianna Nugraha        | Wanita | 55 | Wiraswasta       | Sector  | 10569316 |\n",
       "\n"
      ],
      "text/plain": [
       "   Customer_ID Nama.Pelanggan        Jenis.Kelamin Umur Profesi         \n",
       "1  CUST-001    Budi Anggara          Pria          58   Wiraswasta      \n",
       "2  CUST-002    Shirley Ratuwati      Wanita        14   Pelajar         \n",
       "3  CUST-003    Agus Cahyono          Pria          48   Professional    \n",
       "4  CUST-004    Antonius Winarta      Pria          53   Professional    \n",
       "5  CUST-005    Ibu Sri Wahyuni, IR   Wanita        41   Wiraswasta      \n",
       "6  CUST-006    Rosalina Kurnia       Wanita        24   Professional    \n",
       "7  CUST-007    Cahyono, Agus         Pria          64   Wiraswasta      \n",
       "8  CUST-008    Danang Santosa        Pria          52   Professional    \n",
       "9  CUST-009    Elisabeth Suryadinata Wanita        29   Professional    \n",
       "10 CUST-010    Mario Setiawan        Pria          33   Professional    \n",
       "11 CUST-011    Maria Suryawan        Wanita        50   Professional    \n",
       "12 CUST-012    Erliana Widjaja       Wanita        49   Professional    \n",
       "13 CUST-013    Cahaya Putri          Wanita        64   Wiraswasta      \n",
       "14 CUST-014    Mario Setiawan        Pria          60   Wiraswasta      \n",
       "15 CUST-015    Shirley Ratuwati      Wanita        20   Wiraswasta      \n",
       "16 CUST-016    Bambang Rudi          Pria          35   Professional    \n",
       "17 CUST-017    Yuni Sari             Wanita        32   Ibu Rumah Tangga\n",
       "18 CUST-018    Nelly Halim           Wanita        63   Ibu Rumah Tangga\n",
       "19 CUST-019    Mega Pranoto          Wanita        32   Wiraswasta      \n",
       "20 CUST-020    Irene Novianto        Wanita        16   Pelajar         \n",
       "21 CUST-021    Lestari Fabianto      Wanita        38   Wiraswasta      \n",
       "22 CUST-022    Novita Purba          Wanita        52   Professional    \n",
       "23 CUST-023    Denny Amiruddin       Pria          34   Professional    \n",
       "24 CUST-024    Putri Ginting         Wanita        39   Wiraswasta      \n",
       "25 CUST-025    Julia Setiawan        Wanita        29   Wiraswasta      \n",
       "26 CUST-026    Christine Winarto     Wanita        55   Professional    \n",
       "27 CUST-027    Grace Mulyati         Wanita        35   Wiraswasta      \n",
       "28 CUST-028    Adeline Huang         Wanita        40   Ibu Rumah Tangga\n",
       "29 CUST-029    Tia Hartanti          Wanita        56   Professional    \n",
       "30 CUST-030    Rosita Saragih        Wanita        46   Ibu Rumah Tangga\n",
       "31 CUST-031    Eviana Handry         Wanita        19   Mahasiswa       \n",
       "32 CUST-032    Chintya Winarni       Wanita        47   Wiraswasta      \n",
       "33 CUST-033    Cecilia Kusnadi       Wanita        19   Mahasiswa       \n",
       "34 CUST-034    Deasy Arisandi        Wanita        21   Wiraswasta      \n",
       "35 CUST-035    Ida Ayu               Wanita        39   Professional    \n",
       "36 CUST-036    Ni Made Suasti        Wanita        30   Wiraswasta      \n",
       "37 CUST-037    Felicia Tandiono      Wanita        25   Professional    \n",
       "38 CUST-038    Agatha Salim          Wanita        46   Wiraswasta      \n",
       "39 CUST-039    Gina Hidayat          Wanita        20   Professional    \n",
       "40 CUST-040    Irene Darmawan        Wanita        14   Pelajar         \n",
       "41 CUST-041    Shinta Aritonang      Wanita        24   Ibu Rumah Tangga\n",
       "42 CUST-042    Yuliana Wati          Wanita        26   Wiraswasta      \n",
       "43 CUST-043    Yenna Sumadi          Wanita        31   Professional    \n",
       "44 CUST-044    Anna                  Wanita        18   Wiraswasta      \n",
       "45 CUST-045    Rismawati Juni        Wanita        22   Professional    \n",
       "46 CUST-046    Elfira Surya          Wanita        25   Wiraswasta      \n",
       "47 CUST-047    Mira Kurnia           Wanita        55   Ibu Rumah Tangga\n",
       "48 CUST-048    Maria Hutagalung      Wanita        45   Wiraswasta      \n",
       "49 CUST-049    Josephine Wahab       Wanita        33   Ibu Rumah Tangga\n",
       "50 CUST-050    Lianna Nugraha        Wanita        55   Wiraswasta      \n",
       "   Tipe.Residen NilaiBelanjaSetahun\n",
       "1  Sector        9497927           \n",
       "2  Cluster       2722700           \n",
       "3  Cluster       5286429           \n",
       "4  Cluster       5204498           \n",
       "5  Cluster      10615206           \n",
       "6  Cluster       5215541           \n",
       "7  Sector        9837260           \n",
       "8  Cluster       5223569           \n",
       "9  Sector        5993218           \n",
       "10 Cluster       5257448           \n",
       "11 Sector        5987367           \n",
       "12 Sector        5941914           \n",
       "13 Cluster       9333168           \n",
       "14 Cluster       9471615           \n",
       "15 Cluster      10365668           \n",
       "16 Cluster       5262521           \n",
       "17 Cluster       5677762           \n",
       "18 Cluster       5340690           \n",
       "19 Cluster      10884508           \n",
       "20 Sector        2896845           \n",
       "21 Cluster       9222070           \n",
       "22 Cluster       5298157           \n",
       "23 Cluster       5239290           \n",
       "24 Cluster      10259572           \n",
       "25 Sector       10721998           \n",
       "26 Cluster       5269392           \n",
       "27 Cluster       9114159           \n",
       "28 Cluster       6631680           \n",
       "29 Cluster       5271845           \n",
       "30 Sector        5020976           \n",
       "31 Cluster       3042773           \n",
       "32 Sector       10663179           \n",
       "33 Cluster       3047926           \n",
       "34 Sector        9759822           \n",
       "35 Sector        5962575           \n",
       "36 Cluster       9678994           \n",
       "37 Sector        5972787           \n",
       "38 Sector       10477127           \n",
       "39 Cluster       5257775           \n",
       "40 Sector        2861855           \n",
       "41 Cluster       6820976           \n",
       "42 Cluster       9880607           \n",
       "43 Cluster       5268410           \n",
       "44 Cluster       9339737           \n",
       "45 Cluster       5211041           \n",
       "46 Sector       10099807           \n",
       "47 Cluster       6130724           \n",
       "48 Sector       10390732           \n",
       "49 Sector        4992585           \n",
       "50 Sector       10569316           "
      ]
     },
     "metadata": {},
     "output_type": "display_data"
    }
   ],
   "source": [
    "# Get the data\n",
    "pelanggan <- read.csv(\"https://academy.dqlab.id/dataset/customer_segments.txt\", sep=\"\\t\")\n",
    "pelanggan"
   ]
  },
  {
   "cell_type": "code",
   "execution_count": 25,
   "metadata": {
    "id": "dhfX2zbE7ygj"
   },
   "outputs": [
    {
     "data": {
      "image/png": "[encoded data removed]",
      "text/plain": [
       "plot without title"
      ]
     },
     "metadata": {
      "image/png": {
       "height": 360,
       "width": 720
      }
     },
     "output_type": "display_data"
    }
   ],
   "source": [
    "library(tidyverse)\n",
    "\n",
    "options(repr.plot.width=12, repr.plot.height=6)\n",
    "# Plot Jenis Kelamin\n",
    "pelanggan %>%\n",
    "  ggplot(aes(x = Jenis.Kelamin)) +\n",
    "  geom_bar(fill = \"skyblue\", color = \"black\") +\n",
    "  labs(title = \"Countplot Jenis Kelamin Pelanggan\", x = \"Jenis Kelamin\", y = \"Jumlah\") +\n",
    "  theme_minimal()"
   ]
  },
  {
   "cell_type": "markdown",
   "metadata": {
    "id": "yK4z_B7QAFnU"
   },
   "source": [
    "Sebagian besar di dominasi oleh kelamin wanita sebanyak 41 dan pria sebanyak 9."
   ]
  },
  {
   "cell_type": "code",
   "execution_count": 3,
   "metadata": {
    "id": "JUDUGJyiB9OM"
   },
   "outputs": [
    {
     "data": {
      "image/png": "[encoded data removed]",
      "text/plain": [
       "plot without title"
      ]
     },
     "metadata": {
      "image/png": {
       "height": 360,
       "width": 720
      }
     },
     "output_type": "display_data"
    }
   ],
   "source": [
    "library(tidyverse)\n",
    "\n",
    "options(repr.plot.width=12, repr.plot.height=6)\n",
    "# Plot Jenis Kelamin\n",
    "pelanggan %>%\n",
    "  ggplot(aes(x = Profesi)) +\n",
    "  geom_bar(fill = \"skyblue\", color = \"black\") +\n",
    "  labs(title = \"Countplot Jenis Profesi Pelanggan\", x = \"Profesi\", y = \"Jumlah\") +\n",
    "  theme_minimal()"
   ]
  },
  {
   "cell_type": "markdown",
   "metadata": {
    "id": "ahfVNYN-9iC-"
   },
   "source": [
    "Sebanyak 20 pelangan berprofesi sebagai pegawai swasta, kemudian Profesional sebanyak 16, Ibu Rumah Tangga sebanyak 7, Pelajar sebanyak 4 pelanggan, dan terakhir adalah mahasiswa sebanyak 2."
   ]
  },
  {
   "cell_type": "code",
   "execution_count": 4,
   "metadata": {
    "id": "dp3Hy_2H6EY7"
   },
   "outputs": [
    {
     "data": {
      "image/png": "[encoded data removed]",
      "text/plain": [
       "plot without title"
      ]
     },
     "metadata": {
      "image/png": {
       "height": 360,
       "width": 720
      }
     },
     "output_type": "display_data"
    }
   ],
   "source": [
    "# Plotting Umur Pelanggan\n",
    "library(tidyverse)\n",
    "\n",
    "# # Membuat boxplot umur berdasarkan jenis kelamin\n",
    "# ggplot(pelanggan, aes(x = Profesi, y = Umur, fill = Profesi)) +\n",
    "#   geom_boxplot() +\n",
    "#   labs(title = \"Boxplot Umur Berdasarkan Jenis Kelamin\", x = \"Jenis Kelamin\", y = \"Umur\")\n",
    "\n",
    "options(repr.plot.width=12, repr.plot.height=6)\n",
    "# Memplot boxplot umur berdasarkan jenis kelamin dan profesi\n",
    "pelanggan %>%\n",
    "  ggplot(aes(x = Profesi, y = Umur, fill = Profesi)) +\n",
    "  geom_boxplot() +\n",
    "  labs(title = \"Boxplot Umur Berdasarkan Profesi\", x = \"Profesi\", y = \"Umur\")\n",
    "  # facet_wrap(~ Jenis.Kelamin, scales = \"free\")"
   ]
  },
  {
   "cell_type": "markdown",
   "metadata": {
    "id": "UgTjc_yl_sdF"
   },
   "source": [
    "Data Profesi pria hanya terdapat 2 yaitu Profesional dengan rata-rata 42 tahun dan wiraswasta dengan rata-rata berumur 60 tahun. Sedangkan profesi wanita lebih bervariasi seperti Ibu Rumah Tangga dengan rata-rata berumur 40 tahun, Mahasiswa dengan rata-rata berumur 19 tahun, Pelajar dengan rata-rata berumur 19, Professional dengan rata-rata berumur 35 tahun, dan Wiraswasta dengan rata-rata berumur 35 tahun."
   ]
  },
  {
   "cell_type": "code",
   "execution_count": 5,
   "metadata": {
    "id": "JcQq--kdCaa9"
   },
   "outputs": [
    {
     "data": {
      "text/html": [
       "<table class=\"dataframe\">\n",
       "<caption>A tibble: 5 × 2</caption>\n",
       "<thead>\n",
       "\t<tr><th scope=col>Profesi</th><th scope=col>Rata_Rata_NilaiBelanja</th></tr>\n",
       "\t<tr><th scope=col>&lt;chr&gt;</th><th scope=col>&lt;dbl&gt;</th></tr>\n",
       "</thead>\n",
       "<tbody>\n",
       "\t<tr><td>Ibu Rumah Tangga</td><td> 5802199</td></tr>\n",
       "\t<tr><td>Mahasiswa       </td><td> 3045350</td></tr>\n",
       "\t<tr><td>Pelajar         </td><td> 2827133</td></tr>\n",
       "\t<tr><td>Professional    </td><td> 5451321</td></tr>\n",
       "\t<tr><td>Wiraswasta      </td><td>10009124</td></tr>\n",
       "</tbody>\n",
       "</table>\n"
      ],
      "text/latex": [
       "A tibble: 5 × 2\n",
       "\\begin{tabular}{ll}\n",
       " Profesi & Rata\\_Rata\\_NilaiBelanja\\\\\n",
       " <chr> & <dbl>\\\\\n",
       "\\hline\n",
       "\t Ibu Rumah Tangga &  5802199\\\\\n",
       "\t Mahasiswa        &  3045350\\\\\n",
       "\t Pelajar          &  2827133\\\\\n",
       "\t Professional     &  5451321\\\\\n",
       "\t Wiraswasta       & 10009124\\\\\n",
       "\\end{tabular}\n"
      ],
      "text/markdown": [
       "\n",
       "A tibble: 5 × 2\n",
       "\n",
       "| Profesi &lt;chr&gt; | Rata_Rata_NilaiBelanja &lt;dbl&gt; |\n",
       "|---|---|\n",
       "| Ibu Rumah Tangga |  5802199 |\n",
       "| Mahasiswa        |  3045350 |\n",
       "| Pelajar          |  2827133 |\n",
       "| Professional     |  5451321 |\n",
       "| Wiraswasta       | 10009124 |\n",
       "\n"
      ],
      "text/plain": [
       "  Profesi          Rata_Rata_NilaiBelanja\n",
       "1 Ibu Rumah Tangga  5802199              \n",
       "2 Mahasiswa         3045350              \n",
       "3 Pelajar           2827133              \n",
       "4 Professional      5451321              \n",
       "5 Wiraswasta       10009124              "
      ]
     },
     "metadata": {},
     "output_type": "display_data"
    }
   ],
   "source": [
    "# Menghitung rata-rata NilaiBelanjaSetahun berdasarkan Profesi\n",
    "rata_rata_per_profesi <- pelanggan %>%\n",
    "  group_by(Profesi) %>%\n",
    "  summarize(Rata_Rata_NilaiBelanja = mean(NilaiBelanjaSetahun))\n",
    "\n",
    "# Menampilkan hasil rata-rata NilaiBelanjaSetahun per Profesi\n",
    "rata_rata_per_profesi"
   ]
  },
  {
   "cell_type": "code",
   "execution_count": 26,
   "metadata": {
    "id": "DtcmUSshI-Ti"
   },
   "outputs": [
    {
     "name": "stderr",
     "output_type": "stream",
     "text": [
      "\u001b[1m\u001b[22m`summarise()` has grouped output by 'Profesi'. You can override using the `.groups` argument.\n"
     ]
    },
    {
     "data": {
      "text/html": [
       "<table class=\"dataframe\">\n",
       "<caption>A grouped_df: 9 × 3</caption>\n",
       "<thead>\n",
       "\t<tr><th scope=col>Profesi</th><th scope=col>Tipe.Residen</th><th scope=col>RataNilaiBelanjaSetahun</th></tr>\n",
       "\t<tr><th scope=col>&lt;chr&gt;</th><th scope=col>&lt;chr&gt;</th><th scope=col>&lt;dbl&gt;</th></tr>\n",
       "</thead>\n",
       "<tbody>\n",
       "\t<tr><td>Ibu Rumah Tangga</td><td>Cluster</td><td> 6.120366</td></tr>\n",
       "\t<tr><td>Ibu Rumah Tangga</td><td>Sector </td><td> 5.006780</td></tr>\n",
       "\t<tr><td>Mahasiswa       </td><td>Cluster</td><td> 3.045349</td></tr>\n",
       "\t<tr><td>Pelajar         </td><td>Cluster</td><td> 2.722700</td></tr>\n",
       "\t<tr><td>Pelajar         </td><td>Sector </td><td> 2.879350</td></tr>\n",
       "\t<tr><td>Professional    </td><td>Cluster</td><td> 5.251224</td></tr>\n",
       "\t<tr><td>Professional    </td><td>Sector </td><td> 5.971572</td></tr>\n",
       "\t<tr><td>Wiraswasta      </td><td>Cluster</td><td> 9.833209</td></tr>\n",
       "\t<tr><td>Wiraswasta      </td><td>Sector </td><td>10.224130</td></tr>\n",
       "</tbody>\n",
       "</table>\n"
      ],
      "text/latex": [
       "A grouped\\_df: 9 × 3\n",
       "\\begin{tabular}{lll}\n",
       " Profesi & Tipe.Residen & RataNilaiBelanjaSetahun\\\\\n",
       " <chr> & <chr> & <dbl>\\\\\n",
       "\\hline\n",
       "\t Ibu Rumah Tangga & Cluster &  6.120366\\\\\n",
       "\t Ibu Rumah Tangga & Sector  &  5.006780\\\\\n",
       "\t Mahasiswa        & Cluster &  3.045349\\\\\n",
       "\t Pelajar          & Cluster &  2.722700\\\\\n",
       "\t Pelajar          & Sector  &  2.879350\\\\\n",
       "\t Professional     & Cluster &  5.251224\\\\\n",
       "\t Professional     & Sector  &  5.971572\\\\\n",
       "\t Wiraswasta       & Cluster &  9.833209\\\\\n",
       "\t Wiraswasta       & Sector  & 10.224130\\\\\n",
       "\\end{tabular}\n"
      ],
      "text/markdown": [
       "\n",
       "A grouped_df: 9 × 3\n",
       "\n",
       "| Profesi &lt;chr&gt; | Tipe.Residen &lt;chr&gt; | RataNilaiBelanjaSetahun &lt;dbl&gt; |\n",
       "|---|---|---|\n",
       "| Ibu Rumah Tangga | Cluster |  6.120366 |\n",
       "| Ibu Rumah Tangga | Sector  |  5.006780 |\n",
       "| Mahasiswa        | Cluster |  3.045349 |\n",
       "| Pelajar          | Cluster |  2.722700 |\n",
       "| Pelajar          | Sector  |  2.879350 |\n",
       "| Professional     | Cluster |  5.251224 |\n",
       "| Professional     | Sector  |  5.971572 |\n",
       "| Wiraswasta       | Cluster |  9.833209 |\n",
       "| Wiraswasta       | Sector  | 10.224130 |\n",
       "\n"
      ],
      "text/plain": [
       "  Profesi          Tipe.Residen RataNilaiBelanjaSetahun\n",
       "1 Ibu Rumah Tangga Cluster       6.120366              \n",
       "2 Ibu Rumah Tangga Sector        5.006780              \n",
       "3 Mahasiswa        Cluster       3.045349              \n",
       "4 Pelajar          Cluster       2.722700              \n",
       "5 Pelajar          Sector        2.879350              \n",
       "6 Professional     Cluster       5.251224              \n",
       "7 Professional     Sector        5.971572              \n",
       "8 Wiraswasta       Cluster       9.833209              \n",
       "9 Wiraswasta       Sector       10.224130              "
      ]
     },
     "metadata": {},
     "output_type": "display_data"
    }
   ],
   "source": [
    "# Menghitung rata-rata nilai belanja setahun berdasarkan profesi, jenis kelamin, dan tipe residen\n",
    "rata_rata <- pelanggan %>%\n",
    "  group_by(Profesi, Tipe.Residen) %>%\n",
    "  summarise(RataNilaiBelanjaSetahun = mean(NilaiBelanjaSetahun))\n",
    "rata_rata"
   ]
  },
  {
   "cell_type": "code",
   "execution_count": 7,
   "metadata": {
    "id": "D6ro9kt7ENe6"
   },
   "outputs": [
    {
     "name": "stderr",
     "output_type": "stream",
     "text": [
      "\u001b[1m\u001b[22m`summarise()` has grouped output by 'Profesi'. You can override using the `.groups` argument.\n"
     ]
    },
    {
     "data": {
      "image/png": "[encoded data removed]",
      "text/plain": [
       "plot without title"
      ]
     },
     "metadata": {
      "image/png": {
       "height": 360,
       "width": 720
      }
     },
     "output_type": "display_data"
    }
   ],
   "source": [
    "# Mengimport library yang diperlukan\n",
    "library(tidyverse)\n",
    "\n",
    "# Menghitung rata-rata nilai belanja setahun berdasarkan profesi, jenis kelamin, dan tipe residen\n",
    "rata_rata <- pelanggan %>%\n",
    "  group_by(Profesi, Tipe.Residen) %>%\n",
    "  summarise(RataNilaiBelanjaSetahun = mean(NilaiBelanjaSetahun))\n",
    "\n",
    "# Plotting rata-rata nilai belanja setahun berdasarkan profesi dan jenis kelamin\n",
    "ggplot(rata_rata, aes(x = Profesi, y = RataNilaiBelanjaSetahun, fill = Tipe.Residen)) +\n",
    "  geom_bar(stat = \"identity\", position = \"dodge\") +\n",
    "  geom_text(aes(label = round(RataNilaiBelanjaSetahun, digits = 2)),\n",
    "            position = position_dodge(width = 0.9), vjust = -0.5) +\n",
    "  labs(title = \"Rata-rata Nilai Belanja Setahun Berdasarkan Profesi\", x = \"Profesi\", y = \"Rata NilaiBelanjaSetahun\") +\n",
    "  theme_minimal()\n"
   ]
  },
  {
   "cell_type": "markdown",
   "metadata": {
    "id": "hHiRThj-EnlP"
   },
   "source": [
    "####Preparation the Data for Machine Learning Algorithms"
   ]
  },
  {
   "cell_type": "code",
   "execution_count": 8,
   "metadata": {
    "id": "moTJGip33Q-y"
   },
   "outputs": [
    {
     "data": {
      "text/html": [
       "<table class=\"dataframe\">\n",
       "<caption>A matrix: 6 × 3 of type int</caption>\n",
       "<thead>\n",
       "\t<tr><th scope=col>Jenis.Kelamin</th><th scope=col>Profesi</th><th scope=col>Tipe.Residen</th></tr>\n",
       "</thead>\n",
       "<tbody>\n",
       "\t<tr><td>1</td><td>5</td><td>2</td></tr>\n",
       "\t<tr><td>2</td><td>3</td><td>1</td></tr>\n",
       "\t<tr><td>1</td><td>4</td><td>1</td></tr>\n",
       "\t<tr><td>1</td><td>4</td><td>1</td></tr>\n",
       "\t<tr><td>2</td><td>5</td><td>1</td></tr>\n",
       "\t<tr><td>2</td><td>4</td><td>1</td></tr>\n",
       "</tbody>\n",
       "</table>\n"
      ],
      "text/latex": [
       "A matrix: 6 × 3 of type int\n",
       "\\begin{tabular}{lll}\n",
       " Jenis.Kelamin & Profesi & Tipe.Residen\\\\\n",
       "\\hline\n",
       "\t 1 & 5 & 2\\\\\n",
       "\t 2 & 3 & 1\\\\\n",
       "\t 1 & 4 & 1\\\\\n",
       "\t 1 & 4 & 1\\\\\n",
       "\t 2 & 5 & 1\\\\\n",
       "\t 2 & 4 & 1\\\\\n",
       "\\end{tabular}\n"
      ],
      "text/markdown": [
       "\n",
       "A matrix: 6 × 3 of type int\n",
       "\n",
       "| Jenis.Kelamin | Profesi | Tipe.Residen |\n",
       "|---|---|---|\n",
       "| 1 | 5 | 2 |\n",
       "| 2 | 3 | 1 |\n",
       "| 1 | 4 | 1 |\n",
       "| 1 | 4 | 1 |\n",
       "| 2 | 5 | 1 |\n",
       "| 2 | 4 | 1 |\n",
       "\n"
      ],
      "text/plain": [
       "     Jenis.Kelamin Profesi Tipe.Residen\n",
       "[1,] 1             5       2           \n",
       "[2,] 2             3       1           \n",
       "[3,] 1             4       1           \n",
       "[4,] 1             4       1           \n",
       "[5,] 2             5       1           \n",
       "[6,] 2             4       1           "
      ]
     },
     "metadata": {},
     "output_type": "display_data"
    }
   ],
   "source": [
    "# Preparation the Data\n",
    "pelanggan_matrix <- data.matrix(pelanggan[c(\"Jenis.Kelamin\", \"Profesi\", \"Tipe.Residen\")])\n",
    "head(pelanggan_matrix)"
   ]
  },
  {
   "cell_type": "code",
   "execution_count": 9,
   "metadata": {
    "id": "kYktRAX33il6"
   },
   "outputs": [
    {
     "data": {
      "text/html": [
       "<table class=\"dataframe\">\n",
       "<caption>A data.frame: 6 × 10</caption>\n",
       "<thead>\n",
       "\t<tr><th></th><th scope=col>Customer_ID</th><th scope=col>Nama.Pelanggan</th><th scope=col>Jenis.Kelamin</th><th scope=col>Umur</th><th scope=col>Profesi</th><th scope=col>Tipe.Residen</th><th scope=col>NilaiBelanjaSetahun</th><th scope=col>Jenis.Kelamin.1</th><th scope=col>Profesi.1</th><th scope=col>Tipe.Residen.1</th></tr>\n",
       "\t<tr><th></th><th scope=col>&lt;chr&gt;</th><th scope=col>&lt;chr&gt;</th><th scope=col>&lt;chr&gt;</th><th scope=col>&lt;int&gt;</th><th scope=col>&lt;chr&gt;</th><th scope=col>&lt;chr&gt;</th><th scope=col>&lt;int&gt;</th><th scope=col>&lt;int&gt;</th><th scope=col>&lt;int&gt;</th><th scope=col>&lt;int&gt;</th></tr>\n",
       "</thead>\n",
       "<tbody>\n",
       "\t<tr><th scope=row>1</th><td>CUST-001</td><td>Budi Anggara       </td><td>Pria  </td><td>58</td><td>Wiraswasta  </td><td>Sector </td><td> 9497927</td><td>1</td><td>5</td><td>2</td></tr>\n",
       "\t<tr><th scope=row>2</th><td>CUST-002</td><td>Shirley Ratuwati   </td><td>Wanita</td><td>14</td><td>Pelajar     </td><td>Cluster</td><td> 2722700</td><td>2</td><td>3</td><td>1</td></tr>\n",
       "\t<tr><th scope=row>3</th><td>CUST-003</td><td>Agus Cahyono       </td><td>Pria  </td><td>48</td><td>Professional</td><td>Cluster</td><td> 5286429</td><td>1</td><td>4</td><td>1</td></tr>\n",
       "\t<tr><th scope=row>4</th><td>CUST-004</td><td>Antonius Winarta   </td><td>Pria  </td><td>53</td><td>Professional</td><td>Cluster</td><td> 5204498</td><td>1</td><td>4</td><td>1</td></tr>\n",
       "\t<tr><th scope=row>5</th><td>CUST-005</td><td>Ibu Sri Wahyuni, IR</td><td>Wanita</td><td>41</td><td>Wiraswasta  </td><td>Cluster</td><td>10615206</td><td>2</td><td>5</td><td>1</td></tr>\n",
       "\t<tr><th scope=row>6</th><td>CUST-006</td><td>Rosalina Kurnia    </td><td>Wanita</td><td>24</td><td>Professional</td><td>Cluster</td><td> 5215541</td><td>2</td><td>4</td><td>1</td></tr>\n",
       "</tbody>\n",
       "</table>\n"
      ],
      "text/latex": [
       "A data.frame: 6 × 10\n",
       "\\begin{tabular}{r|llllllllll}\n",
       "  & Customer\\_ID & Nama.Pelanggan & Jenis.Kelamin & Umur & Profesi & Tipe.Residen & NilaiBelanjaSetahun & Jenis.Kelamin.1 & Profesi.1 & Tipe.Residen.1\\\\\n",
       "  & <chr> & <chr> & <chr> & <int> & <chr> & <chr> & <int> & <int> & <int> & <int>\\\\\n",
       "\\hline\n",
       "\t1 & CUST-001 & Budi Anggara        & Pria   & 58 & Wiraswasta   & Sector  &  9497927 & 1 & 5 & 2\\\\\n",
       "\t2 & CUST-002 & Shirley Ratuwati    & Wanita & 14 & Pelajar      & Cluster &  2722700 & 2 & 3 & 1\\\\\n",
       "\t3 & CUST-003 & Agus Cahyono        & Pria   & 48 & Professional & Cluster &  5286429 & 1 & 4 & 1\\\\\n",
       "\t4 & CUST-004 & Antonius Winarta    & Pria   & 53 & Professional & Cluster &  5204498 & 1 & 4 & 1\\\\\n",
       "\t5 & CUST-005 & Ibu Sri Wahyuni, IR & Wanita & 41 & Wiraswasta   & Cluster & 10615206 & 2 & 5 & 1\\\\\n",
       "\t6 & CUST-006 & Rosalina Kurnia     & Wanita & 24 & Professional & Cluster &  5215541 & 2 & 4 & 1\\\\\n",
       "\\end{tabular}\n"
      ],
      "text/markdown": [
       "\n",
       "A data.frame: 6 × 10\n",
       "\n",
       "| <!--/--> | Customer_ID &lt;chr&gt; | Nama.Pelanggan &lt;chr&gt; | Jenis.Kelamin &lt;chr&gt; | Umur &lt;int&gt; | Profesi &lt;chr&gt; | Tipe.Residen &lt;chr&gt; | NilaiBelanjaSetahun &lt;int&gt; | Jenis.Kelamin.1 &lt;int&gt; | Profesi.1 &lt;int&gt; | Tipe.Residen.1 &lt;int&gt; |\n",
       "|---|---|---|---|---|---|---|---|---|---|---|\n",
       "| 1 | CUST-001 | Budi Anggara        | Pria   | 58 | Wiraswasta   | Sector  |  9497927 | 1 | 5 | 2 |\n",
       "| 2 | CUST-002 | Shirley Ratuwati    | Wanita | 14 | Pelajar      | Cluster |  2722700 | 2 | 3 | 1 |\n",
       "| 3 | CUST-003 | Agus Cahyono        | Pria   | 48 | Professional | Cluster |  5286429 | 1 | 4 | 1 |\n",
       "| 4 | CUST-004 | Antonius Winarta    | Pria   | 53 | Professional | Cluster |  5204498 | 1 | 4 | 1 |\n",
       "| 5 | CUST-005 | Ibu Sri Wahyuni, IR | Wanita | 41 | Wiraswasta   | Cluster | 10615206 | 2 | 5 | 1 |\n",
       "| 6 | CUST-006 | Rosalina Kurnia     | Wanita | 24 | Professional | Cluster |  5215541 | 2 | 4 | 1 |\n",
       "\n"
      ],
      "text/plain": [
       "  Customer_ID Nama.Pelanggan      Jenis.Kelamin Umur Profesi      Tipe.Residen\n",
       "1 CUST-001    Budi Anggara        Pria          58   Wiraswasta   Sector      \n",
       "2 CUST-002    Shirley Ratuwati    Wanita        14   Pelajar      Cluster     \n",
       "3 CUST-003    Agus Cahyono        Pria          48   Professional Cluster     \n",
       "4 CUST-004    Antonius Winarta    Pria          53   Professional Cluster     \n",
       "5 CUST-005    Ibu Sri Wahyuni, IR Wanita        41   Wiraswasta   Cluster     \n",
       "6 CUST-006    Rosalina Kurnia     Wanita        24   Professional Cluster     \n",
       "  NilaiBelanjaSetahun Jenis.Kelamin.1 Profesi.1 Tipe.Residen.1\n",
       "1  9497927            1               5         2             \n",
       "2  2722700            2               3         1             \n",
       "3  5286429            1               4         1             \n",
       "4  5204498            1               4         1             \n",
       "5 10615206            2               5         1             \n",
       "6  5215541            2               4         1             "
      ]
     },
     "metadata": {},
     "output_type": "display_data"
    }
   ],
   "source": [
    "# Menggabungkan hasil konversi\n",
    "pelanggan <- data.frame(pelanggan, pelanggan_matrix)\n",
    "head(pelanggan)"
   ]
  },
  {
   "cell_type": "code",
   "execution_count": 10,
   "metadata": {
    "id": "QtapseEW4n6p"
   },
   "outputs": [
    {
     "data": {
      "text/html": [
       "<table class=\"dataframe\">\n",
       "<caption>A data.frame: 5 × 2</caption>\n",
       "<thead>\n",
       "\t<tr><th></th><th scope=col>Profesi</th><th scope=col>Profesi.1</th></tr>\n",
       "\t<tr><th></th><th scope=col>&lt;chr&gt;</th><th scope=col>&lt;int&gt;</th></tr>\n",
       "</thead>\n",
       "<tbody>\n",
       "\t<tr><th scope=row>1</th><td>Wiraswasta      </td><td>5</td></tr>\n",
       "\t<tr><th scope=row>2</th><td>Pelajar         </td><td>3</td></tr>\n",
       "\t<tr><th scope=row>3</th><td>Professional    </td><td>4</td></tr>\n",
       "\t<tr><th scope=row>17</th><td>Ibu Rumah Tangga</td><td>1</td></tr>\n",
       "\t<tr><th scope=row>31</th><td>Mahasiswa       </td><td>2</td></tr>\n",
       "</tbody>\n",
       "</table>\n"
      ],
      "text/latex": [
       "A data.frame: 5 × 2\n",
       "\\begin{tabular}{r|ll}\n",
       "  & Profesi & Profesi.1\\\\\n",
       "  & <chr> & <int>\\\\\n",
       "\\hline\n",
       "\t1 & Wiraswasta       & 5\\\\\n",
       "\t2 & Pelajar          & 3\\\\\n",
       "\t3 & Professional     & 4\\\\\n",
       "\t17 & Ibu Rumah Tangga & 1\\\\\n",
       "\t31 & Mahasiswa        & 2\\\\\n",
       "\\end{tabular}\n"
      ],
      "text/markdown": [
       "\n",
       "A data.frame: 5 × 2\n",
       "\n",
       "| <!--/--> | Profesi &lt;chr&gt; | Profesi.1 &lt;int&gt; |\n",
       "|---|---|---|\n",
       "| 1 | Wiraswasta       | 5 |\n",
       "| 2 | Pelajar          | 3 |\n",
       "| 3 | Professional     | 4 |\n",
       "| 17 | Ibu Rumah Tangga | 1 |\n",
       "| 31 | Mahasiswa        | 2 |\n",
       "\n"
      ],
      "text/plain": [
       "   Profesi          Profesi.1\n",
       "1  Wiraswasta       5        \n",
       "2  Pelajar          3        \n",
       "3  Professional     4        \n",
       "17 Ibu Rumah Tangga 1        \n",
       "31 Mahasiswa        2        "
      ]
     },
     "metadata": {},
     "output_type": "display_data"
    },
    {
     "data": {
      "text/html": [
       "<table class=\"dataframe\">\n",
       "<caption>A data.frame: 2 × 2</caption>\n",
       "<thead>\n",
       "\t<tr><th></th><th scope=col>Jenis.Kelamin</th><th scope=col>Jenis.Kelamin.1</th></tr>\n",
       "\t<tr><th></th><th scope=col>&lt;chr&gt;</th><th scope=col>&lt;int&gt;</th></tr>\n",
       "</thead>\n",
       "<tbody>\n",
       "\t<tr><th scope=row>1</th><td>Pria  </td><td>1</td></tr>\n",
       "\t<tr><th scope=row>2</th><td>Wanita</td><td>2</td></tr>\n",
       "</tbody>\n",
       "</table>\n"
      ],
      "text/latex": [
       "A data.frame: 2 × 2\n",
       "\\begin{tabular}{r|ll}\n",
       "  & Jenis.Kelamin & Jenis.Kelamin.1\\\\\n",
       "  & <chr> & <int>\\\\\n",
       "\\hline\n",
       "\t1 & Pria   & 1\\\\\n",
       "\t2 & Wanita & 2\\\\\n",
       "\\end{tabular}\n"
      ],
      "text/markdown": [
       "\n",
       "A data.frame: 2 × 2\n",
       "\n",
       "| <!--/--> | Jenis.Kelamin &lt;chr&gt; | Jenis.Kelamin.1 &lt;int&gt; |\n",
       "|---|---|---|\n",
       "| 1 | Pria   | 1 |\n",
       "| 2 | Wanita | 2 |\n",
       "\n"
      ],
      "text/plain": [
       "  Jenis.Kelamin Jenis.Kelamin.1\n",
       "1 Pria          1              \n",
       "2 Wanita        2              "
      ]
     },
     "metadata": {},
     "output_type": "display_data"
    },
    {
     "data": {
      "text/html": [
       "<table class=\"dataframe\">\n",
       "<caption>A data.frame: 2 × 2</caption>\n",
       "<thead>\n",
       "\t<tr><th></th><th scope=col>Tipe.Residen</th><th scope=col>Tipe.Residen.1</th></tr>\n",
       "\t<tr><th></th><th scope=col>&lt;chr&gt;</th><th scope=col>&lt;int&gt;</th></tr>\n",
       "</thead>\n",
       "<tbody>\n",
       "\t<tr><th scope=row>1</th><td>Sector </td><td>2</td></tr>\n",
       "\t<tr><th scope=row>2</th><td>Cluster</td><td>1</td></tr>\n",
       "</tbody>\n",
       "</table>\n"
      ],
      "text/latex": [
       "A data.frame: 2 × 2\n",
       "\\begin{tabular}{r|ll}\n",
       "  & Tipe.Residen & Tipe.Residen.1\\\\\n",
       "  & <chr> & <int>\\\\\n",
       "\\hline\n",
       "\t1 & Sector  & 2\\\\\n",
       "\t2 & Cluster & 1\\\\\n",
       "\\end{tabular}\n"
      ],
      "text/markdown": [
       "\n",
       "A data.frame: 2 × 2\n",
       "\n",
       "| <!--/--> | Tipe.Residen &lt;chr&gt; | Tipe.Residen.1 &lt;int&gt; |\n",
       "|---|---|---|\n",
       "| 1 | Sector  | 2 |\n",
       "| 2 | Cluster | 1 |\n",
       "\n"
      ],
      "text/plain": [
       "  Tipe.Residen Tipe.Residen.1\n",
       "1 Sector       2             \n",
       "2 Cluster      1             "
      ]
     },
     "metadata": {},
     "output_type": "display_data"
    }
   ],
   "source": [
    "# Mengecek teks kategori dikonversi menjadi angka numerik berapa\n",
    "unique(pelanggan[c(\"Profesi\", \"Profesi.1\")])\n",
    "unique(pelanggan[c(\"Jenis.Kelamin\", \"Jenis.Kelamin.1\")])\n",
    "unique(pelanggan[c(\"Tipe.Residen\", \"Tipe.Residen.1\")])"
   ]
  },
  {
   "cell_type": "markdown",
   "metadata": {
    "id": "6NYjsCcJ5Ckr"
   },
   "source": [
    "Kelihatan kalau Wiraswasta dikonversi menjadi angka 5, Pelajar menjadi angka 3, Professional menjadi angka 4, Ibu Rumah Tangga menjadi angka 1, dan satu lagi adalah Mahasiswa yang dikonversi menjadi angka 2 (tidak terlihat disini)."
   ]
  },
  {
   "cell_type": "markdown",
   "metadata": {
    "id": "3buruJHF4NRE"
   },
   "source": [
    "Kita akan menormalisasikan NilaiBelanjaSetahun agar perhitungan lebih sederhana dan mudah dicerna, namun tidak mengurangi akurasi. karena ketika kolom ini digunakan untuk clustering, perhitungan sum of squared errors akan menjadi sangat besar"
   ]
  },
  {
   "cell_type": "code",
   "execution_count": 11,
   "metadata": {
    "id": "NLmd7_QR38Fj"
   },
   "outputs": [
    {
     "data": {
      "text/html": [
       "<table class=\"dataframe\">\n",
       "<caption>A data.frame: 6 × 10</caption>\n",
       "<thead>\n",
       "\t<tr><th></th><th scope=col>Customer_ID</th><th scope=col>Nama.Pelanggan</th><th scope=col>Jenis.Kelamin</th><th scope=col>Umur</th><th scope=col>Profesi</th><th scope=col>Tipe.Residen</th><th scope=col>NilaiBelanjaSetahun</th><th scope=col>Jenis.Kelamin.1</th><th scope=col>Profesi.1</th><th scope=col>Tipe.Residen.1</th></tr>\n",
       "\t<tr><th></th><th scope=col>&lt;chr&gt;</th><th scope=col>&lt;chr&gt;</th><th scope=col>&lt;chr&gt;</th><th scope=col>&lt;int&gt;</th><th scope=col>&lt;chr&gt;</th><th scope=col>&lt;chr&gt;</th><th scope=col>&lt;dbl&gt;</th><th scope=col>&lt;int&gt;</th><th scope=col>&lt;int&gt;</th><th scope=col>&lt;int&gt;</th></tr>\n",
       "</thead>\n",
       "<tbody>\n",
       "\t<tr><th scope=row>1</th><td>CUST-001</td><td>Budi Anggara       </td><td>Pria  </td><td>58</td><td>Wiraswasta  </td><td>Sector </td><td> 9.497927</td><td>1</td><td>5</td><td>2</td></tr>\n",
       "\t<tr><th scope=row>2</th><td>CUST-002</td><td>Shirley Ratuwati   </td><td>Wanita</td><td>14</td><td>Pelajar     </td><td>Cluster</td><td> 2.722700</td><td>2</td><td>3</td><td>1</td></tr>\n",
       "\t<tr><th scope=row>3</th><td>CUST-003</td><td>Agus Cahyono       </td><td>Pria  </td><td>48</td><td>Professional</td><td>Cluster</td><td> 5.286429</td><td>1</td><td>4</td><td>1</td></tr>\n",
       "\t<tr><th scope=row>4</th><td>CUST-004</td><td>Antonius Winarta   </td><td>Pria  </td><td>53</td><td>Professional</td><td>Cluster</td><td> 5.204498</td><td>1</td><td>4</td><td>1</td></tr>\n",
       "\t<tr><th scope=row>5</th><td>CUST-005</td><td>Ibu Sri Wahyuni, IR</td><td>Wanita</td><td>41</td><td>Wiraswasta  </td><td>Cluster</td><td>10.615206</td><td>2</td><td>5</td><td>1</td></tr>\n",
       "\t<tr><th scope=row>6</th><td>CUST-006</td><td>Rosalina Kurnia    </td><td>Wanita</td><td>24</td><td>Professional</td><td>Cluster</td><td> 5.215541</td><td>2</td><td>4</td><td>1</td></tr>\n",
       "</tbody>\n",
       "</table>\n"
      ],
      "text/latex": [
       "A data.frame: 6 × 10\n",
       "\\begin{tabular}{r|llllllllll}\n",
       "  & Customer\\_ID & Nama.Pelanggan & Jenis.Kelamin & Umur & Profesi & Tipe.Residen & NilaiBelanjaSetahun & Jenis.Kelamin.1 & Profesi.1 & Tipe.Residen.1\\\\\n",
       "  & <chr> & <chr> & <chr> & <int> & <chr> & <chr> & <dbl> & <int> & <int> & <int>\\\\\n",
       "\\hline\n",
       "\t1 & CUST-001 & Budi Anggara        & Pria   & 58 & Wiraswasta   & Sector  &  9.497927 & 1 & 5 & 2\\\\\n",
       "\t2 & CUST-002 & Shirley Ratuwati    & Wanita & 14 & Pelajar      & Cluster &  2.722700 & 2 & 3 & 1\\\\\n",
       "\t3 & CUST-003 & Agus Cahyono        & Pria   & 48 & Professional & Cluster &  5.286429 & 1 & 4 & 1\\\\\n",
       "\t4 & CUST-004 & Antonius Winarta    & Pria   & 53 & Professional & Cluster &  5.204498 & 1 & 4 & 1\\\\\n",
       "\t5 & CUST-005 & Ibu Sri Wahyuni, IR & Wanita & 41 & Wiraswasta   & Cluster & 10.615206 & 2 & 5 & 1\\\\\n",
       "\t6 & CUST-006 & Rosalina Kurnia     & Wanita & 24 & Professional & Cluster &  5.215541 & 2 & 4 & 1\\\\\n",
       "\\end{tabular}\n"
      ],
      "text/markdown": [
       "\n",
       "A data.frame: 6 × 10\n",
       "\n",
       "| <!--/--> | Customer_ID &lt;chr&gt; | Nama.Pelanggan &lt;chr&gt; | Jenis.Kelamin &lt;chr&gt; | Umur &lt;int&gt; | Profesi &lt;chr&gt; | Tipe.Residen &lt;chr&gt; | NilaiBelanjaSetahun &lt;dbl&gt; | Jenis.Kelamin.1 &lt;int&gt; | Profesi.1 &lt;int&gt; | Tipe.Residen.1 &lt;int&gt; |\n",
       "|---|---|---|---|---|---|---|---|---|---|---|\n",
       "| 1 | CUST-001 | Budi Anggara        | Pria   | 58 | Wiraswasta   | Sector  |  9.497927 | 1 | 5 | 2 |\n",
       "| 2 | CUST-002 | Shirley Ratuwati    | Wanita | 14 | Pelajar      | Cluster |  2.722700 | 2 | 3 | 1 |\n",
       "| 3 | CUST-003 | Agus Cahyono        | Pria   | 48 | Professional | Cluster |  5.286429 | 1 | 4 | 1 |\n",
       "| 4 | CUST-004 | Antonius Winarta    | Pria   | 53 | Professional | Cluster |  5.204498 | 1 | 4 | 1 |\n",
       "| 5 | CUST-005 | Ibu Sri Wahyuni, IR | Wanita | 41 | Wiraswasta   | Cluster | 10.615206 | 2 | 5 | 1 |\n",
       "| 6 | CUST-006 | Rosalina Kurnia     | Wanita | 24 | Professional | Cluster |  5.215541 | 2 | 4 | 1 |\n",
       "\n"
      ],
      "text/plain": [
       "  Customer_ID Nama.Pelanggan      Jenis.Kelamin Umur Profesi      Tipe.Residen\n",
       "1 CUST-001    Budi Anggara        Pria          58   Wiraswasta   Sector      \n",
       "2 CUST-002    Shirley Ratuwati    Wanita        14   Pelajar      Cluster     \n",
       "3 CUST-003    Agus Cahyono        Pria          48   Professional Cluster     \n",
       "4 CUST-004    Antonius Winarta    Pria          53   Professional Cluster     \n",
       "5 CUST-005    Ibu Sri Wahyuni, IR Wanita        41   Wiraswasta   Cluster     \n",
       "6 CUST-006    Rosalina Kurnia     Wanita        24   Professional Cluster     \n",
       "  NilaiBelanjaSetahun Jenis.Kelamin.1 Profesi.1 Tipe.Residen.1\n",
       "1  9.497927           1               5         2             \n",
       "2  2.722700           2               3         1             \n",
       "3  5.286429           1               4         1             \n",
       "4  5.204498           1               4         1             \n",
       "5 10.615206           2               5         1             \n",
       "6  5.215541           2               4         1             "
      ]
     },
     "metadata": {},
     "output_type": "display_data"
    }
   ],
   "source": [
    "# Menormalisasikan Nilai Belanja\n",
    "pelanggan$NilaiBelanjaSetahun <- pelanggan$NilaiBelanjaSetahun / 1000000\n",
    "head(pelanggan)"
   ]
  },
  {
   "cell_type": "markdown",
   "metadata": {
    "id": "8eus6j03Z7wM"
   },
   "source": [
    "####Membuat Data Master"
   ]
  },
  {
   "cell_type": "code",
   "execution_count": 12,
   "metadata": {
    "id": "jKielkthaMyc"
   },
   "outputs": [],
   "source": [
    "#Membuat Data Master\n",
    "Profesi <- unique(pelanggan[c(\"Profesi\",\"Profesi.1\")])\n",
    "Jenis.Kelamin <- unique(pelanggan[c(\"Jenis.Kelamin\",\"Jenis.Kelamin.1\")])\n",
    "Tipe.Residen <- unique(pelanggan[c(\"Tipe.Residen\",\"Tipe.Residen.1\")])"
   ]
  },
  {
   "cell_type": "markdown",
   "metadata": {
    "id": "xM_ma0Qd5Xni"
   },
   "source": [
    "####MODELLING\n",
    "Karena kita akan melakukan segmentasi pelanggan, maka kita akan mengclusterkan pelanggan yang dimana membagi pelanggan kedalam beberapa kelompok berdasarkan tingkat kemiripan antara satu pelanggan dengan yang lainnya. DIsini menggunakan algoritma machine learning K-Means untuk mengclusterkan pelanggan."
   ]
  },
  {
   "cell_type": "code",
   "execution_count": 13,
   "metadata": {
    "id": "NZvaH9oP5DUb"
   },
   "outputs": [
    {
     "data": {
      "text/plain": [
       "K-means clustering with 5 clusters of sizes 5, 12, 14, 9, 10\n",
       "\n",
       "Cluster means:\n",
       "  Jenis.Kelamin.1     Umur Profesi.1 Tipe.Residen.1 NilaiBelanjaSetahun\n",
       "1            1.40 61.80000  4.200000       1.400000            8.696132\n",
       "2            1.75 31.58333  3.916667       1.250000            7.330958\n",
       "3            2.00 20.07143  3.571429       1.357143            5.901089\n",
       "4            2.00 42.33333  4.000000       1.555556            8.804791\n",
       "5            1.70 52.50000  3.800000       1.300000            6.018321\n",
       "\n",
       "Clustering vector:\n",
       " [1] 1 3 5 5 4 3 1 5 2 2 5 5 1 1 3 2 2 1 2 3 4 5 2 4 2 5 2 4 5 4 3 4 3 3 4 2 3 4\n",
       "[39] 3 3 3 2 2 3 3 3 5 4 2 5\n",
       "\n",
       "Within cluster sum of squares by cluster:\n",
       "[1]  58.21123 174.85164 316.73367 171.67372 108.49735\n",
       " (between_SS / total_SS =  92.4 %)\n",
       "\n",
       "Available components:\n",
       "\n",
       "[1] \"cluster\"      \"centers\"      \"totss\"        \"withinss\"     \"tot.withinss\"\n",
       "[6] \"betweenss\"    \"size\"         \"iter\"         \"ifault\"      "
      ]
     },
     "metadata": {},
     "output_type": "display_data"
    }
   ],
   "source": [
    "set.seed(100)\n",
    "\n",
    "# Kolom yang digunakan\n",
    "field_yang_digunakan <- c(\"Jenis.Kelamin.1\", \"Umur\", \"Profesi.1\", \"Tipe.Residen.1\", \"NilaiBelanjaSetahun\")\n",
    "\n",
    "segmentasi <- kmeans(x=pelanggan[field_yang_digunakan], centers=5, nstart=25)\n",
    "segmentasi"
   ]
  },
  {
   "cell_type": "markdown",
   "metadata": {
    "id": "hkAF8iDv7Q17"
   },
   "source": [
    "Terdapat 5 kelompok data yang telah dibagi ke dalam klaster berdasarkan beberapa kriteria.\n",
    "\n",
    "Klaster pertama memiliki 5 data dengan rata-rata usia 61 tahun, dimana 40% dari mereka berjenis kelamin pria dan 60% berjenis kelamin wanita. Mayoritas dari kelompok ini adalah profesional atau pekerja swasta, dengan pengeluaran tahunan rata-rata sekitar 8.7 juta.\n",
    "\n",
    "Klaster kedua terdiri dari 12 data dengan rata-rata usia 31 tahun, dimana mayoritas hampir semuanya berjenis kelamin wanita. Mayoritas dari mereka berprofesi sebagai profesional, dengan pengeluaran tahunan rata-rata sekitar 7.3 juta.\n",
    "\n",
    "Klaster ketiga terdiri dari 14 data dengan rata-rata usia 20 tahun dan mayoritas berjenis kelamin wanita. Mayoritas dari mereka adalah pelajar atau profesional, dan mereka menghabiskan rata-rata belanja tahunan hampir mencapai 6 juta.\n",
    "\n",
    "Klaster keempat terdiri dari 9 data dengan rata-rata usia 42 tahun, semuanya berjenis kelamin wanita, mayoritas dari mereka bekerja sebagai profesional, dan mereka memiliki pengeluaran tahunan rata-rata sebesar 8.8 juta.\n",
    "\n",
    "Terakhir, klaster kelima memiliki 10 data dengan rata-rata usia 52 tahun, dimana mayoritas juga berjenis kelamin wanita. Sebagian besar dari kelompok ini berprofesi sebagai profesional dan memiliki pengeluaran tahunan sekitar 6 juta.\n",
    "\n"
   ]
  },
  {
   "cell_type": "markdown",
   "metadata": {
    "id": "AQPRFhiAIW5d"
   },
   "source": [
    "Analisa Hasil Model K Means:\n",
    "*   Berdasarkan cluster, nilai 58.211228098358 adalah SS untuk cluster ke-1, nilai 174.851640331072 adalah SS untuk cluster ke-2, nilai 316.733666810598 adalah SS untuk cluster ke-3, nilai 171.673715890372 adalah SS untuk cluster ke-4, dan nilai 108.497347873209 adalah SS untuk cluster ke-5. Semakin kecil nilainya berpotensi semakin baik.\n",
    "* total_SS: adalah SS untuk seluruh titik terhadap nilai rata-rata global, bukan untuk per cluster. Nilai ini selalu tetap dan tidak terpengaruh dengan jumlah cluster.\n",
    "* between_SS: adalah total_SS dikurangi dengan jumlah nilai SS seluruh cluster.\n",
    "* (between_SS / total_SS) adalah rasio antara between_SS dibagi dengan total_SS. Semakin besar persentasenya, umumnya semakin baik. Karena di sini rasionya cukup besar (92.4%), maka kemungkinan hasilnya akan semakin baik.\n",
    "\n",
    "\n"
   ]
  },
  {
   "cell_type": "code",
   "execution_count": 14,
   "metadata": {
    "id": "17D_Var8MWml"
   },
   "outputs": [
    {
     "data": {
      "text/html": [
       "<style>\n",
       ".list-inline {list-style: none; margin:0; padding: 0}\n",
       ".list-inline>li {display: inline-block}\n",
       ".list-inline>li:not(:last-child)::after {content: \"\\00b7\"; padding: 0 .5ex}\n",
       "</style>\n",
       "<ol class=list-inline><li>10990.9740325902</li><li>3016.56115098999</li><li>1550.87245258579</li><li>1064.4186744681</li><li>829.967599003609</li><li>625.146176215474</li><li>508.156812409351</li><li>431.697737230219</li><li>374.109472124797</li><li>317.942393960025</li></ol>\n"
      ],
      "text/latex": [
       "\\begin{enumerate*}\n",
       "\\item 10990.9740325902\n",
       "\\item 3016.56115098999\n",
       "\\item 1550.87245258579\n",
       "\\item 1064.4186744681\n",
       "\\item 829.967599003609\n",
       "\\item 625.146176215474\n",
       "\\item 508.156812409351\n",
       "\\item 431.697737230219\n",
       "\\item 374.109472124797\n",
       "\\item 317.942393960025\n",
       "\\end{enumerate*}\n"
      ],
      "text/markdown": [
       "1. 10990.9740325902\n",
       "2. 3016.56115098999\n",
       "3. 1550.87245258579\n",
       "4. 1064.4186744681\n",
       "5. 829.967599003609\n",
       "6. 625.146176215474\n",
       "7. 508.156812409351\n",
       "8. 431.697737230219\n",
       "9. 374.109472124797\n",
       "10. 317.942393960025\n",
       "\n",
       "\n"
      ],
      "text/plain": [
       " [1] 10990.9740  3016.5612  1550.8725  1064.4187   829.9676   625.1462\n",
       " [7]   508.1568   431.6977   374.1095   317.9424"
      ]
     },
     "metadata": {},
     "output_type": "display_data"
    }
   ],
   "source": [
    "# Simulasi Jumlah Cluster dan SS\n",
    "sse <- sapply(1:10, function(param_k) {kmeans(pelanggan[field_yang_digunakan], param_k, nstart=25)$tot.withinss})\n",
    "sse"
   ]
  },
  {
   "cell_type": "code",
   "execution_count": 15,
   "metadata": {
    "id": "-WqGW7-wMlaN"
   },
   "outputs": [
    {
     "name": "stderr",
     "output_type": "stream",
     "text": [
      "Warning message:\n",
      "\"\u001b[1m\u001b[22mContinuous limits supplied to discrete scale.\n",
      "\u001b[36mi\u001b[39m Did you mean `limits = factor(...)` or `scale_*_continuous()`?\"\n"
     ]
    },
    {
     "data": {
      "image/png": "[encoded data removed]",
      "text/plain": [
       "plot without title"
      ]
     },
     "metadata": {
      "image/png": {
       "height": 360,
       "width": 720
      }
     },
     "output_type": "display_data"
    }
   ],
   "source": [
    "# Plot Sum of Squared Errors\n",
    "jumlah_cluster_max <- 10\n",
    "ssdata = data.frame(cluster=c(1:jumlah_cluster_max),sse)\n",
    "ggplot(ssdata, aes(x=cluster,y=sse)) +\n",
    "                geom_line(color=\"red\") + geom_point() +\n",
    "                ylab(\"Within Cluster Sum of Squares\") + xlab(\"Jumlah Cluster\") +\n",
    "                geom_text(aes(label=format(round(sse, 2), nsmall = 2)),hjust=-0.2, vjust=-0.5) +\n",
    "  scale_x_discrete(limits=c(1:jumlah_cluster_max))"
   ]
  },
  {
   "cell_type": "markdown",
   "metadata": {
    "id": "Ak0LjlF-M5RV"
   },
   "source": [
    "Dari grafik yang kita hasilkan ini, kita melihat bahwa untuk cluster ke-1 hingga ke-2, penurunan nilai Sum of Squares nya lebih besar dari cluster-cluster lainnya, begitu juga untuk cluster ke 2–3. Namun, saat memasuki cluster 3–4 dan 4–5, penurunan nilai SSE nya tidak terlalu signifikan, sehingga dari grafik ini sudah terlihat jelas bahwa kita bisa memilih 4 atau 5 sebagai jumlah cluster optimal yang bisa kita pilih."
   ]
  },
  {
   "cell_type": "code",
   "execution_count": 16,
   "metadata": {
    "id": "iqoXpW5eAi-j"
   },
   "outputs": [
    {
     "data": {
      "text/html": [
       "<table class=\"dataframe\">\n",
       "<caption>A data.frame: 10 × 8</caption>\n",
       "<thead>\n",
       "\t<tr><th></th><th scope=col>Customer_ID</th><th scope=col>Nama.Pelanggan</th><th scope=col>Jenis.Kelamin</th><th scope=col>Umur</th><th scope=col>Profesi</th><th scope=col>Tipe.Residen</th><th scope=col>NilaiBelanjaSetahun</th><th scope=col>cluster</th></tr>\n",
       "\t<tr><th></th><th scope=col>&lt;chr&gt;</th><th scope=col>&lt;chr&gt;</th><th scope=col>&lt;chr&gt;</th><th scope=col>&lt;int&gt;</th><th scope=col>&lt;chr&gt;</th><th scope=col>&lt;chr&gt;</th><th scope=col>&lt;dbl&gt;</th><th scope=col>&lt;int&gt;</th></tr>\n",
       "</thead>\n",
       "<tbody>\n",
       "\t<tr><th scope=row>1</th><td>CUST-001</td><td>Budi Anggara         </td><td>Pria  </td><td>58</td><td>Wiraswasta  </td><td>Sector </td><td> 9.497927</td><td>1</td></tr>\n",
       "\t<tr><th scope=row>2</th><td>CUST-002</td><td>Shirley Ratuwati     </td><td>Wanita</td><td>14</td><td>Pelajar     </td><td>Cluster</td><td> 2.722700</td><td>3</td></tr>\n",
       "\t<tr><th scope=row>3</th><td>CUST-003</td><td>Agus Cahyono         </td><td>Pria  </td><td>48</td><td>Professional</td><td>Cluster</td><td> 5.286429</td><td>5</td></tr>\n",
       "\t<tr><th scope=row>4</th><td>CUST-004</td><td>Antonius Winarta     </td><td>Pria  </td><td>53</td><td>Professional</td><td>Cluster</td><td> 5.204498</td><td>5</td></tr>\n",
       "\t<tr><th scope=row>5</th><td>CUST-005</td><td>Ibu Sri Wahyuni, IR  </td><td>Wanita</td><td>41</td><td>Wiraswasta  </td><td>Cluster</td><td>10.615206</td><td>4</td></tr>\n",
       "\t<tr><th scope=row>6</th><td>CUST-006</td><td>Rosalina Kurnia      </td><td>Wanita</td><td>24</td><td>Professional</td><td>Cluster</td><td> 5.215541</td><td>3</td></tr>\n",
       "\t<tr><th scope=row>7</th><td>CUST-007</td><td>Cahyono, Agus        </td><td>Pria  </td><td>64</td><td>Wiraswasta  </td><td>Sector </td><td> 9.837260</td><td>1</td></tr>\n",
       "\t<tr><th scope=row>8</th><td>CUST-008</td><td>Danang Santosa       </td><td>Pria  </td><td>52</td><td>Professional</td><td>Cluster</td><td> 5.223569</td><td>5</td></tr>\n",
       "\t<tr><th scope=row>9</th><td>CUST-009</td><td>Elisabeth Suryadinata</td><td>Wanita</td><td>29</td><td>Professional</td><td>Sector </td><td> 5.993218</td><td>2</td></tr>\n",
       "\t<tr><th scope=row>10</th><td>CUST-010</td><td>Mario Setiawan       </td><td>Pria  </td><td>33</td><td>Professional</td><td>Cluster</td><td> 5.257448</td><td>2</td></tr>\n",
       "</tbody>\n",
       "</table>\n"
      ],
      "text/latex": [
       "A data.frame: 10 × 8\n",
       "\\begin{tabular}{r|llllllll}\n",
       "  & Customer\\_ID & Nama.Pelanggan & Jenis.Kelamin & Umur & Profesi & Tipe.Residen & NilaiBelanjaSetahun & cluster\\\\\n",
       "  & <chr> & <chr> & <chr> & <int> & <chr> & <chr> & <dbl> & <int>\\\\\n",
       "\\hline\n",
       "\t1 & CUST-001 & Budi Anggara          & Pria   & 58 & Wiraswasta   & Sector  &  9.497927 & 1\\\\\n",
       "\t2 & CUST-002 & Shirley Ratuwati      & Wanita & 14 & Pelajar      & Cluster &  2.722700 & 3\\\\\n",
       "\t3 & CUST-003 & Agus Cahyono          & Pria   & 48 & Professional & Cluster &  5.286429 & 5\\\\\n",
       "\t4 & CUST-004 & Antonius Winarta      & Pria   & 53 & Professional & Cluster &  5.204498 & 5\\\\\n",
       "\t5 & CUST-005 & Ibu Sri Wahyuni, IR   & Wanita & 41 & Wiraswasta   & Cluster & 10.615206 & 4\\\\\n",
       "\t6 & CUST-006 & Rosalina Kurnia       & Wanita & 24 & Professional & Cluster &  5.215541 & 3\\\\\n",
       "\t7 & CUST-007 & Cahyono, Agus         & Pria   & 64 & Wiraswasta   & Sector  &  9.837260 & 1\\\\\n",
       "\t8 & CUST-008 & Danang Santosa        & Pria   & 52 & Professional & Cluster &  5.223569 & 5\\\\\n",
       "\t9 & CUST-009 & Elisabeth Suryadinata & Wanita & 29 & Professional & Sector  &  5.993218 & 2\\\\\n",
       "\t10 & CUST-010 & Mario Setiawan        & Pria   & 33 & Professional & Cluster &  5.257448 & 2\\\\\n",
       "\\end{tabular}\n"
      ],
      "text/markdown": [
       "\n",
       "A data.frame: 10 × 8\n",
       "\n",
       "| <!--/--> | Customer_ID &lt;chr&gt; | Nama.Pelanggan &lt;chr&gt; | Jenis.Kelamin &lt;chr&gt; | Umur &lt;int&gt; | Profesi &lt;chr&gt; | Tipe.Residen &lt;chr&gt; | NilaiBelanjaSetahun &lt;dbl&gt; | cluster &lt;int&gt; |\n",
       "|---|---|---|---|---|---|---|---|---|\n",
       "| 1 | CUST-001 | Budi Anggara          | Pria   | 58 | Wiraswasta   | Sector  |  9.497927 | 1 |\n",
       "| 2 | CUST-002 | Shirley Ratuwati      | Wanita | 14 | Pelajar      | Cluster |  2.722700 | 3 |\n",
       "| 3 | CUST-003 | Agus Cahyono          | Pria   | 48 | Professional | Cluster |  5.286429 | 5 |\n",
       "| 4 | CUST-004 | Antonius Winarta      | Pria   | 53 | Professional | Cluster |  5.204498 | 5 |\n",
       "| 5 | CUST-005 | Ibu Sri Wahyuni, IR   | Wanita | 41 | Wiraswasta   | Cluster | 10.615206 | 4 |\n",
       "| 6 | CUST-006 | Rosalina Kurnia       | Wanita | 24 | Professional | Cluster |  5.215541 | 3 |\n",
       "| 7 | CUST-007 | Cahyono, Agus         | Pria   | 64 | Wiraswasta   | Sector  |  9.837260 | 1 |\n",
       "| 8 | CUST-008 | Danang Santosa        | Pria   | 52 | Professional | Cluster |  5.223569 | 5 |\n",
       "| 9 | CUST-009 | Elisabeth Suryadinata | Wanita | 29 | Professional | Sector  |  5.993218 | 2 |\n",
       "| 10 | CUST-010 | Mario Setiawan        | Pria   | 33 | Professional | Cluster |  5.257448 | 2 |\n",
       "\n"
      ],
      "text/plain": [
       "   Customer_ID Nama.Pelanggan        Jenis.Kelamin Umur Profesi     \n",
       "1  CUST-001    Budi Anggara          Pria          58   Wiraswasta  \n",
       "2  CUST-002    Shirley Ratuwati      Wanita        14   Pelajar     \n",
       "3  CUST-003    Agus Cahyono          Pria          48   Professional\n",
       "4  CUST-004    Antonius Winarta      Pria          53   Professional\n",
       "5  CUST-005    Ibu Sri Wahyuni, IR   Wanita        41   Wiraswasta  \n",
       "6  CUST-006    Rosalina Kurnia       Wanita        24   Professional\n",
       "7  CUST-007    Cahyono, Agus         Pria          64   Wiraswasta  \n",
       "8  CUST-008    Danang Santosa        Pria          52   Professional\n",
       "9  CUST-009    Elisabeth Suryadinata Wanita        29   Professional\n",
       "10 CUST-010    Mario Setiawan        Pria          33   Professional\n",
       "   Tipe.Residen NilaiBelanjaSetahun cluster\n",
       "1  Sector        9.497927           1      \n",
       "2  Cluster       2.722700           3      \n",
       "3  Cluster       5.286429           5      \n",
       "4  Cluster       5.204498           5      \n",
       "5  Cluster      10.615206           4      \n",
       "6  Cluster       5.215541           3      \n",
       "7  Sector        9.837260           1      \n",
       "8  Cluster       5.223569           5      \n",
       "9  Sector        5.993218           2      \n",
       "10 Cluster       5.257448           2      "
      ]
     },
     "metadata": {},
     "output_type": "display_data"
    }
   ],
   "source": [
    "# Menggabungkan hasil segmentasi ke data utama\n",
    "pelanggan$cluster <- segmentasi$cluster\n",
    "head(pelanggan[c(\"Customer_ID\",\t\"Nama.Pelanggan\",\t\"Jenis.Kelamin\",\t\"Umur\",\t\"Profesi\",\t\"Tipe.Residen\",\t\"NilaiBelanjaSetahun\", \"cluster\")], 10)"
   ]
  },
  {
   "cell_type": "code",
   "execution_count": 17,
   "metadata": {
    "id": "WRStF_MSHLtl"
   },
   "outputs": [
    {
     "data": {
      "text/html": [
       "<table class=\"dataframe\">\n",
       "<caption>A data.frame: 5 × 11</caption>\n",
       "<thead>\n",
       "\t<tr><th></th><th scope=col>Customer_ID</th><th scope=col>Nama.Pelanggan</th><th scope=col>Jenis.Kelamin</th><th scope=col>Umur</th><th scope=col>Profesi</th><th scope=col>Tipe.Residen</th><th scope=col>NilaiBelanjaSetahun</th><th scope=col>Jenis.Kelamin.1</th><th scope=col>Profesi.1</th><th scope=col>Tipe.Residen.1</th><th scope=col>cluster</th></tr>\n",
       "\t<tr><th></th><th scope=col>&lt;chr&gt;</th><th scope=col>&lt;chr&gt;</th><th scope=col>&lt;chr&gt;</th><th scope=col>&lt;int&gt;</th><th scope=col>&lt;chr&gt;</th><th scope=col>&lt;chr&gt;</th><th scope=col>&lt;dbl&gt;</th><th scope=col>&lt;int&gt;</th><th scope=col>&lt;int&gt;</th><th scope=col>&lt;int&gt;</th><th scope=col>&lt;int&gt;</th></tr>\n",
       "</thead>\n",
       "<tbody>\n",
       "\t<tr><th scope=row>1</th><td>CUST-001</td><td>Budi Anggara  </td><td>Pria  </td><td>58</td><td>Wiraswasta      </td><td>Sector </td><td>9.497927</td><td>1</td><td>5</td><td>2</td><td>1</td></tr>\n",
       "\t<tr><th scope=row>7</th><td>CUST-007</td><td>Cahyono, Agus </td><td>Pria  </td><td>64</td><td>Wiraswasta      </td><td>Sector </td><td>9.837260</td><td>1</td><td>5</td><td>2</td><td>1</td></tr>\n",
       "\t<tr><th scope=row>13</th><td>CUST-013</td><td>Cahaya Putri  </td><td>Wanita</td><td>64</td><td>Wiraswasta      </td><td>Cluster</td><td>9.333168</td><td>2</td><td>5</td><td>1</td><td>1</td></tr>\n",
       "\t<tr><th scope=row>14</th><td>CUST-014</td><td>Mario Setiawan</td><td>Pria  </td><td>60</td><td>Wiraswasta      </td><td>Cluster</td><td>9.471615</td><td>1</td><td>5</td><td>1</td><td>1</td></tr>\n",
       "\t<tr><th scope=row>18</th><td>CUST-018</td><td>Nelly Halim   </td><td>Wanita</td><td>63</td><td>Ibu Rumah Tangga</td><td>Cluster</td><td>5.340690</td><td>2</td><td>1</td><td>1</td><td>1</td></tr>\n",
       "</tbody>\n",
       "</table>\n"
      ],
      "text/latex": [
       "A data.frame: 5 × 11\n",
       "\\begin{tabular}{r|lllllllllll}\n",
       "  & Customer\\_ID & Nama.Pelanggan & Jenis.Kelamin & Umur & Profesi & Tipe.Residen & NilaiBelanjaSetahun & Jenis.Kelamin.1 & Profesi.1 & Tipe.Residen.1 & cluster\\\\\n",
       "  & <chr> & <chr> & <chr> & <int> & <chr> & <chr> & <dbl> & <int> & <int> & <int> & <int>\\\\\n",
       "\\hline\n",
       "\t1 & CUST-001 & Budi Anggara   & Pria   & 58 & Wiraswasta       & Sector  & 9.497927 & 1 & 5 & 2 & 1\\\\\n",
       "\t7 & CUST-007 & Cahyono, Agus  & Pria   & 64 & Wiraswasta       & Sector  & 9.837260 & 1 & 5 & 2 & 1\\\\\n",
       "\t13 & CUST-013 & Cahaya Putri   & Wanita & 64 & Wiraswasta       & Cluster & 9.333168 & 2 & 5 & 1 & 1\\\\\n",
       "\t14 & CUST-014 & Mario Setiawan & Pria   & 60 & Wiraswasta       & Cluster & 9.471615 & 1 & 5 & 1 & 1\\\\\n",
       "\t18 & CUST-018 & Nelly Halim    & Wanita & 63 & Ibu Rumah Tangga & Cluster & 5.340690 & 2 & 1 & 1 & 1\\\\\n",
       "\\end{tabular}\n"
      ],
      "text/markdown": [
       "\n",
       "A data.frame: 5 × 11\n",
       "\n",
       "| <!--/--> | Customer_ID &lt;chr&gt; | Nama.Pelanggan &lt;chr&gt; | Jenis.Kelamin &lt;chr&gt; | Umur &lt;int&gt; | Profesi &lt;chr&gt; | Tipe.Residen &lt;chr&gt; | NilaiBelanjaSetahun &lt;dbl&gt; | Jenis.Kelamin.1 &lt;int&gt; | Profesi.1 &lt;int&gt; | Tipe.Residen.1 &lt;int&gt; | cluster &lt;int&gt; |\n",
       "|---|---|---|---|---|---|---|---|---|---|---|---|\n",
       "| 1 | CUST-001 | Budi Anggara   | Pria   | 58 | Wiraswasta       | Sector  | 9.497927 | 1 | 5 | 2 | 1 |\n",
       "| 7 | CUST-007 | Cahyono, Agus  | Pria   | 64 | Wiraswasta       | Sector  | 9.837260 | 1 | 5 | 2 | 1 |\n",
       "| 13 | CUST-013 | Cahaya Putri   | Wanita | 64 | Wiraswasta       | Cluster | 9.333168 | 2 | 5 | 1 | 1 |\n",
       "| 14 | CUST-014 | Mario Setiawan | Pria   | 60 | Wiraswasta       | Cluster | 9.471615 | 1 | 5 | 1 | 1 |\n",
       "| 18 | CUST-018 | Nelly Halim    | Wanita | 63 | Ibu Rumah Tangga | Cluster | 5.340690 | 2 | 1 | 1 | 1 |\n",
       "\n"
      ],
      "text/plain": [
       "   Customer_ID Nama.Pelanggan Jenis.Kelamin Umur Profesi          Tipe.Residen\n",
       "1  CUST-001    Budi Anggara   Pria          58   Wiraswasta       Sector      \n",
       "7  CUST-007    Cahyono, Agus  Pria          64   Wiraswasta       Sector      \n",
       "13 CUST-013    Cahaya Putri   Wanita        64   Wiraswasta       Cluster     \n",
       "14 CUST-014    Mario Setiawan Pria          60   Wiraswasta       Cluster     \n",
       "18 CUST-018    Nelly Halim    Wanita        63   Ibu Rumah Tangga Cluster     \n",
       "   NilaiBelanjaSetahun Jenis.Kelamin.1 Profesi.1 Tipe.Residen.1 cluster\n",
       "1  9.497927            1               5         2              1      \n",
       "7  9.837260            1               5         2              1      \n",
       "13 9.333168            2               5         1              1      \n",
       "14 9.471615            1               5         1              1      \n",
       "18 5.340690            2               1         1              1      "
      ]
     },
     "metadata": {},
     "output_type": "display_data"
    }
   ],
   "source": [
    "# Melihat data pada cluster ke (Misal cluster 1)\n",
    "pelanggan[which(pelanggan$cluster == 1),]"
   ]
  },
  {
   "cell_type": "markdown",
   "metadata": {
    "id": "-WZJsuRMGf1d"
   },
   "source": [
    "#### Memberi nama segmen\n",
    "\n",
    "Cluster 1 : Diamond Senior Member: alasannya adalah karena umurnya rata-rata adalah 61 tahun dan pembelanjaan di atas 8 juta.\n",
    "\n",
    "Cluster 2 : Gold Young Professional: alasannya adalah karena umurnya rata-rata adalah 31 tahun, professional dan pembelanjaan cukup besar.\n",
    "\n",
    "Cluster 3 : Silver Youth Gals: alasannya adalah karena umurnya rata-rata adalah 20, wanita semua, profesinya bercampur antar pelajar dan professional serta pembelanjaan sekitar 6 juta.\n",
    "\n",
    "Cluster 4 : Diamond Profesional: alasannya adalah karena umurnya rata-rata adalah 42 tahun, pembelanjaan paling tinggi dan semuanya berprofesi professional.\n",
    "\n",
    "Cluster 5 : Silver Mid Professional: alasannya adalah karena umurnya rata-rata adalah 52 tahun dan pembelanjaan sekitar 6 juta.\n"
   ]
  },
  {
   "cell_type": "code",
   "execution_count": 18,
   "metadata": {
    "id": "3hfL3xnkGW6k"
   },
   "outputs": [
    {
     "data": {
      "text/html": [
       "<table class=\"dataframe\">\n",
       "<caption>A data.frame: 5 × 2</caption>\n",
       "<thead>\n",
       "\t<tr><th scope=col>cluster</th><th scope=col>Nama.Segmen</th></tr>\n",
       "\t<tr><th scope=col>&lt;dbl&gt;</th><th scope=col>&lt;chr&gt;</th></tr>\n",
       "</thead>\n",
       "<tbody>\n",
       "\t<tr><td>1</td><td>Diamond Senior Member  </td></tr>\n",
       "\t<tr><td>2</td><td>Gold Young Professional</td></tr>\n",
       "\t<tr><td>3</td><td>Silver Youth Gals      </td></tr>\n",
       "\t<tr><td>4</td><td>Diamond Professional   </td></tr>\n",
       "\t<tr><td>5</td><td>Silver Mid Professional</td></tr>\n",
       "</tbody>\n",
       "</table>\n"
      ],
      "text/latex": [
       "A data.frame: 5 × 2\n",
       "\\begin{tabular}{ll}\n",
       " cluster & Nama.Segmen\\\\\n",
       " <dbl> & <chr>\\\\\n",
       "\\hline\n",
       "\t 1 & Diamond Senior Member  \\\\\n",
       "\t 2 & Gold Young Professional\\\\\n",
       "\t 3 & Silver Youth Gals      \\\\\n",
       "\t 4 & Diamond Professional   \\\\\n",
       "\t 5 & Silver Mid Professional\\\\\n",
       "\\end{tabular}\n"
      ],
      "text/markdown": [
       "\n",
       "A data.frame: 5 × 2\n",
       "\n",
       "| cluster &lt;dbl&gt; | Nama.Segmen &lt;chr&gt; |\n",
       "|---|---|\n",
       "| 1 | Diamond Senior Member   |\n",
       "| 2 | Gold Young Professional |\n",
       "| 3 | Silver Youth Gals       |\n",
       "| 4 | Diamond Professional    |\n",
       "| 5 | Silver Mid Professional |\n",
       "\n"
      ],
      "text/plain": [
       "  cluster Nama.Segmen            \n",
       "1 1       Diamond Senior Member  \n",
       "2 2       Gold Young Professional\n",
       "3 3       Silver Youth Gals      \n",
       "4 4       Diamond Professional   \n",
       "5 5       Silver Mid Professional"
      ]
     },
     "metadata": {},
     "output_type": "display_data"
    }
   ],
   "source": [
    "# Memberi nama segmen\n",
    "Segmen.Pelanggan <- data.frame(cluster = c(1, 2, 3, 4, 5),\n",
    "                                Nama.Segmen = c(\"Diamond Senior Member\",\n",
    "                                                \"Gold Young Professional\",\n",
    "                                                \"Silver Youth Gals\",\n",
    "                                                \"Diamond Professional\",\n",
    "                                                \"Silver Mid Professional\"))\n",
    "Segmen.Pelanggan"
   ]
  },
  {
   "cell_type": "code",
   "execution_count": 19,
   "metadata": {
    "id": "DOyI2mIqIE7j"
   },
   "outputs": [],
   "source": [
    "#Menggabungkan seluruh aset ke dalam variable Identitas.Cluster\n",
    "Identitas.Cluster <- list(Profesi=Profesi, Jenis.Kelamin=Jenis.Kelamin,\n",
    "                          Tipe.Residen=Tipe.Residen, Segmentasi=segmentasi,\n",
    "                          Segmen.Pelanggan=Segmen.Pelanggan,\n",
    "                          field_yang_digunakan=field_yang_digunakan)"
   ]
  },
  {
   "cell_type": "code",
   "execution_count": 20,
   "metadata": {
    "id": "wGnKaBWUMWN4"
   },
   "outputs": [],
   "source": [
    "# Menyimpan Objek dalam Bentuk File\n",
    "saveRDS(Identitas.Cluster, \"cluster.rds\")"
   ]
  },
  {
   "cell_type": "markdown",
   "metadata": {
    "id": "jQ3k6rHRKhtS"
   },
   "source": [
    "### Mengoperasionalkan Model K-Means"
   ]
  },
  {
   "cell_type": "code",
   "execution_count": 21,
   "metadata": {
    "id": "iz372YDuC5DE"
   },
   "outputs": [
    {
     "data": {
      "text/html": [
       "<table class=\"dataframe\">\n",
       "<caption>A data.frame: 1 × 7</caption>\n",
       "<thead>\n",
       "\t<tr><th scope=col>Customer_ID</th><th scope=col>Nama.Pelanggan</th><th scope=col>Umur</th><th scope=col>Jenis.Kelamin</th><th scope=col>Profesi</th><th scope=col>Tipe.Residen</th><th scope=col>NilaiBelanjaSetahun</th></tr>\n",
       "\t<tr><th scope=col>&lt;chr&gt;</th><th scope=col>&lt;chr&gt;</th><th scope=col>&lt;dbl&gt;</th><th scope=col>&lt;chr&gt;</th><th scope=col>&lt;chr&gt;</th><th scope=col>&lt;chr&gt;</th><th scope=col>&lt;dbl&gt;</th></tr>\n",
       "</thead>\n",
       "<tbody>\n",
       "\t<tr><td>CUST-100</td><td>Rudi Wilamar</td><td>20</td><td>Pria</td><td>Pelajar</td><td>Cluster</td><td>3.5</td></tr>\n",
       "</tbody>\n",
       "</table>\n"
      ],
      "text/latex": [
       "A data.frame: 1 × 7\n",
       "\\begin{tabular}{lllllll}\n",
       " Customer\\_ID & Nama.Pelanggan & Umur & Jenis.Kelamin & Profesi & Tipe.Residen & NilaiBelanjaSetahun\\\\\n",
       " <chr> & <chr> & <dbl> & <chr> & <chr> & <chr> & <dbl>\\\\\n",
       "\\hline\n",
       "\t CUST-100 & Rudi Wilamar & 20 & Pria & Pelajar & Cluster & 3.5\\\\\n",
       "\\end{tabular}\n"
      ],
      "text/markdown": [
       "\n",
       "A data.frame: 1 × 7\n",
       "\n",
       "| Customer_ID &lt;chr&gt; | Nama.Pelanggan &lt;chr&gt; | Umur &lt;dbl&gt; | Jenis.Kelamin &lt;chr&gt; | Profesi &lt;chr&gt; | Tipe.Residen &lt;chr&gt; | NilaiBelanjaSetahun &lt;dbl&gt; |\n",
       "|---|---|---|---|---|---|---|\n",
       "| CUST-100 | Rudi Wilamar | 20 | Pria | Pelajar | Cluster | 3.5 |\n",
       "\n"
      ],
      "text/plain": [
       "  Customer_ID Nama.Pelanggan Umur Jenis.Kelamin Profesi Tipe.Residen\n",
       "1 CUST-100    Rudi Wilamar   20   Pria          Pelajar Cluster     \n",
       "  NilaiBelanjaSetahun\n",
       "1 3.5                "
      ]
     },
     "metadata": {},
     "output_type": "display_data"
    }
   ],
   "source": [
    "# Data Baru\n",
    "databaru <- data.frame(Customer_ID=\"CUST-100\",\n",
    "                       Nama.Pelanggan=\"Rudi Wilamar\",\n",
    "                       Umur=20,\n",
    "                       Jenis.Kelamin=\"Pria\",\n",
    "                       Profesi=\"Pelajar\",\n",
    "                       Tipe.Residen=\"Cluster\",\n",
    "                       NilaiBelanjaSetahun=3.5)\n",
    "databaru"
   ]
  },
  {
   "cell_type": "code",
   "execution_count": 22,
   "metadata": {
    "id": "TySUuqLNM-WK"
   },
   "outputs": [
    {
     "data": {
      "text/plain": [
       "$Profesi\n",
       "            Profesi Profesi.1\n",
       "1        Wiraswasta         5\n",
       "2           Pelajar         3\n",
       "3      Professional         4\n",
       "17 Ibu Rumah Tangga         1\n",
       "31        Mahasiswa         2\n",
       "\n",
       "$Jenis.Kelamin\n",
       "  Jenis.Kelamin Jenis.Kelamin.1\n",
       "1          Pria               1\n",
       "2        Wanita               2\n",
       "\n",
       "$Tipe.Residen\n",
       "  Tipe.Residen Tipe.Residen.1\n",
       "1       Sector              2\n",
       "2      Cluster              1\n",
       "\n",
       "$Segmentasi\n",
       "K-means clustering with 5 clusters of sizes 5, 12, 14, 9, 10\n",
       "\n",
       "Cluster means:\n",
       "  Jenis.Kelamin.1     Umur Profesi.1 Tipe.Residen.1 NilaiBelanjaSetahun\n",
       "1            1.40 61.80000  4.200000       1.400000            8.696132\n",
       "2            1.75 31.58333  3.916667       1.250000            7.330958\n",
       "3            2.00 20.07143  3.571429       1.357143            5.901089\n",
       "4            2.00 42.33333  4.000000       1.555556            8.804791\n",
       "5            1.70 52.50000  3.800000       1.300000            6.018321\n",
       "\n",
       "Clustering vector:\n",
       " [1] 1 3 5 5 4 3 1 5 2 2 5 5 1 1 3 2 2 1 2 3 4 5 2 4 2 5 2 4 5 4 3 4 3 3 4 2 3 4\n",
       "[39] 3 3 3 2 2 3 3 3 5 4 2 5\n",
       "\n",
       "Within cluster sum of squares by cluster:\n",
       "[1]  58.21123 174.85164 316.73367 171.67372 108.49735\n",
       " (between_SS / total_SS =  92.4 %)\n",
       "\n",
       "Available components:\n",
       "\n",
       "[1] \"cluster\"      \"centers\"      \"totss\"        \"withinss\"     \"tot.withinss\"\n",
       "[6] \"betweenss\"    \"size\"         \"iter\"         \"ifault\"      \n",
       "\n",
       "$Segmen.Pelanggan\n",
       "  cluster             Nama.Segmen\n",
       "1       1   Diamond Senior Member\n",
       "2       2 Gold Young Professional\n",
       "3       3       Silver Youth Gals\n",
       "4       4    Diamond Professional\n",
       "5       5 Silver Mid Professional\n",
       "\n",
       "$field_yang_digunakan\n",
       "[1] \"Jenis.Kelamin.1\"     \"Umur\"                \"Profesi.1\"          \n",
       "[4] \"Tipe.Residen.1\"      \"NilaiBelanjaSetahun\"\n"
      ]
     },
     "metadata": {},
     "output_type": "display_data"
    }
   ],
   "source": [
    "# Memuat Objek Clustering dari File\n",
    "Identitas.Cluster <- readRDS(file=\"cluster.rds\")\n",
    "Identitas.Cluster"
   ]
  },
  {
   "cell_type": "code",
   "execution_count": 23,
   "metadata": {
    "id": "6EEUAHrFN7KV"
   },
   "outputs": [
    {
     "data": {
      "text/html": [
       "<table class=\"dataframe\">\n",
       "<caption>A data.frame: 1 × 10</caption>\n",
       "<thead>\n",
       "\t<tr><th scope=col>Tipe.Residen</th><th scope=col>Jenis.Kelamin</th><th scope=col>Profesi</th><th scope=col>Customer_ID</th><th scope=col>Nama.Pelanggan</th><th scope=col>Umur</th><th scope=col>NilaiBelanjaSetahun</th><th scope=col>Profesi.1</th><th scope=col>Jenis.Kelamin.1</th><th scope=col>Tipe.Residen.1</th></tr>\n",
       "\t<tr><th scope=col>&lt;chr&gt;</th><th scope=col>&lt;chr&gt;</th><th scope=col>&lt;chr&gt;</th><th scope=col>&lt;chr&gt;</th><th scope=col>&lt;chr&gt;</th><th scope=col>&lt;dbl&gt;</th><th scope=col>&lt;dbl&gt;</th><th scope=col>&lt;int&gt;</th><th scope=col>&lt;int&gt;</th><th scope=col>&lt;int&gt;</th></tr>\n",
       "</thead>\n",
       "<tbody>\n",
       "\t<tr><td>Cluster</td><td>Pria</td><td>Pelajar</td><td>CUST-100</td><td>Rudi Wilamar</td><td>20</td><td>3.5</td><td>3</td><td>1</td><td>1</td></tr>\n",
       "</tbody>\n",
       "</table>\n"
      ],
      "text/latex": [
       "A data.frame: 1 × 10\n",
       "\\begin{tabular}{llllllllll}\n",
       " Tipe.Residen & Jenis.Kelamin & Profesi & Customer\\_ID & Nama.Pelanggan & Umur & NilaiBelanjaSetahun & Profesi.1 & Jenis.Kelamin.1 & Tipe.Residen.1\\\\\n",
       " <chr> & <chr> & <chr> & <chr> & <chr> & <dbl> & <dbl> & <int> & <int> & <int>\\\\\n",
       "\\hline\n",
       "\t Cluster & Pria & Pelajar & CUST-100 & Rudi Wilamar & 20 & 3.5 & 3 & 1 & 1\\\\\n",
       "\\end{tabular}\n"
      ],
      "text/markdown": [
       "\n",
       "A data.frame: 1 × 10\n",
       "\n",
       "| Tipe.Residen &lt;chr&gt; | Jenis.Kelamin &lt;chr&gt; | Profesi &lt;chr&gt; | Customer_ID &lt;chr&gt; | Nama.Pelanggan &lt;chr&gt; | Umur &lt;dbl&gt; | NilaiBelanjaSetahun &lt;dbl&gt; | Profesi.1 &lt;int&gt; | Jenis.Kelamin.1 &lt;int&gt; | Tipe.Residen.1 &lt;int&gt; |\n",
       "|---|---|---|---|---|---|---|---|---|---|\n",
       "| Cluster | Pria | Pelajar | CUST-100 | Rudi Wilamar | 20 | 3.5 | 3 | 1 | 1 |\n",
       "\n"
      ],
      "text/plain": [
       "  Tipe.Residen Jenis.Kelamin Profesi Customer_ID Nama.Pelanggan Umur\n",
       "1 Cluster      Pria          Pelajar CUST-100    Rudi Wilamar   20  \n",
       "  NilaiBelanjaSetahun Profesi.1 Jenis.Kelamin.1 Tipe.Residen.1\n",
       "1 3.5                 3         1               1             "
      ]
     },
     "metadata": {},
     "output_type": "display_data"
    }
   ],
   "source": [
    "# Merge dengan Data Referensi\n",
    "databaru <- merge(databaru, Identitas.Cluster$Profesi)\n",
    "databaru <- merge(databaru, Identitas.Cluster$Jenis.Kelamin)\n",
    "databaru <- merge(databaru, Identitas.Cluster$Tipe.Residen)\n",
    "databaru"
   ]
  },
  {
   "cell_type": "code",
   "execution_count": 24,
   "metadata": {
    "id": "0UpkOrqFcLVH"
   },
   "outputs": [
    {
     "data": {
      "text/html": [
       "3"
      ],
      "text/latex": [
       "3"
      ],
      "text/markdown": [
       "3"
      ],
      "text/plain": [
       "[1] 3"
      ]
     },
     "metadata": {},
     "output_type": "display_data"
    },
    {
     "data": {
      "text/html": [
       "<table class=\"dataframe\">\n",
       "<caption>A data.frame: 1 × 2</caption>\n",
       "<thead>\n",
       "\t<tr><th></th><th scope=col>cluster</th><th scope=col>Nama.Segmen</th></tr>\n",
       "\t<tr><th></th><th scope=col>&lt;dbl&gt;</th><th scope=col>&lt;chr&gt;</th></tr>\n",
       "</thead>\n",
       "<tbody>\n",
       "\t<tr><th scope=row>3</th><td>3</td><td>Silver Youth Gals</td></tr>\n",
       "</tbody>\n",
       "</table>\n"
      ],
      "text/latex": [
       "A data.frame: 1 × 2\n",
       "\\begin{tabular}{r|ll}\n",
       "  & cluster & Nama.Segmen\\\\\n",
       "  & <dbl> & <chr>\\\\\n",
       "\\hline\n",
       "\t3 & 3 & Silver Youth Gals\\\\\n",
       "\\end{tabular}\n"
      ],
      "text/markdown": [
       "\n",
       "A data.frame: 1 × 2\n",
       "\n",
       "| <!--/--> | cluster &lt;dbl&gt; | Nama.Segmen &lt;chr&gt; |\n",
       "|---|---|---|\n",
       "| 3 | 3 | Silver Youth Gals |\n",
       "\n"
      ],
      "text/plain": [
       "  cluster Nama.Segmen      \n",
       "3 3       Silver Youth Gals"
      ]
     },
     "metadata": {},
     "output_type": "display_data"
    }
   ],
   "source": [
    "#menentukan data baru di cluster mana\n",
    "\n",
    "which.min(sapply( 1:5, function( x ) sum( (\n",
    "  databaru[Identitas.Cluster$field_yang_digunakan] -\n",
    "      Identitas.Cluster$Segmentasi$centers[x,])^2 ) ))\n",
    "      Identitas.Cluster$Segmen.Pelanggan[which.min(sapply( 1:5, function( x )\n",
    "        sum( ( databaru\n",
    "                 [Identitas.Cluster$field_yang_digunakan] -\n",
    "                            Identitas.Cluster$Segmentasi$centers[x,])^2\n",
    "                              ) )),]"
   ]
  },
  {
   "cell_type": "markdown",
   "metadata": {
    "id": "0GGlZsVRPwCk"
   },
   "source": [
    "Data baru yang telah masuk ternyata masuk ke dalam kelompok Silver Youth Gals"
   ]
  },
  {
   "cell_type": "markdown",
   "metadata": {
    "id": "A2rGcb10QWpe"
   },
   "source": []
  }
 ],
 "metadata": {
  "colab": {
   "private_outputs": true,
   "provenance": []
  },
  "kernelspec": {
   "display_name": "R",
   "language": "R",
   "name": "ir"
  },
  "language_info": {
   "codemirror_mode": "r",
   "file_extension": ".r",
   "mimetype": "text/x-r-source",
   "name": "R",
   "pygments_lexer": "r",
   "version": "4.1.3"
  }
 },
 "nbformat": 4,
 "nbformat_minor": 1
}
