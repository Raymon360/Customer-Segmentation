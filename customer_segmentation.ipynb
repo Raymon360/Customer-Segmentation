{
 "cells": [
  {
   "cell_type": "markdown",
   "metadata": {
    "id": "ppQQNMEnzGqV"
   },
   "source": [
    "#Data Science in Marketing: Customer Segmentation\n",
    "Tujuan melakukan Customer Segmentation untuk lebih mengenal pelanggan supaya perusahaan dapat menyusun pesan pemasaran yang lebih sesuai dengan preferensi setiap pelanggan, menghasilkan interaksi yang lebih personal. Hal ini memungkinkan pemahaman yang lebih mendalam terhadap pelanggan secara individual, memungkinkan perusahaan untuk memahami kebutuhan dan preferensi pelanggan secara lebih baik. Dampaknya adalah penurunan biaya pemasaran, karena strategi yang lebih terarah dan efektif dapat diterapkan, mengurangi pengeluaran yang tidak perlu untuk target yang tidak sesuai."
   ]
  },
  {
   "cell_type": "code",
   "execution_count": 1,
   "metadata": {
    "id": "qBFiIN9Hx8e2"
   },
   "outputs": [
    {
     "data": {
      "text/html": [
       "<table class=\"dataframe\">\n",
       "<caption>A data.frame: 6 × 7</caption>\n",
       "<thead>\n",
       "\t<tr><th></th><th scope=col>Customer_ID</th><th scope=col>Nama.Pelanggan</th><th scope=col>Jenis.Kelamin</th><th scope=col>Umur</th><th scope=col>Profesi</th><th scope=col>Tipe.Residen</th><th scope=col>NilaiBelanjaSetahun</th></tr>\n",
       "\t<tr><th></th><th scope=col>&lt;chr&gt;</th><th scope=col>&lt;chr&gt;</th><th scope=col>&lt;chr&gt;</th><th scope=col>&lt;int&gt;</th><th scope=col>&lt;chr&gt;</th><th scope=col>&lt;chr&gt;</th><th scope=col>&lt;int&gt;</th></tr>\n",
       "</thead>\n",
       "<tbody>\n",
       "\t<tr><th scope=row>1</th><td>CUST-001</td><td>Budi Anggara       </td><td>Pria  </td><td>58</td><td>Wiraswasta  </td><td>Sector </td><td> 9497927</td></tr>\n",
       "\t<tr><th scope=row>2</th><td>CUST-002</td><td>Shirley Ratuwati   </td><td>Wanita</td><td>14</td><td>Pelajar     </td><td>Cluster</td><td> 2722700</td></tr>\n",
       "\t<tr><th scope=row>3</th><td>CUST-003</td><td>Agus Cahyono       </td><td>Pria  </td><td>48</td><td>Professional</td><td>Cluster</td><td> 5286429</td></tr>\n",
       "\t<tr><th scope=row>4</th><td>CUST-004</td><td>Antonius Winarta   </td><td>Pria  </td><td>53</td><td>Professional</td><td>Cluster</td><td> 5204498</td></tr>\n",
       "\t<tr><th scope=row>5</th><td>CUST-005</td><td>Ibu Sri Wahyuni, IR</td><td>Wanita</td><td>41</td><td>Wiraswasta  </td><td>Cluster</td><td>10615206</td></tr>\n",
       "\t<tr><th scope=row>6</th><td>CUST-006</td><td>Rosalina Kurnia    </td><td>Wanita</td><td>24</td><td>Professional</td><td>Cluster</td><td> 5215541</td></tr>\n",
       "</tbody>\n",
       "</table>\n"
      ],
      "text/latex": [
       "A data.frame: 6 × 7\n",
       "\\begin{tabular}{r|lllllll}\n",
       "  & Customer\\_ID & Nama.Pelanggan & Jenis.Kelamin & Umur & Profesi & Tipe.Residen & NilaiBelanjaSetahun\\\\\n",
       "  & <chr> & <chr> & <chr> & <int> & <chr> & <chr> & <int>\\\\\n",
       "\\hline\n",
       "\t1 & CUST-001 & Budi Anggara        & Pria   & 58 & Wiraswasta   & Sector  &  9497927\\\\\n",
       "\t2 & CUST-002 & Shirley Ratuwati    & Wanita & 14 & Pelajar      & Cluster &  2722700\\\\\n",
       "\t3 & CUST-003 & Agus Cahyono        & Pria   & 48 & Professional & Cluster &  5286429\\\\\n",
       "\t4 & CUST-004 & Antonius Winarta    & Pria   & 53 & Professional & Cluster &  5204498\\\\\n",
       "\t5 & CUST-005 & Ibu Sri Wahyuni, IR & Wanita & 41 & Wiraswasta   & Cluster & 10615206\\\\\n",
       "\t6 & CUST-006 & Rosalina Kurnia     & Wanita & 24 & Professional & Cluster &  5215541\\\\\n",
       "\\end{tabular}\n"
      ],
      "text/markdown": [
       "\n",
       "A data.frame: 6 × 7\n",
       "\n",
       "| <!--/--> | Customer_ID &lt;chr&gt; | Nama.Pelanggan &lt;chr&gt; | Jenis.Kelamin &lt;chr&gt; | Umur &lt;int&gt; | Profesi &lt;chr&gt; | Tipe.Residen &lt;chr&gt; | NilaiBelanjaSetahun &lt;int&gt; |\n",
       "|---|---|---|---|---|---|---|---|\n",
       "| 1 | CUST-001 | Budi Anggara        | Pria   | 58 | Wiraswasta   | Sector  |  9497927 |\n",
       "| 2 | CUST-002 | Shirley Ratuwati    | Wanita | 14 | Pelajar      | Cluster |  2722700 |\n",
       "| 3 | CUST-003 | Agus Cahyono        | Pria   | 48 | Professional | Cluster |  5286429 |\n",
       "| 4 | CUST-004 | Antonius Winarta    | Pria   | 53 | Professional | Cluster |  5204498 |\n",
       "| 5 | CUST-005 | Ibu Sri Wahyuni, IR | Wanita | 41 | Wiraswasta   | Cluster | 10615206 |\n",
       "| 6 | CUST-006 | Rosalina Kurnia     | Wanita | 24 | Professional | Cluster |  5215541 |\n",
       "\n"
      ],
      "text/plain": [
       "  Customer_ID Nama.Pelanggan      Jenis.Kelamin Umur Profesi      Tipe.Residen\n",
       "1 CUST-001    Budi Anggara        Pria          58   Wiraswasta   Sector      \n",
       "2 CUST-002    Shirley Ratuwati    Wanita        14   Pelajar      Cluster     \n",
       "3 CUST-003    Agus Cahyono        Pria          48   Professional Cluster     \n",
       "4 CUST-004    Antonius Winarta    Pria          53   Professional Cluster     \n",
       "5 CUST-005    Ibu Sri Wahyuni, IR Wanita        41   Wiraswasta   Cluster     \n",
       "6 CUST-006    Rosalina Kurnia     Wanita        24   Professional Cluster     \n",
       "  NilaiBelanjaSetahun\n",
       "1  9497927           \n",
       "2  2722700           \n",
       "3  5286429           \n",
       "4  5204498           \n",
       "5 10615206           \n",
       "6  5215541           "
      ]
     },
     "metadata": {},
     "output_type": "display_data"
    }
   ],
   "source": [
    "# Get the data\n",
    "pelanggan <- read.csv(\"https://academy.dqlab.id/dataset/customer_segments.txt\", sep=\"\\t\")\n",
    "head(pelanggan)"
   ]
  },
  {
   "cell_type": "code",
   "execution_count": 6,
   "metadata": {},
   "outputs": [
    {
     "name": "stderr",
     "output_type": "stream",
     "text": [
      "also installing the dependencies 'lattice', 'colorspace', 'nlme', 'Matrix', 'farver', 'labeling', 'munsell', 'R6', 'RColorBrewer', 'viridisLite', 'magrittr', 'pkgconfig', 'gtable', 'isoband', 'MASS', 'mgcv', 'scales', 'tibble', 'withr'\n",
      "\n",
      "\n"
     ]
    },
    {
     "name": "stdout",
     "output_type": "stream",
     "text": [
      "\n",
      "  There are binary versions available but the source versions are later:\n",
      "              binary  source needs_compilation\n",
      "lattice       0.21-8  0.22-5              TRUE\n",
      "nlme         3.1-162 3.1-164              TRUE\n",
      "Matrix         1.5-4   1.6-3              TRUE\n",
      "labeling       0.4.2   0.4.3             FALSE\n",
      "viridisLite    0.4.1   0.4.2             FALSE\n",
      "gtable         0.3.3   0.3.4             FALSE\n",
      "MASS        7.3-58.3  7.3-60              TRUE\n",
      "mgcv          1.8-42   1.9-0              TRUE\n",
      "scales         1.2.1   1.3.0              TRUE\n",
      "withr          2.5.0   2.5.2             FALSE\n",
      "ggplot2        3.4.2   3.4.4             FALSE\n",
      "\n",
      "  Binaries will be installed\n",
      "package 'lattice' successfully unpacked and MD5 sums checked\n",
      "package 'colorspace' successfully unpacked and MD5 sums checked\n",
      "package 'nlme' successfully unpacked and MD5 sums checked\n",
      "package 'Matrix' successfully unpacked and MD5 sums checked\n",
      "package 'farver' successfully unpacked and MD5 sums checked\n",
      "package 'munsell' successfully unpacked and MD5 sums checked\n",
      "package 'R6' successfully unpacked and MD5 sums checked\n",
      "package 'RColorBrewer' successfully unpacked and MD5 sums checked\n",
      "package 'magrittr' successfully unpacked and MD5 sums checked\n",
      "package 'pkgconfig' successfully unpacked and MD5 sums checked\n",
      "package 'isoband' successfully unpacked and MD5 sums checked\n",
      "package 'MASS' successfully unpacked and MD5 sums checked\n",
      "package 'mgcv' successfully unpacked and MD5 sums checked\n",
      "package 'scales' successfully unpacked and MD5 sums checked\n",
      "package 'tibble' successfully unpacked and MD5 sums checked\n",
      "\n",
      "The downloaded binary packages are in\n",
      "\tC:\\Users\\pocad\\AppData\\Local\\Temp\\RtmpoZ9GQY\\downloaded_packages\n"
     ]
    },
    {
     "name": "stderr",
     "output_type": "stream",
     "text": [
      "installing the source packages 'labeling', 'viridisLite', 'gtable', 'withr', 'ggplot2'\n",
      "\n",
      "\n",
      "also installing the dependencies 'sys', 'bit', 'ps', 'sass', 'cachem', 'rappdirs', 'rematch', 'askpass', 'bit64', 'prettyunits', 'processx', 'highr', 'xfun', 'yaml', 'bslib', 'fontawesome', 'jquerylib', 'tinytex', 'backports', 'generics', 'memoise', 'blob', 'DBI', 'tidyselect', 'data.table', 'gargle', 'cellranger', 'curl', 'ids', 'rematch2', 'cpp11', 'mime', 'openssl', 'timechange', 'systemfonts', 'textshaping', 'clipr', 'vroom', 'tzdb', 'progress', 'callr', 'fs', 'knitr', 'rmarkdown', 'selectr', 'stringi', 'broom', 'conflicted', 'dbplyr', 'dplyr', 'dtplyr', 'forcats', 'googledrive', 'googlesheets4', 'haven', 'hms', 'httr', 'lubridate', 'modelr', 'purrr', 'ragg', 'readr', 'readxl', 'reprex', 'rstudioapi', 'rvest', 'stringr', 'tidyr', 'xml2'\n",
      "\n",
      "\n"
     ]
    },
    {
     "name": "stdout",
     "output_type": "stream",
     "text": [
      "\n",
      "  There are binary versions available but the source versions are later:\n",
      "              binary source needs_compilation\n",
      "sys            3.4.1  3.4.2              TRUE\n",
      "sass           0.4.5  0.4.7              TRUE\n",
      "cachem         1.0.7  1.0.8              TRUE\n",
      "rematch        1.0.1  2.0.0             FALSE\n",
      "askpass          1.1  1.2.0              TRUE\n",
      "prettyunits    1.1.1  1.2.0             FALSE\n",
      "processx       3.8.1  3.8.2              TRUE\n",
      "xfun            0.39   0.41              TRUE\n",
      "bslib          0.4.2  0.6.1             FALSE\n",
      "fontawesome    0.5.1  0.5.2             FALSE\n",
      "tinytex         0.45   0.49             FALSE\n",
      "gargle         1.4.0  1.5.2             FALSE\n",
      "curl           5.0.0  5.1.0              TRUE\n",
      "cpp11          0.4.3  0.4.6             FALSE\n",
      "openssl        2.0.6  2.1.1              TRUE\n",
      "systemfonts    1.0.4  1.0.5              TRUE\n",
      "textshaping    0.3.6  0.3.7              TRUE\n",
      "vroom          1.6.1  1.6.4              TRUE\n",
      "tzdb           0.3.0  0.4.0              TRUE\n",
      "fs             1.5.2  1.6.3              TRUE\n",
      "knitr           1.42   1.45             FALSE\n",
      "rmarkdown       2.21   2.25             FALSE\n",
      "stringi       1.7.12  1.8.2              TRUE\n",
      "broom          1.0.4  1.0.5             FALSE\n",
      "dbplyr         2.3.2  2.4.0             FALSE\n",
      "dplyr          1.1.2  1.1.4              TRUE\n",
      "googledrive    2.1.0  2.1.1             FALSE\n",
      "googlesheets4  1.1.0  1.1.1             FALSE\n",
      "haven          2.5.2  2.5.3              TRUE\n",
      "httr           1.4.5  1.4.7             FALSE\n",
      "lubridate      1.9.2  1.9.3              TRUE\n",
      "purrr          1.0.1  1.0.2              TRUE\n",
      "ragg           1.2.5  1.2.6              TRUE\n",
      "readxl         1.4.2  1.4.3              TRUE\n",
      "rstudioapi      0.14 0.15.0             FALSE\n",
      "stringr        1.5.0  1.5.1             FALSE\n",
      "xml2           1.3.3  1.3.5              TRUE\n",
      "\n",
      "  Binaries will be installed\n",
      "package 'sys' successfully unpacked and MD5 sums checked\n",
      "package 'bit' successfully unpacked and MD5 sums checked\n",
      "package 'ps' successfully unpacked and MD5 sums checked\n",
      "package 'sass' successfully unpacked and MD5 sums checked\n",
      "package 'cachem' successfully unpacked and MD5 sums checked\n",
      "package 'rappdirs' successfully unpacked and MD5 sums checked\n",
      "package 'askpass' successfully unpacked and MD5 sums checked\n",
      "package 'bit64' successfully unpacked and MD5 sums checked\n",
      "package 'processx' successfully unpacked and MD5 sums checked\n",
      "package 'highr' successfully unpacked and MD5 sums checked\n",
      "package 'xfun' successfully unpacked and MD5 sums checked\n",
      "package 'yaml' successfully unpacked and MD5 sums checked\n",
      "package 'jquerylib' successfully unpacked and MD5 sums checked\n",
      "package 'backports' successfully unpacked and MD5 sums checked\n",
      "package 'generics' successfully unpacked and MD5 sums checked\n",
      "package 'memoise' successfully unpacked and MD5 sums checked\n",
      "package 'blob' successfully unpacked and MD5 sums checked\n",
      "package 'DBI' successfully unpacked and MD5 sums checked\n",
      "package 'tidyselect' successfully unpacked and MD5 sums checked\n",
      "package 'data.table' successfully unpacked and MD5 sums checked\n",
      "package 'cellranger' successfully unpacked and MD5 sums checked\n",
      "package 'curl' successfully unpacked and MD5 sums checked\n",
      "package 'ids' successfully unpacked and MD5 sums checked\n",
      "package 'rematch2' successfully unpacked and MD5 sums checked\n",
      "package 'mime' successfully unpacked and MD5 sums checked\n",
      "package 'openssl' successfully unpacked and MD5 sums checked\n",
      "package 'timechange' successfully unpacked and MD5 sums checked\n",
      "package 'systemfonts' successfully unpacked and MD5 sums checked\n",
      "package 'textshaping' successfully unpacked and MD5 sums checked\n",
      "package 'clipr' successfully unpacked and MD5 sums checked\n",
      "package 'vroom' successfully unpacked and MD5 sums checked\n",
      "package 'tzdb' successfully unpacked and MD5 sums checked\n",
      "package 'progress' successfully unpacked and MD5 sums checked\n",
      "package 'callr' successfully unpacked and MD5 sums checked\n",
      "package 'fs' successfully unpacked and MD5 sums checked\n",
      "package 'selectr' successfully unpacked and MD5 sums checked\n",
      "package 'stringi' successfully unpacked and MD5 sums checked\n",
      "package 'conflicted' successfully unpacked and MD5 sums checked\n",
      "package 'dplyr' successfully unpacked and MD5 sums checked\n",
      "package 'dtplyr' successfully unpacked and MD5 sums checked\n",
      "package 'forcats' successfully unpacked and MD5 sums checked\n",
      "package 'haven' successfully unpacked and MD5 sums checked\n",
      "package 'hms' successfully unpacked and MD5 sums checked\n",
      "package 'lubridate' successfully unpacked and MD5 sums checked\n",
      "package 'modelr' successfully unpacked and MD5 sums checked\n",
      "package 'purrr' successfully unpacked and MD5 sums checked\n",
      "package 'ragg' successfully unpacked and MD5 sums checked\n",
      "package 'readr' successfully unpacked and MD5 sums checked\n",
      "package 'readxl' successfully unpacked and MD5 sums checked\n",
      "package 'reprex' successfully unpacked and MD5 sums checked\n",
      "package 'rvest' successfully unpacked and MD5 sums checked\n",
      "package 'tidyr' successfully unpacked and MD5 sums checked\n",
      "package 'xml2' successfully unpacked and MD5 sums checked\n",
      "package 'tidyverse' successfully unpacked and MD5 sums checked\n",
      "\n",
      "The downloaded binary packages are in\n",
      "\tC:\\Users\\pocad\\AppData\\Local\\Temp\\RtmpoZ9GQY\\downloaded_packages\n"
     ]
    },
    {
     "name": "stderr",
     "output_type": "stream",
     "text": [
      "installing the source packages 'rematch', 'prettyunits', 'bslib', 'fontawesome', 'tinytex', 'gargle', 'cpp11', 'knitr', 'rmarkdown', 'broom', 'dbplyr', 'googledrive', 'googlesheets4', 'httr', 'rstudioapi', 'stringr'\n",
      "\n",
      "\n"
     ]
    }
   ],
   "source": [
    "install.packages(\"ggplot2\")\n",
    "install.packages(\"tidyverse\")"
   ]
  },
  {
   "cell_type": "code",
   "execution_count": 7,
   "metadata": {
    "id": "dhfX2zbE7ygj"
   },
   "outputs": [
    {
     "name": "stderr",
     "output_type": "stream",
     "text": [
      "-- \u001b[1mAttaching core tidyverse packages\u001b[22m ------------------------------------------------------------------------------ tidyverse 2.0.0 --\n",
      "\u001b[32mv\u001b[39m \u001b[34mdplyr    \u001b[39m 1.1.2     \u001b[32mv\u001b[39m \u001b[34mreadr    \u001b[39m 2.1.4\n",
      "\u001b[32mv\u001b[39m \u001b[34mforcats  \u001b[39m 1.0.0     \u001b[32mv\u001b[39m \u001b[34mstringr  \u001b[39m 1.5.1\n",
      "\u001b[32mv\u001b[39m \u001b[34mlubridate\u001b[39m 1.9.2     \u001b[32mv\u001b[39m \u001b[34mtibble   \u001b[39m 3.2.1\n",
      "\u001b[32mv\u001b[39m \u001b[34mpurrr    \u001b[39m 1.0.1     \u001b[32mv\u001b[39m \u001b[34mtidyr    \u001b[39m 1.3.0\n",
      "-- \u001b[1mConflicts\u001b[22m ------------------------------------------------------------------------------------------------ tidyverse_conflicts() --\n",
      "\u001b[31mx\u001b[39m \u001b[34mdplyr\u001b[39m::\u001b[32mfilter()\u001b[39m masks \u001b[34mstats\u001b[39m::filter()\n",
      "\u001b[31mx\u001b[39m \u001b[34mdplyr\u001b[39m::\u001b[32mlag()\u001b[39m    masks \u001b[34mstats\u001b[39m::lag()\n",
      "\u001b[36mi\u001b[39m Use the conflicted package (\u001b[3m\u001b[34m<http://conflicted.r-lib.org/>\u001b[39m\u001b[23m) to force all conflicts to become errors\n"
     ]
    },
    {
     "data": {
      "image/png": "[encoded data removed]",
      "text/plain": [
       "plot without title"
      ]
     },
     "metadata": {
      "image/png": {
       "height": 360,
       "width": 720
      }
     },
     "output_type": "display_data"
    }
   ],
   "source": [
    "library(ggplot2)\n",
    "library(tidyverse)\n",
    "\n",
    "options(repr.plot.width=12, repr.plot.height=6)\n",
    "# Plot Jenis Kelamin\n",
    "pelanggan %>%\n",
    "  ggplot(aes(x = Jenis.Kelamin)) +\n",
    "  geom_bar(fill = \"skyblue\", color = \"black\") +\n",
    "  labs(title = \"Countplot Jenis Kelamin Pelanggan\", x = \"Jenis Kelamin\", y = \"Jumlah\") +\n",
    "  theme_minimal()"
   ]
  },
  {
   "cell_type": "markdown",
   "metadata": {
    "id": "yK4z_B7QAFnU"
   },
   "source": [
    "Sebagian besar di dominasi oleh kelamin wanita sebanyak 41 dan pria sebanyak 9."
   ]
  },
  {
   "cell_type": "code",
   "execution_count": 8,
   "metadata": {
    "id": "JUDUGJyiB9OM"
   },
   "outputs": [
    {
     "data": {
      "image/png": "[encoded data removed]",
      "text/plain": [
       "plot without title"
      ]
     },
     "metadata": {
      "image/png": {
       "height": 360,
       "width": 720
      }
     },
     "output_type": "display_data"
    }
   ],
   "source": [
    "library(tidyverse)\n",
    "\n",
    "options(repr.plot.width=12, repr.plot.height=6)\n",
    "# Plot Jenis Kelamin\n",
    "pelanggan %>%\n",
    "  ggplot(aes(x = Profesi)) +\n",
    "  geom_bar(fill = \"skyblue\", color = \"black\") +\n",
    "  labs(title = \"Countplot Jenis Profesi Pelanggan\", x = \"Profesi\", y = \"Jumlah\") +\n",
    "  theme_minimal()"
   ]
  },
  {
   "cell_type": "markdown",
   "metadata": {
    "id": "ahfVNYN-9iC-"
   },
   "source": [
    "Sebanyak 20 pelangan berprofesi sebagai pegawai swasta, kemudian Profesional sebanyak 16, Ibu Rumah Tangga sebanyak 7, Pelajar sebanyak 4 pelanggan, dan terakhir adalah mahasiswa sebanyak 2."
   ]
  },
  {
   "cell_type": "code",
   "execution_count": 9,
   "metadata": {
    "id": "dp3Hy_2H6EY7"
   },
   "outputs": [
    {
     "data": {
      "image/png": "[encoded data removed]",
      "text/plain": [
       "plot without title"
      ]
     },
     "metadata": {
      "image/png": {
       "height": 360,
       "width": 720
      }
     },
     "output_type": "display_data"
    }
   ],
   "source": [
    "# Plotting Umur Pelanggan\n",
    "library(ggplot2)\n",
    "library(tidyverse)\n",
    "\n",
    "# # Membuat boxplot umur berdasarkan jenis kelamin\n",
    "# ggplot(pelanggan, aes(x = Profesi, y = Umur, fill = Profesi)) +\n",
    "#   geom_boxplot() +\n",
    "#   labs(title = \"Boxplot Umur Berdasarkan Jenis Kelamin\", x = \"Jenis Kelamin\", y = \"Umur\")\n",
    "\n",
    "options(repr.plot.width=12, repr.plot.height=6)\n",
    "# Memplot boxplot umur berdasarkan jenis kelamin dan profesi\n",
    "pelanggan %>%\n",
    "  ggplot(aes(x = Profesi, y = Umur, fill = Profesi)) +\n",
    "  geom_boxplot() +\n",
    "  labs(title = \"Boxplot Umur Berdasarkan Profesi\", x = \"Profesi\", y = \"Umur\") +\n",
    "  facet_wrap(~ Jenis.Kelamin, scales = \"free\")"
   ]
  },
  {
   "cell_type": "markdown",
   "metadata": {
    "id": "UgTjc_yl_sdF"
   },
   "source": [
    "Data Profesi pria hanya terdapat 2 yaitu Profesional dengan rata-rata 42 tahun dan wiraswasta dengan rata-rata berumur 60 tahun. Sedangkan profesi wanita lebih bervariasi seperti Ibu Rumah Tangga dengan rata-rata berumur 40 tahun, Mahasiswa dengan rata-rata berumur 19 tahun, Pelajar dengan rata-rata berumur, Professional dengan rata-rata berumur 35 tahun, dan Wiraswasta dengan rata-rata berumur 35 tahun."
   ]
  },
  {
   "cell_type": "code",
   "execution_count": 10,
   "metadata": {
    "id": "JcQq--kdCaa9"
   },
   "outputs": [
    {
     "data": {
      "text/html": [
       "<table class=\"dataframe\">\n",
       "<caption>A tibble: 5 × 2</caption>\n",
       "<thead>\n",
       "\t<tr><th scope=col>Profesi</th><th scope=col>Rata_Rata_NilaiBelanja</th></tr>\n",
       "\t<tr><th scope=col>&lt;chr&gt;</th><th scope=col>&lt;dbl&gt;</th></tr>\n",
       "</thead>\n",
       "<tbody>\n",
       "\t<tr><td>Ibu Rumah Tangga</td><td> 5802199</td></tr>\n",
       "\t<tr><td>Mahasiswa       </td><td> 3045350</td></tr>\n",
       "\t<tr><td>Pelajar         </td><td> 2827133</td></tr>\n",
       "\t<tr><td>Professional    </td><td> 5451321</td></tr>\n",
       "\t<tr><td>Wiraswasta      </td><td>10009124</td></tr>\n",
       "</tbody>\n",
       "</table>\n"
      ],
      "text/latex": [
       "A tibble: 5 × 2\n",
       "\\begin{tabular}{ll}\n",
       " Profesi & Rata\\_Rata\\_NilaiBelanja\\\\\n",
       " <chr> & <dbl>\\\\\n",
       "\\hline\n",
       "\t Ibu Rumah Tangga &  5802199\\\\\n",
       "\t Mahasiswa        &  3045350\\\\\n",
       "\t Pelajar          &  2827133\\\\\n",
       "\t Professional     &  5451321\\\\\n",
       "\t Wiraswasta       & 10009124\\\\\n",
       "\\end{tabular}\n"
      ],
      "text/markdown": [
       "\n",
       "A tibble: 5 × 2\n",
       "\n",
       "| Profesi &lt;chr&gt; | Rata_Rata_NilaiBelanja &lt;dbl&gt; |\n",
       "|---|---|\n",
       "| Ibu Rumah Tangga |  5802199 |\n",
       "| Mahasiswa        |  3045350 |\n",
       "| Pelajar          |  2827133 |\n",
       "| Professional     |  5451321 |\n",
       "| Wiraswasta       | 10009124 |\n",
       "\n"
      ],
      "text/plain": [
       "  Profesi          Rata_Rata_NilaiBelanja\n",
       "1 Ibu Rumah Tangga  5802199              \n",
       "2 Mahasiswa         3045350              \n",
       "3 Pelajar           2827133              \n",
       "4 Professional      5451321              \n",
       "5 Wiraswasta       10009124              "
      ]
     },
     "metadata": {},
     "output_type": "display_data"
    }
   ],
   "source": [
    "# Menghitung rata-rata NilaiBelanjaSetahun berdasarkan Profesi\n",
    "rata_rata_per_profesi <- pelanggan %>%\n",
    "  group_by(Profesi) %>%\n",
    "  summarize(Rata_Rata_NilaiBelanja = mean(NilaiBelanjaSetahun))\n",
    "\n",
    "# Menampilkan hasil rata-rata NilaiBelanjaSetahun per Profesi\n",
    "rata_rata_per_profesi"
   ]
  },
  {
   "cell_type": "markdown",
   "metadata": {
    "id": "hHiRThj-EnlP"
   },
   "source": [
    "####Preparation the Data for Machine Learning Algorithms"
   ]
  },
  {
   "cell_type": "code",
   "execution_count": 11,
   "metadata": {
    "id": "moTJGip33Q-y"
   },
   "outputs": [
    {
     "data": {
      "text/html": [
       "<table class=\"dataframe\">\n",
       "<caption>A matrix: 6 × 3 of type int</caption>\n",
       "<thead>\n",
       "\t<tr><th scope=col>Jenis.Kelamin</th><th scope=col>Profesi</th><th scope=col>Tipe.Residen</th></tr>\n",
       "</thead>\n",
       "<tbody>\n",
       "\t<tr><td>1</td><td>5</td><td>2</td></tr>\n",
       "\t<tr><td>2</td><td>3</td><td>1</td></tr>\n",
       "\t<tr><td>1</td><td>4</td><td>1</td></tr>\n",
       "\t<tr><td>1</td><td>4</td><td>1</td></tr>\n",
       "\t<tr><td>2</td><td>5</td><td>1</td></tr>\n",
       "\t<tr><td>2</td><td>4</td><td>1</td></tr>\n",
       "</tbody>\n",
       "</table>\n"
      ],
      "text/latex": [
       "A matrix: 6 × 3 of type int\n",
       "\\begin{tabular}{lll}\n",
       " Jenis.Kelamin & Profesi & Tipe.Residen\\\\\n",
       "\\hline\n",
       "\t 1 & 5 & 2\\\\\n",
       "\t 2 & 3 & 1\\\\\n",
       "\t 1 & 4 & 1\\\\\n",
       "\t 1 & 4 & 1\\\\\n",
       "\t 2 & 5 & 1\\\\\n",
       "\t 2 & 4 & 1\\\\\n",
       "\\end{tabular}\n"
      ],
      "text/markdown": [
       "\n",
       "A matrix: 6 × 3 of type int\n",
       "\n",
       "| Jenis.Kelamin | Profesi | Tipe.Residen |\n",
       "|---|---|---|\n",
       "| 1 | 5 | 2 |\n",
       "| 2 | 3 | 1 |\n",
       "| 1 | 4 | 1 |\n",
       "| 1 | 4 | 1 |\n",
       "| 2 | 5 | 1 |\n",
       "| 2 | 4 | 1 |\n",
       "\n"
      ],
      "text/plain": [
       "     Jenis.Kelamin Profesi Tipe.Residen\n",
       "[1,] 1             5       2           \n",
       "[2,] 2             3       1           \n",
       "[3,] 1             4       1           \n",
       "[4,] 1             4       1           \n",
       "[5,] 2             5       1           \n",
       "[6,] 2             4       1           "
      ]
     },
     "metadata": {},
     "output_type": "display_data"
    }
   ],
   "source": [
    "# Preparation the Data\n",
    "pelanggan_matrix <- data.matrix(pelanggan[c(\"Jenis.Kelamin\", \"Profesi\", \"Tipe.Residen\")])\n",
    "head(pelanggan_matrix)"
   ]
  },
  {
   "cell_type": "code",
   "execution_count": 12,
   "metadata": {
    "id": "kYktRAX33il6"
   },
   "outputs": [
    {
     "data": {
      "text/html": [
       "<table class=\"dataframe\">\n",
       "<caption>A data.frame: 6 × 10</caption>\n",
       "<thead>\n",
       "\t<tr><th></th><th scope=col>Customer_ID</th><th scope=col>Nama.Pelanggan</th><th scope=col>Jenis.Kelamin</th><th scope=col>Umur</th><th scope=col>Profesi</th><th scope=col>Tipe.Residen</th><th scope=col>NilaiBelanjaSetahun</th><th scope=col>Jenis.Kelamin.1</th><th scope=col>Profesi.1</th><th scope=col>Tipe.Residen.1</th></tr>\n",
       "\t<tr><th></th><th scope=col>&lt;chr&gt;</th><th scope=col>&lt;chr&gt;</th><th scope=col>&lt;chr&gt;</th><th scope=col>&lt;int&gt;</th><th scope=col>&lt;chr&gt;</th><th scope=col>&lt;chr&gt;</th><th scope=col>&lt;int&gt;</th><th scope=col>&lt;int&gt;</th><th scope=col>&lt;int&gt;</th><th scope=col>&lt;int&gt;</th></tr>\n",
       "</thead>\n",
       "<tbody>\n",
       "\t<tr><th scope=row>1</th><td>CUST-001</td><td>Budi Anggara       </td><td>Pria  </td><td>58</td><td>Wiraswasta  </td><td>Sector </td><td> 9497927</td><td>1</td><td>5</td><td>2</td></tr>\n",
       "\t<tr><th scope=row>2</th><td>CUST-002</td><td>Shirley Ratuwati   </td><td>Wanita</td><td>14</td><td>Pelajar     </td><td>Cluster</td><td> 2722700</td><td>2</td><td>3</td><td>1</td></tr>\n",
       "\t<tr><th scope=row>3</th><td>CUST-003</td><td>Agus Cahyono       </td><td>Pria  </td><td>48</td><td>Professional</td><td>Cluster</td><td> 5286429</td><td>1</td><td>4</td><td>1</td></tr>\n",
       "\t<tr><th scope=row>4</th><td>CUST-004</td><td>Antonius Winarta   </td><td>Pria  </td><td>53</td><td>Professional</td><td>Cluster</td><td> 5204498</td><td>1</td><td>4</td><td>1</td></tr>\n",
       "\t<tr><th scope=row>5</th><td>CUST-005</td><td>Ibu Sri Wahyuni, IR</td><td>Wanita</td><td>41</td><td>Wiraswasta  </td><td>Cluster</td><td>10615206</td><td>2</td><td>5</td><td>1</td></tr>\n",
       "\t<tr><th scope=row>6</th><td>CUST-006</td><td>Rosalina Kurnia    </td><td>Wanita</td><td>24</td><td>Professional</td><td>Cluster</td><td> 5215541</td><td>2</td><td>4</td><td>1</td></tr>\n",
       "</tbody>\n",
       "</table>\n"
      ],
      "text/latex": [
       "A data.frame: 6 × 10\n",
       "\\begin{tabular}{r|llllllllll}\n",
       "  & Customer\\_ID & Nama.Pelanggan & Jenis.Kelamin & Umur & Profesi & Tipe.Residen & NilaiBelanjaSetahun & Jenis.Kelamin.1 & Profesi.1 & Tipe.Residen.1\\\\\n",
       "  & <chr> & <chr> & <chr> & <int> & <chr> & <chr> & <int> & <int> & <int> & <int>\\\\\n",
       "\\hline\n",
       "\t1 & CUST-001 & Budi Anggara        & Pria   & 58 & Wiraswasta   & Sector  &  9497927 & 1 & 5 & 2\\\\\n",
       "\t2 & CUST-002 & Shirley Ratuwati    & Wanita & 14 & Pelajar      & Cluster &  2722700 & 2 & 3 & 1\\\\\n",
       "\t3 & CUST-003 & Agus Cahyono        & Pria   & 48 & Professional & Cluster &  5286429 & 1 & 4 & 1\\\\\n",
       "\t4 & CUST-004 & Antonius Winarta    & Pria   & 53 & Professional & Cluster &  5204498 & 1 & 4 & 1\\\\\n",
       "\t5 & CUST-005 & Ibu Sri Wahyuni, IR & Wanita & 41 & Wiraswasta   & Cluster & 10615206 & 2 & 5 & 1\\\\\n",
       "\t6 & CUST-006 & Rosalina Kurnia     & Wanita & 24 & Professional & Cluster &  5215541 & 2 & 4 & 1\\\\\n",
       "\\end{tabular}\n"
      ],
      "text/markdown": [
       "\n",
       "A data.frame: 6 × 10\n",
       "\n",
       "| <!--/--> | Customer_ID &lt;chr&gt; | Nama.Pelanggan &lt;chr&gt; | Jenis.Kelamin &lt;chr&gt; | Umur &lt;int&gt; | Profesi &lt;chr&gt; | Tipe.Residen &lt;chr&gt; | NilaiBelanjaSetahun &lt;int&gt; | Jenis.Kelamin.1 &lt;int&gt; | Profesi.1 &lt;int&gt; | Tipe.Residen.1 &lt;int&gt; |\n",
       "|---|---|---|---|---|---|---|---|---|---|---|\n",
       "| 1 | CUST-001 | Budi Anggara        | Pria   | 58 | Wiraswasta   | Sector  |  9497927 | 1 | 5 | 2 |\n",
       "| 2 | CUST-002 | Shirley Ratuwati    | Wanita | 14 | Pelajar      | Cluster |  2722700 | 2 | 3 | 1 |\n",
       "| 3 | CUST-003 | Agus Cahyono        | Pria   | 48 | Professional | Cluster |  5286429 | 1 | 4 | 1 |\n",
       "| 4 | CUST-004 | Antonius Winarta    | Pria   | 53 | Professional | Cluster |  5204498 | 1 | 4 | 1 |\n",
       "| 5 | CUST-005 | Ibu Sri Wahyuni, IR | Wanita | 41 | Wiraswasta   | Cluster | 10615206 | 2 | 5 | 1 |\n",
       "| 6 | CUST-006 | Rosalina Kurnia     | Wanita | 24 | Professional | Cluster |  5215541 | 2 | 4 | 1 |\n",
       "\n"
      ],
      "text/plain": [
       "  Customer_ID Nama.Pelanggan      Jenis.Kelamin Umur Profesi      Tipe.Residen\n",
       "1 CUST-001    Budi Anggara        Pria          58   Wiraswasta   Sector      \n",
       "2 CUST-002    Shirley Ratuwati    Wanita        14   Pelajar      Cluster     \n",
       "3 CUST-003    Agus Cahyono        Pria          48   Professional Cluster     \n",
       "4 CUST-004    Antonius Winarta    Pria          53   Professional Cluster     \n",
       "5 CUST-005    Ibu Sri Wahyuni, IR Wanita        41   Wiraswasta   Cluster     \n",
       "6 CUST-006    Rosalina Kurnia     Wanita        24   Professional Cluster     \n",
       "  NilaiBelanjaSetahun Jenis.Kelamin.1 Profesi.1 Tipe.Residen.1\n",
       "1  9497927            1               5         2             \n",
       "2  2722700            2               3         1             \n",
       "3  5286429            1               4         1             \n",
       "4  5204498            1               4         1             \n",
       "5 10615206            2               5         1             \n",
       "6  5215541            2               4         1             "
      ]
     },
     "metadata": {},
     "output_type": "display_data"
    }
   ],
   "source": [
    "# Menggabungkan hasil konversi\n",
    "pelanggan <- data.frame(pelanggan, pelanggan_matrix)\n",
    "head(pelanggan)"
   ]
  },
  {
   "cell_type": "code",
   "execution_count": 13,
   "metadata": {
    "id": "QtapseEW4n6p"
   },
   "outputs": [
    {
     "data": {
      "text/html": [
       "<table class=\"dataframe\">\n",
       "<caption>A data.frame: 5 × 2</caption>\n",
       "<thead>\n",
       "\t<tr><th></th><th scope=col>Profesi</th><th scope=col>Profesi.1</th></tr>\n",
       "\t<tr><th></th><th scope=col>&lt;chr&gt;</th><th scope=col>&lt;int&gt;</th></tr>\n",
       "</thead>\n",
       "<tbody>\n",
       "\t<tr><th scope=row>1</th><td>Wiraswasta      </td><td>5</td></tr>\n",
       "\t<tr><th scope=row>2</th><td>Pelajar         </td><td>3</td></tr>\n",
       "\t<tr><th scope=row>3</th><td>Professional    </td><td>4</td></tr>\n",
       "\t<tr><th scope=row>17</th><td>Ibu Rumah Tangga</td><td>1</td></tr>\n",
       "\t<tr><th scope=row>31</th><td>Mahasiswa       </td><td>2</td></tr>\n",
       "</tbody>\n",
       "</table>\n"
      ],
      "text/latex": [
       "A data.frame: 5 × 2\n",
       "\\begin{tabular}{r|ll}\n",
       "  & Profesi & Profesi.1\\\\\n",
       "  & <chr> & <int>\\\\\n",
       "\\hline\n",
       "\t1 & Wiraswasta       & 5\\\\\n",
       "\t2 & Pelajar          & 3\\\\\n",
       "\t3 & Professional     & 4\\\\\n",
       "\t17 & Ibu Rumah Tangga & 1\\\\\n",
       "\t31 & Mahasiswa        & 2\\\\\n",
       "\\end{tabular}\n"
      ],
      "text/markdown": [
       "\n",
       "A data.frame: 5 × 2\n",
       "\n",
       "| <!--/--> | Profesi &lt;chr&gt; | Profesi.1 &lt;int&gt; |\n",
       "|---|---|---|\n",
       "| 1 | Wiraswasta       | 5 |\n",
       "| 2 | Pelajar          | 3 |\n",
       "| 3 | Professional     | 4 |\n",
       "| 17 | Ibu Rumah Tangga | 1 |\n",
       "| 31 | Mahasiswa        | 2 |\n",
       "\n"
      ],
      "text/plain": [
       "   Profesi          Profesi.1\n",
       "1  Wiraswasta       5        \n",
       "2  Pelajar          3        \n",
       "3  Professional     4        \n",
       "17 Ibu Rumah Tangga 1        \n",
       "31 Mahasiswa        2        "
      ]
     },
     "metadata": {},
     "output_type": "display_data"
    },
    {
     "data": {
      "text/html": [
       "<table class=\"dataframe\">\n",
       "<caption>A data.frame: 2 × 2</caption>\n",
       "<thead>\n",
       "\t<tr><th></th><th scope=col>Jenis.Kelamin</th><th scope=col>Jenis.Kelamin.1</th></tr>\n",
       "\t<tr><th></th><th scope=col>&lt;chr&gt;</th><th scope=col>&lt;int&gt;</th></tr>\n",
       "</thead>\n",
       "<tbody>\n",
       "\t<tr><th scope=row>1</th><td>Pria  </td><td>1</td></tr>\n",
       "\t<tr><th scope=row>2</th><td>Wanita</td><td>2</td></tr>\n",
       "</tbody>\n",
       "</table>\n"
      ],
      "text/latex": [
       "A data.frame: 2 × 2\n",
       "\\begin{tabular}{r|ll}\n",
       "  & Jenis.Kelamin & Jenis.Kelamin.1\\\\\n",
       "  & <chr> & <int>\\\\\n",
       "\\hline\n",
       "\t1 & Pria   & 1\\\\\n",
       "\t2 & Wanita & 2\\\\\n",
       "\\end{tabular}\n"
      ],
      "text/markdown": [
       "\n",
       "A data.frame: 2 × 2\n",
       "\n",
       "| <!--/--> | Jenis.Kelamin &lt;chr&gt; | Jenis.Kelamin.1 &lt;int&gt; |\n",
       "|---|---|---|\n",
       "| 1 | Pria   | 1 |\n",
       "| 2 | Wanita | 2 |\n",
       "\n"
      ],
      "text/plain": [
       "  Jenis.Kelamin Jenis.Kelamin.1\n",
       "1 Pria          1              \n",
       "2 Wanita        2              "
      ]
     },
     "metadata": {},
     "output_type": "display_data"
    },
    {
     "data": {
      "text/html": [
       "<table class=\"dataframe\">\n",
       "<caption>A data.frame: 2 × 2</caption>\n",
       "<thead>\n",
       "\t<tr><th></th><th scope=col>Tipe.Residen</th><th scope=col>Tipe.Residen.1</th></tr>\n",
       "\t<tr><th></th><th scope=col>&lt;chr&gt;</th><th scope=col>&lt;int&gt;</th></tr>\n",
       "</thead>\n",
       "<tbody>\n",
       "\t<tr><th scope=row>1</th><td>Sector </td><td>2</td></tr>\n",
       "\t<tr><th scope=row>2</th><td>Cluster</td><td>1</td></tr>\n",
       "</tbody>\n",
       "</table>\n"
      ],
      "text/latex": [
       "A data.frame: 2 × 2\n",
       "\\begin{tabular}{r|ll}\n",
       "  & Tipe.Residen & Tipe.Residen.1\\\\\n",
       "  & <chr> & <int>\\\\\n",
       "\\hline\n",
       "\t1 & Sector  & 2\\\\\n",
       "\t2 & Cluster & 1\\\\\n",
       "\\end{tabular}\n"
      ],
      "text/markdown": [
       "\n",
       "A data.frame: 2 × 2\n",
       "\n",
       "| <!--/--> | Tipe.Residen &lt;chr&gt; | Tipe.Residen.1 &lt;int&gt; |\n",
       "|---|---|---|\n",
       "| 1 | Sector  | 2 |\n",
       "| 2 | Cluster | 1 |\n",
       "\n"
      ],
      "text/plain": [
       "  Tipe.Residen Tipe.Residen.1\n",
       "1 Sector       2             \n",
       "2 Cluster      1             "
      ]
     },
     "metadata": {},
     "output_type": "display_data"
    }
   ],
   "source": [
    "# Mengecek teks kategori dikonversi menjadi angka numerik berapa\n",
    "unique(pelanggan[c(\"Profesi\", \"Profesi.1\")])\n",
    "unique(pelanggan[c(\"Jenis.Kelamin\", \"Jenis.Kelamin.1\")])\n",
    "unique(pelanggan[c(\"Tipe.Residen\", \"Tipe.Residen.1\")])"
   ]
  },
  {
   "cell_type": "markdown",
   "metadata": {
    "id": "6NYjsCcJ5Ckr"
   },
   "source": [
    "Kelihatan kalau Wiraswasta dikonversi menjadi angka 5, Pelajar menjadi angka 3, Professional menjadi angka 4, Ibu Rumah Tangga menjadi angka 1, dan satu lagi adalah Mahasiswa yang dikonversi menjadi angka 2 (tidak terlihat disini)."
   ]
  },
  {
   "cell_type": "markdown",
   "metadata": {
    "id": "3buruJHF4NRE"
   },
   "source": [
    "Kita akan menormalisasikan NilaiBelanjaSetahun agar perhitungan lebih sederhana dan mudah dicerna, namun tidak mengurangi akurasi. karena ketika kolom ini digunakan untuk clustering, perhitungan sum of squared errors akan menjadi sangat besar"
   ]
  },
  {
   "cell_type": "code",
   "execution_count": 14,
   "metadata": {
    "id": "NLmd7_QR38Fj"
   },
   "outputs": [
    {
     "data": {
      "text/html": [
       "<table class=\"dataframe\">\n",
       "<caption>A data.frame: 6 × 10</caption>\n",
       "<thead>\n",
       "\t<tr><th></th><th scope=col>Customer_ID</th><th scope=col>Nama.Pelanggan</th><th scope=col>Jenis.Kelamin</th><th scope=col>Umur</th><th scope=col>Profesi</th><th scope=col>Tipe.Residen</th><th scope=col>NilaiBelanjaSetahun</th><th scope=col>Jenis.Kelamin.1</th><th scope=col>Profesi.1</th><th scope=col>Tipe.Residen.1</th></tr>\n",
       "\t<tr><th></th><th scope=col>&lt;chr&gt;</th><th scope=col>&lt;chr&gt;</th><th scope=col>&lt;chr&gt;</th><th scope=col>&lt;int&gt;</th><th scope=col>&lt;chr&gt;</th><th scope=col>&lt;chr&gt;</th><th scope=col>&lt;dbl&gt;</th><th scope=col>&lt;int&gt;</th><th scope=col>&lt;int&gt;</th><th scope=col>&lt;int&gt;</th></tr>\n",
       "</thead>\n",
       "<tbody>\n",
       "\t<tr><th scope=row>1</th><td>CUST-001</td><td>Budi Anggara       </td><td>Pria  </td><td>58</td><td>Wiraswasta  </td><td>Sector </td><td> 9.497927</td><td>1</td><td>5</td><td>2</td></tr>\n",
       "\t<tr><th scope=row>2</th><td>CUST-002</td><td>Shirley Ratuwati   </td><td>Wanita</td><td>14</td><td>Pelajar     </td><td>Cluster</td><td> 2.722700</td><td>2</td><td>3</td><td>1</td></tr>\n",
       "\t<tr><th scope=row>3</th><td>CUST-003</td><td>Agus Cahyono       </td><td>Pria  </td><td>48</td><td>Professional</td><td>Cluster</td><td> 5.286429</td><td>1</td><td>4</td><td>1</td></tr>\n",
       "\t<tr><th scope=row>4</th><td>CUST-004</td><td>Antonius Winarta   </td><td>Pria  </td><td>53</td><td>Professional</td><td>Cluster</td><td> 5.204498</td><td>1</td><td>4</td><td>1</td></tr>\n",
       "\t<tr><th scope=row>5</th><td>CUST-005</td><td>Ibu Sri Wahyuni, IR</td><td>Wanita</td><td>41</td><td>Wiraswasta  </td><td>Cluster</td><td>10.615206</td><td>2</td><td>5</td><td>1</td></tr>\n",
       "\t<tr><th scope=row>6</th><td>CUST-006</td><td>Rosalina Kurnia    </td><td>Wanita</td><td>24</td><td>Professional</td><td>Cluster</td><td> 5.215541</td><td>2</td><td>4</td><td>1</td></tr>\n",
       "</tbody>\n",
       "</table>\n"
      ],
      "text/latex": [
       "A data.frame: 6 × 10\n",
       "\\begin{tabular}{r|llllllllll}\n",
       "  & Customer\\_ID & Nama.Pelanggan & Jenis.Kelamin & Umur & Profesi & Tipe.Residen & NilaiBelanjaSetahun & Jenis.Kelamin.1 & Profesi.1 & Tipe.Residen.1\\\\\n",
       "  & <chr> & <chr> & <chr> & <int> & <chr> & <chr> & <dbl> & <int> & <int> & <int>\\\\\n",
       "\\hline\n",
       "\t1 & CUST-001 & Budi Anggara        & Pria   & 58 & Wiraswasta   & Sector  &  9.497927 & 1 & 5 & 2\\\\\n",
       "\t2 & CUST-002 & Shirley Ratuwati    & Wanita & 14 & Pelajar      & Cluster &  2.722700 & 2 & 3 & 1\\\\\n",
       "\t3 & CUST-003 & Agus Cahyono        & Pria   & 48 & Professional & Cluster &  5.286429 & 1 & 4 & 1\\\\\n",
       "\t4 & CUST-004 & Antonius Winarta    & Pria   & 53 & Professional & Cluster &  5.204498 & 1 & 4 & 1\\\\\n",
       "\t5 & CUST-005 & Ibu Sri Wahyuni, IR & Wanita & 41 & Wiraswasta   & Cluster & 10.615206 & 2 & 5 & 1\\\\\n",
       "\t6 & CUST-006 & Rosalina Kurnia     & Wanita & 24 & Professional & Cluster &  5.215541 & 2 & 4 & 1\\\\\n",
       "\\end{tabular}\n"
      ],
      "text/markdown": [
       "\n",
       "A data.frame: 6 × 10\n",
       "\n",
       "| <!--/--> | Customer_ID &lt;chr&gt; | Nama.Pelanggan &lt;chr&gt; | Jenis.Kelamin &lt;chr&gt; | Umur &lt;int&gt; | Profesi &lt;chr&gt; | Tipe.Residen &lt;chr&gt; | NilaiBelanjaSetahun &lt;dbl&gt; | Jenis.Kelamin.1 &lt;int&gt; | Profesi.1 &lt;int&gt; | Tipe.Residen.1 &lt;int&gt; |\n",
       "|---|---|---|---|---|---|---|---|---|---|---|\n",
       "| 1 | CUST-001 | Budi Anggara        | Pria   | 58 | Wiraswasta   | Sector  |  9.497927 | 1 | 5 | 2 |\n",
       "| 2 | CUST-002 | Shirley Ratuwati    | Wanita | 14 | Pelajar      | Cluster |  2.722700 | 2 | 3 | 1 |\n",
       "| 3 | CUST-003 | Agus Cahyono        | Pria   | 48 | Professional | Cluster |  5.286429 | 1 | 4 | 1 |\n",
       "| 4 | CUST-004 | Antonius Winarta    | Pria   | 53 | Professional | Cluster |  5.204498 | 1 | 4 | 1 |\n",
       "| 5 | CUST-005 | Ibu Sri Wahyuni, IR | Wanita | 41 | Wiraswasta   | Cluster | 10.615206 | 2 | 5 | 1 |\n",
       "| 6 | CUST-006 | Rosalina Kurnia     | Wanita | 24 | Professional | Cluster |  5.215541 | 2 | 4 | 1 |\n",
       "\n"
      ],
      "text/plain": [
       "  Customer_ID Nama.Pelanggan      Jenis.Kelamin Umur Profesi      Tipe.Residen\n",
       "1 CUST-001    Budi Anggara        Pria          58   Wiraswasta   Sector      \n",
       "2 CUST-002    Shirley Ratuwati    Wanita        14   Pelajar      Cluster     \n",
       "3 CUST-003    Agus Cahyono        Pria          48   Professional Cluster     \n",
       "4 CUST-004    Antonius Winarta    Pria          53   Professional Cluster     \n",
       "5 CUST-005    Ibu Sri Wahyuni, IR Wanita        41   Wiraswasta   Cluster     \n",
       "6 CUST-006    Rosalina Kurnia     Wanita        24   Professional Cluster     \n",
       "  NilaiBelanjaSetahun Jenis.Kelamin.1 Profesi.1 Tipe.Residen.1\n",
       "1  9.497927           1               5         2             \n",
       "2  2.722700           2               3         1             \n",
       "3  5.286429           1               4         1             \n",
       "4  5.204498           1               4         1             \n",
       "5 10.615206           2               5         1             \n",
       "6  5.215541           2               4         1             "
      ]
     },
     "metadata": {},
     "output_type": "display_data"
    }
   ],
   "source": [
    "# Menormalisasikan Nilai Belanja\n",
    "pelanggan$NilaiBelanjaSetahun <- pelanggan$NilaiBelanjaSetahun / 1000000\n",
    "head(pelanggan)"
   ]
  },
  {
   "cell_type": "markdown",
   "metadata": {
    "id": "8eus6j03Z7wM"
   },
   "source": [
    "####Membuat Data Master"
   ]
  },
  {
   "cell_type": "code",
   "execution_count": 15,
   "metadata": {
    "id": "jKielkthaMyc"
   },
   "outputs": [],
   "source": [
    "#Membuat Data Master\n",
    "Profesi <- unique(pelanggan[c(\"Profesi\",\"Profesi.1\")])\n",
    "Jenis.Kelamin <- unique(pelanggan[c(\"Jenis.Kelamin\",\"Jenis.Kelamin.1\")])\n",
    "Tipe.Residen <- unique(pelanggan[c(\"Tipe.Residen\",\"Tipe.Residen.1\")])"
   ]
  },
  {
   "cell_type": "markdown",
   "metadata": {
    "id": "xM_ma0Qd5Xni"
   },
   "source": [
    "####MODELLING\n",
    "Karena kita akan melakukan segmentasi pelanggan, maka kita akan mengclusterkan pelanggan yang dimana membagi pelanggan kedalam beberapa kelompok berdasarkan tingkat kemiripan antara satu pelanggan dengan yang lainnya. DIsini menggunakan algoritma machine learning K-Means untuk mengclusterkan pelanggan."
   ]
  },
  {
   "cell_type": "code",
   "execution_count": 16,
   "metadata": {
    "id": "NZvaH9oP5DUb"
   },
   "outputs": [
    {
     "data": {
      "text/plain": [
       "K-means clustering with 5 clusters of sizes 5, 12, 14, 9, 10\n",
       "\n",
       "Cluster means:\n",
       "  Jenis.Kelamin.1     Umur Profesi.1 Tipe.Residen.1 NilaiBelanjaSetahun\n",
       "1            1.40 61.80000  4.200000       1.400000            8.696132\n",
       "2            1.75 31.58333  3.916667       1.250000            7.330958\n",
       "3            2.00 20.07143  3.571429       1.357143            5.901089\n",
       "4            2.00 42.33333  4.000000       1.555556            8.804791\n",
       "5            1.70 52.50000  3.800000       1.300000            6.018321\n",
       "\n",
       "Clustering vector:\n",
       " [1] 1 3 5 5 4 3 1 5 2 2 5 5 1 1 3 2 2 1 2 3 4 5 2 4 2 5 2 4 5 4 3 4 3 3 4 2 3 4\n",
       "[39] 3 3 3 2 2 3 3 3 5 4 2 5\n",
       "\n",
       "Within cluster sum of squares by cluster:\n",
       "[1]  58.21123 174.85164 316.73367 171.67372 108.49735\n",
       " (between_SS / total_SS =  92.4 %)\n",
       "\n",
       "Available components:\n",
       "\n",
       "[1] \"cluster\"      \"centers\"      \"totss\"        \"withinss\"     \"tot.withinss\"\n",
       "[6] \"betweenss\"    \"size\"         \"iter\"         \"ifault\"      "
      ]
     },
     "metadata": {},
     "output_type": "display_data"
    }
   ],
   "source": [
    "set.seed(100)\n",
    "\n",
    "# Kolom yang digunakan\n",
    "field_yang_digunakan <- c(\"Jenis.Kelamin.1\", \"Umur\", \"Profesi.1\", \"Tipe.Residen.1\", \"NilaiBelanjaSetahun\")\n",
    "\n",
    "segmentasi <- kmeans(x=pelanggan[field_yang_digunakan], centers=5, nstart=25)\n",
    "segmentasi"
   ]
  },
  {
   "cell_type": "markdown",
   "metadata": {
    "id": "hkAF8iDv7Q17"
   },
   "source": [
    "Terdapat 5 kelompok data yang telah dibagi ke dalam klaster berdasarkan beberapa kriteria.\n",
    "\n",
    "Klaster pertama memiliki 5 data dengan rata-rata usia 61 tahun, dimana 40% dari mereka berjenis kelamin pria dan 60% berjenis kelamin wanita. Mayoritas dari kelompok ini adalah profesional atau pekerja swasta, dengan pengeluaran tahunan rata-rata sekitar 8.7 juta.\n",
    "\n",
    "Klaster kedua terdiri dari 12 data dengan rata-rata usia 31 tahun, dimana mayoritas hampir semuanya berjenis kelamin wanita. Mayoritas dari mereka berprofesi sebagai profesional, dengan pengeluaran tahunan rata-rata sekitar 7.3 juta.\n",
    "\n",
    "Klaster ketiga terdiri dari 14 data dengan rata-rata usia 20 tahun dan mayoritas berjenis kelamin wanita. Mayoritas dari mereka adalah pelajar atau profesional, dan mereka menghabiskan rata-rata belanja tahunan hampir mencapai 6 juta.\n",
    "\n",
    "Klaster keempat terdiri dari 9 data dengan rata-rata usia 42 tahun, semuanya berjenis kelamin wanita, mayoritas dari mereka bekerja sebagai profesional, dan mereka memiliki pengeluaran tahunan rata-rata sebesar 8.8 juta.\n",
    "\n",
    "Terakhir, klaster kelima memiliki 10 data dengan rata-rata usia 52 tahun, dimana mayoritas juga berjenis kelamin wanita. Sebagian besar dari kelompok ini berprofesi sebagai profesional dan memiliki pengeluaran tahunan sekitar 6 juta.\n",
    "\n"
   ]
  },
  {
   "cell_type": "markdown",
   "metadata": {
    "id": "AQPRFhiAIW5d"
   },
   "source": [
    "Analisa Hasil Model K Means:\n",
    "*   Berdasarkan cluster, nilai 58.211228098358 adalah SS untuk cluster ke-1, nilai 174.851640331072 adalah SS untuk cluster ke-2, nilai 316.733666810598 adalah SS untuk cluster ke-3, nilai 171.673715890372 adalah SS untuk cluster ke-4, dan nilai 108.497347873209 adalah SS untuk cluster ke-5. Semakin kecil nilainya berpotensi semakin baik.\n",
    "* total_SS: adalah SS untuk seluruh titik terhadap nilai rata-rata global, bukan untuk per cluster. Nilai ini selalu tetap dan tidak terpengaruh dengan jumlah cluster.\n",
    "* between_SS: adalah total_SS dikurangi dengan jumlah nilai SS seluruh cluster.\n",
    "* (between_SS / total_SS) adalah rasio antara between_SS dibagi dengan total_SS. Semakin besar persentasenya, umumnya semakin baik. Karena di sini rasionya cukup besar (92.4%), maka kemungkinan hasilnya akan semakin baik.\n",
    "\n",
    "\n"
   ]
  },
  {
   "cell_type": "code",
   "execution_count": 17,
   "metadata": {
    "id": "17D_Var8MWml"
   },
   "outputs": [
    {
     "data": {
      "text/html": [
       "<style>\n",
       ".list-inline {list-style: none; margin:0; padding: 0}\n",
       ".list-inline>li {display: inline-block}\n",
       ".list-inline>li:not(:last-child)::after {content: \"\\00b7\"; padding: 0 .5ex}\n",
       "</style>\n",
       "<ol class=list-inline><li>10990.9740325902</li><li>3016.56115098999</li><li>1550.87245258579</li><li>1064.4186744681</li><li>829.967599003609</li><li>625.146176215474</li><li>508.156812409351</li><li>431.697737230219</li><li>374.109472124797</li><li>317.942393960025</li></ol>\n"
      ],
      "text/latex": [
       "\\begin{enumerate*}\n",
       "\\item 10990.9740325902\n",
       "\\item 3016.56115098999\n",
       "\\item 1550.87245258579\n",
       "\\item 1064.4186744681\n",
       "\\item 829.967599003609\n",
       "\\item 625.146176215474\n",
       "\\item 508.156812409351\n",
       "\\item 431.697737230219\n",
       "\\item 374.109472124797\n",
       "\\item 317.942393960025\n",
       "\\end{enumerate*}\n"
      ],
      "text/markdown": [
       "1. 10990.9740325902\n",
       "2. 3016.56115098999\n",
       "3. 1550.87245258579\n",
       "4. 1064.4186744681\n",
       "5. 829.967599003609\n",
       "6. 625.146176215474\n",
       "7. 508.156812409351\n",
       "8. 431.697737230219\n",
       "9. 374.109472124797\n",
       "10. 317.942393960025\n",
       "\n",
       "\n"
      ],
      "text/plain": [
       " [1] 10990.9740  3016.5612  1550.8725  1064.4187   829.9676   625.1462\n",
       " [7]   508.1568   431.6977   374.1095   317.9424"
      ]
     },
     "metadata": {},
     "output_type": "display_data"
    }
   ],
   "source": [
    "# Simulasi Jumlah Cluster dan SS\n",
    "sse <- sapply(1:10, function(param_k) {kmeans(pelanggan[field_yang_digunakan], param_k, nstart=25)$tot.withinss})\n",
    "sse"
   ]
  },
  {
   "cell_type": "code",
   "execution_count": 18,
   "metadata": {
    "id": "-WqGW7-wMlaN"
   },
   "outputs": [
    {
     "name": "stderr",
     "output_type": "stream",
     "text": [
      "Warning message:\n",
      "\"\u001b[1m\u001b[22mContinuous limits supplied to discrete scale.\n",
      "\u001b[36mi\u001b[39m Did you mean `limits = factor(...)` or `scale_*_continuous()`?\"\n"
     ]
    },
    {
     "data": {
      "image/png": "[encoded data removed]",
      "text/plain": [
       "plot without title"
      ]
     },
     "metadata": {
      "image/png": {
       "height": 360,
       "width": 720
      }
     },
     "output_type": "display_data"
    }
   ],
   "source": [
    "# Plot Sum of Squared Errors\n",
    "jumlah_cluster_max <- 10\n",
    "ssdata = data.frame(cluster=c(1:jumlah_cluster_max),sse)\n",
    "ggplot(ssdata, aes(x=cluster,y=sse)) +\n",
    "                geom_line(color=\"red\") + geom_point() +\n",
    "                ylab(\"Within Cluster Sum of Squares\") + xlab(\"Jumlah Cluster\") +\n",
    "                geom_text(aes(label=format(round(sse, 2), nsmall = 2)),hjust=-0.2, vjust=-0.5) +\n",
    "  scale_x_discrete(limits=c(1:jumlah_cluster_max))"
   ]
  },
  {
   "cell_type": "markdown",
   "metadata": {
    "id": "Ak0LjlF-M5RV"
   },
   "source": [
    "Dari grafik yang kita hasilkan ini, kita melihat bahwa untuk cluster ke-1 hingga ke-2, penurunan nilai Sum of Squares nya lebih besar dari cluster-cluster lainnya, begitu juga untuk cluster ke 2–3. Namun, saat memasuki cluster 3–4 dan 4–5, penurunan nilai SSE nya tidak terlalu signifikan, sehingga dari grafik ini sudah terlihat jelas bahwa kita bisa memilih 4 atau 5 sebagai jumlah cluster optimal yang bisa kita pilih."
   ]
  },
  {
   "cell_type": "code",
   "execution_count": 19,
   "metadata": {
    "id": "kT04QmmANfuw"
   },
   "outputs": [
    {
     "ename": "ERROR",
     "evalue": "Error in library(cluster): there is no package called 'cluster'\n",
     "output_type": "error",
     "traceback": [
      "Error in library(cluster): there is no package called 'cluster'\nTraceback:\n",
      "1. library(cluster)"
     ]
    }
   ],
   "source": [
    "library(cluster)\n",
    "library(ggplot2)\n",
    "\n",
    "# Simulasi Jumlah Cluster dan SS\n",
    "sse <- sapply(2:10, function(param_k) {\n",
    "  km_model <- kmeans(pelanggan[field_yang_digunakan], param_k, nstart = 25)\n",
    "  km_model$tot.withinss\n",
    "})\n",
    "\n",
    "# Menghitung Silhouette Score\n",
    "silhouette_vals <- vector(mode = \"numeric\", length = 10)\n",
    "for (i in 0:9) {\n",
    "  km_model <- kmeans(pelanggan[field_yang_digunakan], i, nstart = 25)\n",
    "  silhouette_vals[i] <- mean(silhouette(km_model$cluster, dist(pelanggan[field_yang_digunakan])))\n",
    "}\n",
    "\n",
    "# Plot Sum of Squared Errors (SSE)\n",
    "jumlah_cluster_max <- 10\n",
    "ssdata <- data.frame(cluster = 1:jumlah_cluster_max, sse = c(NA, sse))  # Menambahkan NA karena indeks dimulai dari 1\n",
    "plot_sse <- ggplot(ssdata, aes(x = cluster, y = sse)) +\n",
    "  geom_line(color = \"red\") +\n",
    "  geom_point() +\n",
    "  ylab(\"Within Cluster Sum of Squares\") +\n",
    "  xlab(\"Jumlah Cluster\") +\n",
    "  geom_text(aes(label = format(round(sse, 2), nsmall = 2)), hjust = -0.2, vjust = -0.5) +\n",
    "  scale_x_continuous(breaks = seq(1, jumlah_cluster_max, 1))\n",
    "\n",
    "# Plot Silhouette Score\n",
    "plot_silhouette <- ggplot(data.frame(cluster = 2:10, silhouette_score = silhouette_vals), aes(x = cluster, y = silhouette_score)) +\n",
    "  geom_line(color = \"blue\") +\n",
    "  geom_point() +\n",
    "  ylab(\"Silhouette Score\") +\n",
    "  xlab(\"Jumlah Cluster\") +\n",
    "  geom_text(aes(label = format(round(silhouette_score, 2), nsmall = 2)), hjust = -0.2, vjust = -0.5) +\n",
    "  scale_x_continuous(breaks = seq(2, jumlah_cluster_max, 1))\n",
    "\n",
    "# Menampilkan kedua plot dalam satu grid\n",
    "library(gridExtra)\n",
    "grid.arrange(plot_sse, plot_silhouette, nrow = 2)\n"
   ]
  },
  {
   "cell_type": "code",
   "execution_count": 20,
   "metadata": {
    "id": "iqoXpW5eAi-j"
   },
   "outputs": [
    {
     "data": {
      "text/html": [
       "<table class=\"dataframe\">\n",
       "<caption>A data.frame: 6 × 8</caption>\n",
       "<thead>\n",
       "\t<tr><th></th><th scope=col>Customer_ID</th><th scope=col>Nama.Pelanggan</th><th scope=col>Jenis.Kelamin</th><th scope=col>Umur</th><th scope=col>Profesi</th><th scope=col>Tipe.Residen</th><th scope=col>NilaiBelanjaSetahun</th><th scope=col>cluster</th></tr>\n",
       "\t<tr><th></th><th scope=col>&lt;chr&gt;</th><th scope=col>&lt;chr&gt;</th><th scope=col>&lt;chr&gt;</th><th scope=col>&lt;int&gt;</th><th scope=col>&lt;chr&gt;</th><th scope=col>&lt;chr&gt;</th><th scope=col>&lt;dbl&gt;</th><th scope=col>&lt;int&gt;</th></tr>\n",
       "</thead>\n",
       "<tbody>\n",
       "\t<tr><th scope=row>1</th><td>CUST-001</td><td>Budi Anggara       </td><td>Pria  </td><td>58</td><td>Wiraswasta  </td><td>Sector </td><td> 9.497927</td><td>1</td></tr>\n",
       "\t<tr><th scope=row>2</th><td>CUST-002</td><td>Shirley Ratuwati   </td><td>Wanita</td><td>14</td><td>Pelajar     </td><td>Cluster</td><td> 2.722700</td><td>3</td></tr>\n",
       "\t<tr><th scope=row>3</th><td>CUST-003</td><td>Agus Cahyono       </td><td>Pria  </td><td>48</td><td>Professional</td><td>Cluster</td><td> 5.286429</td><td>5</td></tr>\n",
       "\t<tr><th scope=row>4</th><td>CUST-004</td><td>Antonius Winarta   </td><td>Pria  </td><td>53</td><td>Professional</td><td>Cluster</td><td> 5.204498</td><td>5</td></tr>\n",
       "\t<tr><th scope=row>5</th><td>CUST-005</td><td>Ibu Sri Wahyuni, IR</td><td>Wanita</td><td>41</td><td>Wiraswasta  </td><td>Cluster</td><td>10.615206</td><td>4</td></tr>\n",
       "\t<tr><th scope=row>6</th><td>CUST-006</td><td>Rosalina Kurnia    </td><td>Wanita</td><td>24</td><td>Professional</td><td>Cluster</td><td> 5.215541</td><td>3</td></tr>\n",
       "</tbody>\n",
       "</table>\n"
      ],
      "text/latex": [
       "A data.frame: 6 × 8\n",
       "\\begin{tabular}{r|llllllll}\n",
       "  & Customer\\_ID & Nama.Pelanggan & Jenis.Kelamin & Umur & Profesi & Tipe.Residen & NilaiBelanjaSetahun & cluster\\\\\n",
       "  & <chr> & <chr> & <chr> & <int> & <chr> & <chr> & <dbl> & <int>\\\\\n",
       "\\hline\n",
       "\t1 & CUST-001 & Budi Anggara        & Pria   & 58 & Wiraswasta   & Sector  &  9.497927 & 1\\\\\n",
       "\t2 & CUST-002 & Shirley Ratuwati    & Wanita & 14 & Pelajar      & Cluster &  2.722700 & 3\\\\\n",
       "\t3 & CUST-003 & Agus Cahyono        & Pria   & 48 & Professional & Cluster &  5.286429 & 5\\\\\n",
       "\t4 & CUST-004 & Antonius Winarta    & Pria   & 53 & Professional & Cluster &  5.204498 & 5\\\\\n",
       "\t5 & CUST-005 & Ibu Sri Wahyuni, IR & Wanita & 41 & Wiraswasta   & Cluster & 10.615206 & 4\\\\\n",
       "\t6 & CUST-006 & Rosalina Kurnia     & Wanita & 24 & Professional & Cluster &  5.215541 & 3\\\\\n",
       "\\end{tabular}\n"
      ],
      "text/markdown": [
       "\n",
       "A data.frame: 6 × 8\n",
       "\n",
       "| <!--/--> | Customer_ID &lt;chr&gt; | Nama.Pelanggan &lt;chr&gt; | Jenis.Kelamin &lt;chr&gt; | Umur &lt;int&gt; | Profesi &lt;chr&gt; | Tipe.Residen &lt;chr&gt; | NilaiBelanjaSetahun &lt;dbl&gt; | cluster &lt;int&gt; |\n",
       "|---|---|---|---|---|---|---|---|---|\n",
       "| 1 | CUST-001 | Budi Anggara        | Pria   | 58 | Wiraswasta   | Sector  |  9.497927 | 1 |\n",
       "| 2 | CUST-002 | Shirley Ratuwati    | Wanita | 14 | Pelajar      | Cluster |  2.722700 | 3 |\n",
       "| 3 | CUST-003 | Agus Cahyono        | Pria   | 48 | Professional | Cluster |  5.286429 | 5 |\n",
       "| 4 | CUST-004 | Antonius Winarta    | Pria   | 53 | Professional | Cluster |  5.204498 | 5 |\n",
       "| 5 | CUST-005 | Ibu Sri Wahyuni, IR | Wanita | 41 | Wiraswasta   | Cluster | 10.615206 | 4 |\n",
       "| 6 | CUST-006 | Rosalina Kurnia     | Wanita | 24 | Professional | Cluster |  5.215541 | 3 |\n",
       "\n"
      ],
      "text/plain": [
       "  Customer_ID Nama.Pelanggan      Jenis.Kelamin Umur Profesi      Tipe.Residen\n",
       "1 CUST-001    Budi Anggara        Pria          58   Wiraswasta   Sector      \n",
       "2 CUST-002    Shirley Ratuwati    Wanita        14   Pelajar      Cluster     \n",
       "3 CUST-003    Agus Cahyono        Pria          48   Professional Cluster     \n",
       "4 CUST-004    Antonius Winarta    Pria          53   Professional Cluster     \n",
       "5 CUST-005    Ibu Sri Wahyuni, IR Wanita        41   Wiraswasta   Cluster     \n",
       "6 CUST-006    Rosalina Kurnia     Wanita        24   Professional Cluster     \n",
       "  NilaiBelanjaSetahun cluster\n",
       "1  9.497927           1      \n",
       "2  2.722700           3      \n",
       "3  5.286429           5      \n",
       "4  5.204498           5      \n",
       "5 10.615206           4      \n",
       "6  5.215541           3      "
      ]
     },
     "metadata": {},
     "output_type": "display_data"
    }
   ],
   "source": [
    "# Menggabungkan hasil segmentasi ke data utama\n",
    "pelanggan$cluster <- segmentasi$cluster\n",
    "head(pelanggan[c(\"Customer_ID\",\t\"Nama.Pelanggan\",\t\"Jenis.Kelamin\",\t\"Umur\",\t\"Profesi\",\t\"Tipe.Residen\",\t\"NilaiBelanjaSetahun\", \"cluster\")])"
   ]
  },
  {
   "cell_type": "code",
   "execution_count": 21,
   "metadata": {
    "id": "WRStF_MSHLtl"
   },
   "outputs": [
    {
     "data": {
      "text/html": [
       "<table class=\"dataframe\">\n",
       "<caption>A data.frame: 5 × 11</caption>\n",
       "<thead>\n",
       "\t<tr><th></th><th scope=col>Customer_ID</th><th scope=col>Nama.Pelanggan</th><th scope=col>Jenis.Kelamin</th><th scope=col>Umur</th><th scope=col>Profesi</th><th scope=col>Tipe.Residen</th><th scope=col>NilaiBelanjaSetahun</th><th scope=col>Jenis.Kelamin.1</th><th scope=col>Profesi.1</th><th scope=col>Tipe.Residen.1</th><th scope=col>cluster</th></tr>\n",
       "\t<tr><th></th><th scope=col>&lt;chr&gt;</th><th scope=col>&lt;chr&gt;</th><th scope=col>&lt;chr&gt;</th><th scope=col>&lt;int&gt;</th><th scope=col>&lt;chr&gt;</th><th scope=col>&lt;chr&gt;</th><th scope=col>&lt;dbl&gt;</th><th scope=col>&lt;int&gt;</th><th scope=col>&lt;int&gt;</th><th scope=col>&lt;int&gt;</th><th scope=col>&lt;int&gt;</th></tr>\n",
       "</thead>\n",
       "<tbody>\n",
       "\t<tr><th scope=row>1</th><td>CUST-001</td><td>Budi Anggara  </td><td>Pria  </td><td>58</td><td>Wiraswasta      </td><td>Sector </td><td>9.497927</td><td>1</td><td>5</td><td>2</td><td>1</td></tr>\n",
       "\t<tr><th scope=row>7</th><td>CUST-007</td><td>Cahyono, Agus </td><td>Pria  </td><td>64</td><td>Wiraswasta      </td><td>Sector </td><td>9.837260</td><td>1</td><td>5</td><td>2</td><td>1</td></tr>\n",
       "\t<tr><th scope=row>13</th><td>CUST-013</td><td>Cahaya Putri  </td><td>Wanita</td><td>64</td><td>Wiraswasta      </td><td>Cluster</td><td>9.333168</td><td>2</td><td>5</td><td>1</td><td>1</td></tr>\n",
       "\t<tr><th scope=row>14</th><td>CUST-014</td><td>Mario Setiawan</td><td>Pria  </td><td>60</td><td>Wiraswasta      </td><td>Cluster</td><td>9.471615</td><td>1</td><td>5</td><td>1</td><td>1</td></tr>\n",
       "\t<tr><th scope=row>18</th><td>CUST-018</td><td>Nelly Halim   </td><td>Wanita</td><td>63</td><td>Ibu Rumah Tangga</td><td>Cluster</td><td>5.340690</td><td>2</td><td>1</td><td>1</td><td>1</td></tr>\n",
       "</tbody>\n",
       "</table>\n"
      ],
      "text/latex": [
       "A data.frame: 5 × 11\n",
       "\\begin{tabular}{r|lllllllllll}\n",
       "  & Customer\\_ID & Nama.Pelanggan & Jenis.Kelamin & Umur & Profesi & Tipe.Residen & NilaiBelanjaSetahun & Jenis.Kelamin.1 & Profesi.1 & Tipe.Residen.1 & cluster\\\\\n",
       "  & <chr> & <chr> & <chr> & <int> & <chr> & <chr> & <dbl> & <int> & <int> & <int> & <int>\\\\\n",
       "\\hline\n",
       "\t1 & CUST-001 & Budi Anggara   & Pria   & 58 & Wiraswasta       & Sector  & 9.497927 & 1 & 5 & 2 & 1\\\\\n",
       "\t7 & CUST-007 & Cahyono, Agus  & Pria   & 64 & Wiraswasta       & Sector  & 9.837260 & 1 & 5 & 2 & 1\\\\\n",
       "\t13 & CUST-013 & Cahaya Putri   & Wanita & 64 & Wiraswasta       & Cluster & 9.333168 & 2 & 5 & 1 & 1\\\\\n",
       "\t14 & CUST-014 & Mario Setiawan & Pria   & 60 & Wiraswasta       & Cluster & 9.471615 & 1 & 5 & 1 & 1\\\\\n",
       "\t18 & CUST-018 & Nelly Halim    & Wanita & 63 & Ibu Rumah Tangga & Cluster & 5.340690 & 2 & 1 & 1 & 1\\\\\n",
       "\\end{tabular}\n"
      ],
      "text/markdown": [
       "\n",
       "A data.frame: 5 × 11\n",
       "\n",
       "| <!--/--> | Customer_ID &lt;chr&gt; | Nama.Pelanggan &lt;chr&gt; | Jenis.Kelamin &lt;chr&gt; | Umur &lt;int&gt; | Profesi &lt;chr&gt; | Tipe.Residen &lt;chr&gt; | NilaiBelanjaSetahun &lt;dbl&gt; | Jenis.Kelamin.1 &lt;int&gt; | Profesi.1 &lt;int&gt; | Tipe.Residen.1 &lt;int&gt; | cluster &lt;int&gt; |\n",
       "|---|---|---|---|---|---|---|---|---|---|---|---|\n",
       "| 1 | CUST-001 | Budi Anggara   | Pria   | 58 | Wiraswasta       | Sector  | 9.497927 | 1 | 5 | 2 | 1 |\n",
       "| 7 | CUST-007 | Cahyono, Agus  | Pria   | 64 | Wiraswasta       | Sector  | 9.837260 | 1 | 5 | 2 | 1 |\n",
       "| 13 | CUST-013 | Cahaya Putri   | Wanita | 64 | Wiraswasta       | Cluster | 9.333168 | 2 | 5 | 1 | 1 |\n",
       "| 14 | CUST-014 | Mario Setiawan | Pria   | 60 | Wiraswasta       | Cluster | 9.471615 | 1 | 5 | 1 | 1 |\n",
       "| 18 | CUST-018 | Nelly Halim    | Wanita | 63 | Ibu Rumah Tangga | Cluster | 5.340690 | 2 | 1 | 1 | 1 |\n",
       "\n"
      ],
      "text/plain": [
       "   Customer_ID Nama.Pelanggan Jenis.Kelamin Umur Profesi          Tipe.Residen\n",
       "1  CUST-001    Budi Anggara   Pria          58   Wiraswasta       Sector      \n",
       "7  CUST-007    Cahyono, Agus  Pria          64   Wiraswasta       Sector      \n",
       "13 CUST-013    Cahaya Putri   Wanita        64   Wiraswasta       Cluster     \n",
       "14 CUST-014    Mario Setiawan Pria          60   Wiraswasta       Cluster     \n",
       "18 CUST-018    Nelly Halim    Wanita        63   Ibu Rumah Tangga Cluster     \n",
       "   NilaiBelanjaSetahun Jenis.Kelamin.1 Profesi.1 Tipe.Residen.1 cluster\n",
       "1  9.497927            1               5         2              1      \n",
       "7  9.837260            1               5         2              1      \n",
       "13 9.333168            2               5         1              1      \n",
       "14 9.471615            1               5         1              1      \n",
       "18 5.340690            2               1         1              1      "
      ]
     },
     "metadata": {},
     "output_type": "display_data"
    }
   ],
   "source": [
    "# Melihat data pada cluster ke (Misal cluster 1)\n",
    "pelanggan[which(pelanggan$cluster == 1),]"
   ]
  },
  {
   "cell_type": "markdown",
   "metadata": {
    "id": "-WZJsuRMGf1d"
   },
   "source": [
    "#### Memberi nama segmen\n",
    "\n",
    "Cluster 1 : Diamond Senior Member: alasannya adalah karena umurnya rata-rata adalah 61 tahun dan pembelanjaan di atas 8 juta.\n",
    "\n",
    "Cluster 2 : Gold Young Professional: alasannya adalah karena umurnya rata-rata adalah 31 tahun, professional dan pembelanjaan cukup besar.\n",
    "\n",
    "Cluster 3 : Silver Youth Gals: alasannya adalah karena umurnya rata-rata adalah 20, wanita semua, profesinya bercampur antar pelajar dan professional serta pembelanjaan sekitar 6 juta.\n",
    "\n",
    "Cluster 4 : Diamond Profesional: alasannya adalah karena umurnya rata-rata adalah 42 tahun, pembelanjaan paling tinggi dan semuanya berprofesi professional.\n",
    "\n",
    "Cluster 5 : Silver Mid Professional: alasannya adalah karena umurnya rata-rata adalah 52 tahun dan pembelanjaan sekitar 6 juta.\n"
   ]
  },
  {
   "cell_type": "code",
   "execution_count": 22,
   "metadata": {
    "id": "3hfL3xnkGW6k"
   },
   "outputs": [
    {
     "data": {
      "text/html": [
       "<table class=\"dataframe\">\n",
       "<caption>A data.frame: 5 × 2</caption>\n",
       "<thead>\n",
       "\t<tr><th scope=col>cluster</th><th scope=col>Nama.Segmen</th></tr>\n",
       "\t<tr><th scope=col>&lt;dbl&gt;</th><th scope=col>&lt;chr&gt;</th></tr>\n",
       "</thead>\n",
       "<tbody>\n",
       "\t<tr><td>1</td><td>Diamond Senior Member  </td></tr>\n",
       "\t<tr><td>2</td><td>Gold Young Professional</td></tr>\n",
       "\t<tr><td>3</td><td>Silver Youth Gals      </td></tr>\n",
       "\t<tr><td>4</td><td>Diamond Professional   </td></tr>\n",
       "\t<tr><td>5</td><td>Silver Mid Professional</td></tr>\n",
       "</tbody>\n",
       "</table>\n"
      ],
      "text/latex": [
       "A data.frame: 5 × 2\n",
       "\\begin{tabular}{ll}\n",
       " cluster & Nama.Segmen\\\\\n",
       " <dbl> & <chr>\\\\\n",
       "\\hline\n",
       "\t 1 & Diamond Senior Member  \\\\\n",
       "\t 2 & Gold Young Professional\\\\\n",
       "\t 3 & Silver Youth Gals      \\\\\n",
       "\t 4 & Diamond Professional   \\\\\n",
       "\t 5 & Silver Mid Professional\\\\\n",
       "\\end{tabular}\n"
      ],
      "text/markdown": [
       "\n",
       "A data.frame: 5 × 2\n",
       "\n",
       "| cluster &lt;dbl&gt; | Nama.Segmen &lt;chr&gt; |\n",
       "|---|---|\n",
       "| 1 | Diamond Senior Member   |\n",
       "| 2 | Gold Young Professional |\n",
       "| 3 | Silver Youth Gals       |\n",
       "| 4 | Diamond Professional    |\n",
       "| 5 | Silver Mid Professional |\n",
       "\n"
      ],
      "text/plain": [
       "  cluster Nama.Segmen            \n",
       "1 1       Diamond Senior Member  \n",
       "2 2       Gold Young Professional\n",
       "3 3       Silver Youth Gals      \n",
       "4 4       Diamond Professional   \n",
       "5 5       Silver Mid Professional"
      ]
     },
     "metadata": {},
     "output_type": "display_data"
    }
   ],
   "source": [
    "# Memberi nama segmen\n",
    "Segmen.Pelanggan <- data.frame(cluster = c(1, 2, 3, 4, 5),\n",
    "                                Nama.Segmen = c(\"Diamond Senior Member\",\n",
    "                                                \"Gold Young Professional\",\n",
    "                                                \"Silver Youth Gals\",\n",
    "                                                \"Diamond Professional\",\n",
    "                                                \"Silver Mid Professional\"))\n",
    "Segmen.Pelanggan"
   ]
  },
  {
   "cell_type": "code",
   "execution_count": 23,
   "metadata": {
    "id": "DOyI2mIqIE7j"
   },
   "outputs": [],
   "source": [
    "#Menggabungkan seluruh aset ke dalam variable Identitas.Cluster\n",
    "Identitas.Cluster <- list(Profesi=Profesi, Jenis.Kelamin=Jenis.Kelamin,\n",
    "                          Tipe.Residen=Tipe.Residen, Segmentasi=segmentasi,\n",
    "                          Segmen.Pelanggan=Segmen.Pelanggan,\n",
    "                          field_yang_digunakan=field_yang_digunakan)"
   ]
  },
  {
   "cell_type": "code",
   "execution_count": 24,
   "metadata": {
    "id": "wGnKaBWUMWN4"
   },
   "outputs": [],
   "source": [
    "# Menyimpan Objek dalam Bentuk File\n",
    "saveRDS(Identitas.Cluster, \"cluster.rds\")"
   ]
  },
  {
   "cell_type": "markdown",
   "metadata": {
    "id": "jQ3k6rHRKhtS"
   },
   "source": [
    "### Mengoperasionalkan Model K-Means"
   ]
  },
  {
   "cell_type": "code",
   "execution_count": 25,
   "metadata": {
    "id": "iz372YDuC5DE"
   },
   "outputs": [
    {
     "data": {
      "text/html": [
       "<table class=\"dataframe\">\n",
       "<caption>A data.frame: 1 × 7</caption>\n",
       "<thead>\n",
       "\t<tr><th scope=col>Customer_ID</th><th scope=col>Nama.Pelanggan</th><th scope=col>Umur</th><th scope=col>Jenis.Kelamin</th><th scope=col>Profesi</th><th scope=col>Tipe.Residen</th><th scope=col>NilaiBelanjaSetahun</th></tr>\n",
       "\t<tr><th scope=col>&lt;chr&gt;</th><th scope=col>&lt;chr&gt;</th><th scope=col>&lt;dbl&gt;</th><th scope=col>&lt;chr&gt;</th><th scope=col>&lt;chr&gt;</th><th scope=col>&lt;chr&gt;</th><th scope=col>&lt;dbl&gt;</th></tr>\n",
       "</thead>\n",
       "<tbody>\n",
       "\t<tr><td>CUST-100</td><td>Rudi Wilamar</td><td>20</td><td>Pria</td><td>Pelajar</td><td>Cluster</td><td>3.5</td></tr>\n",
       "</tbody>\n",
       "</table>\n"
      ],
      "text/latex": [
       "A data.frame: 1 × 7\n",
       "\\begin{tabular}{lllllll}\n",
       " Customer\\_ID & Nama.Pelanggan & Umur & Jenis.Kelamin & Profesi & Tipe.Residen & NilaiBelanjaSetahun\\\\\n",
       " <chr> & <chr> & <dbl> & <chr> & <chr> & <chr> & <dbl>\\\\\n",
       "\\hline\n",
       "\t CUST-100 & Rudi Wilamar & 20 & Pria & Pelajar & Cluster & 3.5\\\\\n",
       "\\end{tabular}\n"
      ],
      "text/markdown": [
       "\n",
       "A data.frame: 1 × 7\n",
       "\n",
       "| Customer_ID &lt;chr&gt; | Nama.Pelanggan &lt;chr&gt; | Umur &lt;dbl&gt; | Jenis.Kelamin &lt;chr&gt; | Profesi &lt;chr&gt; | Tipe.Residen &lt;chr&gt; | NilaiBelanjaSetahun &lt;dbl&gt; |\n",
       "|---|---|---|---|---|---|---|\n",
       "| CUST-100 | Rudi Wilamar | 20 | Pria | Pelajar | Cluster | 3.5 |\n",
       "\n"
      ],
      "text/plain": [
       "  Customer_ID Nama.Pelanggan Umur Jenis.Kelamin Profesi Tipe.Residen\n",
       "1 CUST-100    Rudi Wilamar   20   Pria          Pelajar Cluster     \n",
       "  NilaiBelanjaSetahun\n",
       "1 3.5                "
      ]
     },
     "metadata": {},
     "output_type": "display_data"
    }
   ],
   "source": [
    "# Data Baru\n",
    "databaru <- data.frame(Customer_ID=\"CUST-100\",\n",
    "                       Nama.Pelanggan=\"Rudi Wilamar\",\n",
    "                       Umur=20,\n",
    "                       Jenis.Kelamin=\"Pria\",\n",
    "                       Profesi=\"Pelajar\",\n",
    "                       Tipe.Residen=\"Cluster\",\n",
    "                       NilaiBelanjaSetahun=3.5)\n",
    "databaru"
   ]
  },
  {
   "cell_type": "code",
   "execution_count": 26,
   "metadata": {
    "id": "TySUuqLNM-WK"
   },
   "outputs": [
    {
     "data": {
      "text/plain": [
       "$Profesi\n",
       "            Profesi Profesi.1\n",
       "1        Wiraswasta         5\n",
       "2           Pelajar         3\n",
       "3      Professional         4\n",
       "17 Ibu Rumah Tangga         1\n",
       "31        Mahasiswa         2\n",
       "\n",
       "$Jenis.Kelamin\n",
       "  Jenis.Kelamin Jenis.Kelamin.1\n",
       "1          Pria               1\n",
       "2        Wanita               2\n",
       "\n",
       "$Tipe.Residen\n",
       "  Tipe.Residen Tipe.Residen.1\n",
       "1       Sector              2\n",
       "2      Cluster              1\n",
       "\n",
       "$Segmentasi\n",
       "K-means clustering with 5 clusters of sizes 5, 12, 14, 9, 10\n",
       "\n",
       "Cluster means:\n",
       "  Jenis.Kelamin.1     Umur Profesi.1 Tipe.Residen.1 NilaiBelanjaSetahun\n",
       "1            1.40 61.80000  4.200000       1.400000            8.696132\n",
       "2            1.75 31.58333  3.916667       1.250000            7.330958\n",
       "3            2.00 20.07143  3.571429       1.357143            5.901089\n",
       "4            2.00 42.33333  4.000000       1.555556            8.804791\n",
       "5            1.70 52.50000  3.800000       1.300000            6.018321\n",
       "\n",
       "Clustering vector:\n",
       " [1] 1 3 5 5 4 3 1 5 2 2 5 5 1 1 3 2 2 1 2 3 4 5 2 4 2 5 2 4 5 4 3 4 3 3 4 2 3 4\n",
       "[39] 3 3 3 2 2 3 3 3 5 4 2 5\n",
       "\n",
       "Within cluster sum of squares by cluster:\n",
       "[1]  58.21123 174.85164 316.73367 171.67372 108.49735\n",
       " (between_SS / total_SS =  92.4 %)\n",
       "\n",
       "Available components:\n",
       "\n",
       "[1] \"cluster\"      \"centers\"      \"totss\"        \"withinss\"     \"tot.withinss\"\n",
       "[6] \"betweenss\"    \"size\"         \"iter\"         \"ifault\"      \n",
       "\n",
       "$Segmen.Pelanggan\n",
       "  cluster             Nama.Segmen\n",
       "1       1   Diamond Senior Member\n",
       "2       2 Gold Young Professional\n",
       "3       3       Silver Youth Gals\n",
       "4       4    Diamond Professional\n",
       "5       5 Silver Mid Professional\n",
       "\n",
       "$field_yang_digunakan\n",
       "[1] \"Jenis.Kelamin.1\"     \"Umur\"                \"Profesi.1\"          \n",
       "[4] \"Tipe.Residen.1\"      \"NilaiBelanjaSetahun\"\n"
      ]
     },
     "metadata": {},
     "output_type": "display_data"
    }
   ],
   "source": [
    "# Memuat Objek Clustering dari File\n",
    "Identitas.Cluster <- readRDS(file=\"cluster.rds\")\n",
    "Identitas.Cluster"
   ]
  },
  {
   "cell_type": "code",
   "execution_count": 27,
   "metadata": {
    "id": "6EEUAHrFN7KV"
   },
   "outputs": [
    {
     "data": {
      "text/html": [
       "<table class=\"dataframe\">\n",
       "<caption>A data.frame: 1 × 10</caption>\n",
       "<thead>\n",
       "\t<tr><th scope=col>Tipe.Residen</th><th scope=col>Jenis.Kelamin</th><th scope=col>Profesi</th><th scope=col>Customer_ID</th><th scope=col>Nama.Pelanggan</th><th scope=col>Umur</th><th scope=col>NilaiBelanjaSetahun</th><th scope=col>Profesi.1</th><th scope=col>Jenis.Kelamin.1</th><th scope=col>Tipe.Residen.1</th></tr>\n",
       "\t<tr><th scope=col>&lt;chr&gt;</th><th scope=col>&lt;chr&gt;</th><th scope=col>&lt;chr&gt;</th><th scope=col>&lt;chr&gt;</th><th scope=col>&lt;chr&gt;</th><th scope=col>&lt;dbl&gt;</th><th scope=col>&lt;dbl&gt;</th><th scope=col>&lt;int&gt;</th><th scope=col>&lt;int&gt;</th><th scope=col>&lt;int&gt;</th></tr>\n",
       "</thead>\n",
       "<tbody>\n",
       "\t<tr><td>Cluster</td><td>Pria</td><td>Pelajar</td><td>CUST-100</td><td>Rudi Wilamar</td><td>20</td><td>3.5</td><td>3</td><td>1</td><td>1</td></tr>\n",
       "</tbody>\n",
       "</table>\n"
      ],
      "text/latex": [
       "A data.frame: 1 × 10\n",
       "\\begin{tabular}{llllllllll}\n",
       " Tipe.Residen & Jenis.Kelamin & Profesi & Customer\\_ID & Nama.Pelanggan & Umur & NilaiBelanjaSetahun & Profesi.1 & Jenis.Kelamin.1 & Tipe.Residen.1\\\\\n",
       " <chr> & <chr> & <chr> & <chr> & <chr> & <dbl> & <dbl> & <int> & <int> & <int>\\\\\n",
       "\\hline\n",
       "\t Cluster & Pria & Pelajar & CUST-100 & Rudi Wilamar & 20 & 3.5 & 3 & 1 & 1\\\\\n",
       "\\end{tabular}\n"
      ],
      "text/markdown": [
       "\n",
       "A data.frame: 1 × 10\n",
       "\n",
       "| Tipe.Residen &lt;chr&gt; | Jenis.Kelamin &lt;chr&gt; | Profesi &lt;chr&gt; | Customer_ID &lt;chr&gt; | Nama.Pelanggan &lt;chr&gt; | Umur &lt;dbl&gt; | NilaiBelanjaSetahun &lt;dbl&gt; | Profesi.1 &lt;int&gt; | Jenis.Kelamin.1 &lt;int&gt; | Tipe.Residen.1 &lt;int&gt; |\n",
       "|---|---|---|---|---|---|---|---|---|---|\n",
       "| Cluster | Pria | Pelajar | CUST-100 | Rudi Wilamar | 20 | 3.5 | 3 | 1 | 1 |\n",
       "\n"
      ],
      "text/plain": [
       "  Tipe.Residen Jenis.Kelamin Profesi Customer_ID Nama.Pelanggan Umur\n",
       "1 Cluster      Pria          Pelajar CUST-100    Rudi Wilamar   20  \n",
       "  NilaiBelanjaSetahun Profesi.1 Jenis.Kelamin.1 Tipe.Residen.1\n",
       "1 3.5                 3         1               1             "
      ]
     },
     "metadata": {},
     "output_type": "display_data"
    }
   ],
   "source": [
    "# Merge dengan Data Referensi\n",
    "databaru <- merge(databaru, Identitas.Cluster$Profesi)\n",
    "databaru <- merge(databaru, Identitas.Cluster$Jenis.Kelamin)\n",
    "databaru <- merge(databaru, Identitas.Cluster$Tipe.Residen)\n",
    "databaru"
   ]
  },
  {
   "cell_type": "code",
   "execution_count": 28,
   "metadata": {
    "id": "0UpkOrqFcLVH"
   },
   "outputs": [
    {
     "data": {
      "text/html": [
       "3"
      ],
      "text/latex": [
       "3"
      ],
      "text/markdown": [
       "3"
      ],
      "text/plain": [
       "[1] 3"
      ]
     },
     "metadata": {},
     "output_type": "display_data"
    },
    {
     "data": {
      "text/html": [
       "<table class=\"dataframe\">\n",
       "<caption>A data.frame: 1 × 2</caption>\n",
       "<thead>\n",
       "\t<tr><th></th><th scope=col>cluster</th><th scope=col>Nama.Segmen</th></tr>\n",
       "\t<tr><th></th><th scope=col>&lt;dbl&gt;</th><th scope=col>&lt;chr&gt;</th></tr>\n",
       "</thead>\n",
       "<tbody>\n",
       "\t<tr><th scope=row>3</th><td>3</td><td>Silver Youth Gals</td></tr>\n",
       "</tbody>\n",
       "</table>\n"
      ],
      "text/latex": [
       "A data.frame: 1 × 2\n",
       "\\begin{tabular}{r|ll}\n",
       "  & cluster & Nama.Segmen\\\\\n",
       "  & <dbl> & <chr>\\\\\n",
       "\\hline\n",
       "\t3 & 3 & Silver Youth Gals\\\\\n",
       "\\end{tabular}\n"
      ],
      "text/markdown": [
       "\n",
       "A data.frame: 1 × 2\n",
       "\n",
       "| <!--/--> | cluster &lt;dbl&gt; | Nama.Segmen &lt;chr&gt; |\n",
       "|---|---|---|\n",
       "| 3 | 3 | Silver Youth Gals |\n",
       "\n"
      ],
      "text/plain": [
       "  cluster Nama.Segmen      \n",
       "3 3       Silver Youth Gals"
      ]
     },
     "metadata": {},
     "output_type": "display_data"
    }
   ],
   "source": [
    "#menentukan data baru di cluster mana\n",
    "\n",
    "which.min(sapply( 1:5, function( x ) sum( (\n",
    "  databaru[Identitas.Cluster$field_yang_digunakan] -\n",
    "      Identitas.Cluster$Segmentasi$centers[x,])^2 ) ))\n",
    "      Identitas.Cluster$Segmen.Pelanggan[which.min(sapply( 1:5, function( x )\n",
    "        sum( ( databaru\n",
    "                 [Identitas.Cluster$field_yang_digunakan] -\n",
    "                            Identitas.Cluster$Segmentasi$centers[x,])^2\n",
    "                              ) )),]"
   ]
  },
  {
   "cell_type": "markdown",
   "metadata": {
    "id": "0GGlZsVRPwCk"
   },
   "source": [
    "Data baru yang telah masuk ternyata masuk ke dalam kelompok Silver Youth Gals"
   ]
  },
  {
   "cell_type": "markdown",
   "metadata": {
    "id": "A2rGcb10QWpe"
   },
   "source": []
  },
  {
   "cell_type": "code",
   "execution_count": null,
   "metadata": {},
   "outputs": [],
   "source": []
  }
 ],
 "metadata": {
  "colab": {
   "private_outputs": true,
   "provenance": []
  },
  "kernelspec": {
   "display_name": "R",
   "language": "R",
   "name": "ir"
  },
  "language_info": {
   "codemirror_mode": "r",
   "file_extension": ".r",
   "mimetype": "text/x-r-source",
   "name": "R",
   "pygments_lexer": "r",
   "version": "4.1.3"
  }
 },
 "nbformat": 4,
 "nbformat_minor": 1
}
